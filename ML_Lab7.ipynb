{
  "nbformat": 4,
  "nbformat_minor": 0,
  "metadata": {
    "colab": {
      "name": "ML_Lab7.ipynb",
      "provenance": [],
      "authorship_tag": "ABX9TyNByJmxkpGNhw+QLg7xUNI9",
      "include_colab_link": true
    },
    "kernelspec": {
      "name": "python3",
      "display_name": "Python 3"
    }
  },
  "cells": [
    {
      "cell_type": "markdown",
      "metadata": {
        "id": "view-in-github",
        "colab_type": "text"
      },
      "source": [
        "<a href=\"https://colab.research.google.com/github/Jash-Bhatia/Machine_Learning/blob/master/ML_Lab7.ipynb\" target=\"_parent\"><img src=\"https://colab.research.google.com/assets/colab-badge.svg\" alt=\"Open In Colab\"/></a>"
      ]
    },
    {
      "cell_type": "code",
      "metadata": {
        "id": "fXzOXihYpSgH",
        "colab_type": "code",
        "colab": {
          "base_uri": "https://localhost:8080/",
          "height": 71
        },
        "outputId": "2db5c945-58c4-49f8-cb45-0e21ebc6dae4"
      },
      "source": [
        "import numpy as np\n",
        "import pandas as pd\n",
        "import matplotlib.pyplot as plt\n",
        "import seaborn as sns"
      ],
      "execution_count": 1,
      "outputs": [
        {
          "output_type": "stream",
          "text": [
            "/usr/local/lib/python3.6/dist-packages/statsmodels/tools/_testing.py:19: FutureWarning: pandas.util.testing is deprecated. Use the functions in the public API at pandas.testing instead.\n",
            "  import pandas.util.testing as tm\n"
          ],
          "name": "stderr"
        }
      ]
    },
    {
      "cell_type": "code",
      "metadata": {
        "id": "IQBztGlqpSe2",
        "colab_type": "code",
        "colab": {}
      },
      "source": [
        "from keras import models\n",
        "from keras import layers\n",
        "from keras.utils import to_categorical"
      ],
      "execution_count": 2,
      "outputs": []
    },
    {
      "cell_type": "code",
      "metadata": {
        "id": "AkLbW-bdpUic",
        "colab_type": "code",
        "colab": {}
      },
      "source": [
        "from sklearn.datasets import fetch_covtype, fetch_kddcup99, fetch_lfw_pairs, fetch_lfw_people, fetch_olivetti_faces\n",
        "from sklearn.datasets import fetch_rcv1, load_breast_cancer, load_digits, load_wine\n",
        "\n",
        "from sklearn.model_selection import train_test_split\n",
        "from sklearn.preprocessing import StandardScaler, LabelEncoder"
      ],
      "execution_count": 3,
      "outputs": []
    },
    {
      "cell_type": "markdown",
      "metadata": {
        "id": "W7YqEFPWIdZW",
        "colab_type": "text"
      },
      "source": [
        "# Breast Cancer Dataset\n"
      ]
    },
    {
      "cell_type": "code",
      "metadata": {
        "id": "2jBlJf4opUf_",
        "colab_type": "code",
        "colab": {
          "base_uri": "https://localhost:8080/",
          "height": 921
        },
        "outputId": "4bb14151-213c-4f4e-e035-028d1eeb6bf5"
      },
      "source": [
        "dataraw1 = load_breast_cancer()\n",
        "dataraw1"
      ],
      "execution_count": 4,
      "outputs": [
        {
          "output_type": "execute_result",
          "data": {
            "text/plain": [
              "{'DESCR': '.. _breast_cancer_dataset:\\n\\nBreast cancer wisconsin (diagnostic) dataset\\n--------------------------------------------\\n\\n**Data Set Characteristics:**\\n\\n    :Number of Instances: 569\\n\\n    :Number of Attributes: 30 numeric, predictive attributes and the class\\n\\n    :Attribute Information:\\n        - radius (mean of distances from center to points on the perimeter)\\n        - texture (standard deviation of gray-scale values)\\n        - perimeter\\n        - area\\n        - smoothness (local variation in radius lengths)\\n        - compactness (perimeter^2 / area - 1.0)\\n        - concavity (severity of concave portions of the contour)\\n        - concave points (number of concave portions of the contour)\\n        - symmetry \\n        - fractal dimension (\"coastline approximation\" - 1)\\n\\n        The mean, standard error, and \"worst\" or largest (mean of the three\\n        largest values) of these features were computed for each image,\\n        resulting in 30 features.  For instance, field 3 is Mean Radius, field\\n        13 is Radius SE, field 23 is Worst Radius.\\n\\n        - class:\\n                - WDBC-Malignant\\n                - WDBC-Benign\\n\\n    :Summary Statistics:\\n\\n    ===================================== ====== ======\\n                                           Min    Max\\n    ===================================== ====== ======\\n    radius (mean):                        6.981  28.11\\n    texture (mean):                       9.71   39.28\\n    perimeter (mean):                     43.79  188.5\\n    area (mean):                          143.5  2501.0\\n    smoothness (mean):                    0.053  0.163\\n    compactness (mean):                   0.019  0.345\\n    concavity (mean):                     0.0    0.427\\n    concave points (mean):                0.0    0.201\\n    symmetry (mean):                      0.106  0.304\\n    fractal dimension (mean):             0.05   0.097\\n    radius (standard error):              0.112  2.873\\n    texture (standard error):             0.36   4.885\\n    perimeter (standard error):           0.757  21.98\\n    area (standard error):                6.802  542.2\\n    smoothness (standard error):          0.002  0.031\\n    compactness (standard error):         0.002  0.135\\n    concavity (standard error):           0.0    0.396\\n    concave points (standard error):      0.0    0.053\\n    symmetry (standard error):            0.008  0.079\\n    fractal dimension (standard error):   0.001  0.03\\n    radius (worst):                       7.93   36.04\\n    texture (worst):                      12.02  49.54\\n    perimeter (worst):                    50.41  251.2\\n    area (worst):                         185.2  4254.0\\n    smoothness (worst):                   0.071  0.223\\n    compactness (worst):                  0.027  1.058\\n    concavity (worst):                    0.0    1.252\\n    concave points (worst):               0.0    0.291\\n    symmetry (worst):                     0.156  0.664\\n    fractal dimension (worst):            0.055  0.208\\n    ===================================== ====== ======\\n\\n    :Missing Attribute Values: None\\n\\n    :Class Distribution: 212 - Malignant, 357 - Benign\\n\\n    :Creator:  Dr. William H. Wolberg, W. Nick Street, Olvi L. Mangasarian\\n\\n    :Donor: Nick Street\\n\\n    :Date: November, 1995\\n\\nThis is a copy of UCI ML Breast Cancer Wisconsin (Diagnostic) datasets.\\nhttps://goo.gl/U2Uwz2\\n\\nFeatures are computed from a digitized image of a fine needle\\naspirate (FNA) of a breast mass.  They describe\\ncharacteristics of the cell nuclei present in the image.\\n\\nSeparating plane described above was obtained using\\nMultisurface Method-Tree (MSM-T) [K. P. Bennett, \"Decision Tree\\nConstruction Via Linear Programming.\" Proceedings of the 4th\\nMidwest Artificial Intelligence and Cognitive Science Society,\\npp. 97-101, 1992], a classification method which uses linear\\nprogramming to construct a decision tree.  Relevant features\\nwere selected using an exhaustive search in the space of 1-4\\nfeatures and 1-3 separating planes.\\n\\nThe actual linear program used to obtain the separating plane\\nin the 3-dimensional space is that described in:\\n[K. P. Bennett and O. L. Mangasarian: \"Robust Linear\\nProgramming Discrimination of Two Linearly Inseparable Sets\",\\nOptimization Methods and Software 1, 1992, 23-34].\\n\\nThis database is also available through the UW CS ftp server:\\n\\nftp ftp.cs.wisc.edu\\ncd math-prog/cpo-dataset/machine-learn/WDBC/\\n\\n.. topic:: References\\n\\n   - W.N. Street, W.H. Wolberg and O.L. Mangasarian. Nuclear feature extraction \\n     for breast tumor diagnosis. IS&T/SPIE 1993 International Symposium on \\n     Electronic Imaging: Science and Technology, volume 1905, pages 861-870,\\n     San Jose, CA, 1993.\\n   - O.L. Mangasarian, W.N. Street and W.H. Wolberg. Breast cancer diagnosis and \\n     prognosis via linear programming. Operations Research, 43(4), pages 570-577, \\n     July-August 1995.\\n   - W.H. Wolberg, W.N. Street, and O.L. Mangasarian. Machine learning techniques\\n     to diagnose breast cancer from fine-needle aspirates. Cancer Letters 77 (1994) \\n     163-171.',\n",
              " 'data': array([[1.799e+01, 1.038e+01, 1.228e+02, ..., 2.654e-01, 4.601e-01,\n",
              "         1.189e-01],\n",
              "        [2.057e+01, 1.777e+01, 1.329e+02, ..., 1.860e-01, 2.750e-01,\n",
              "         8.902e-02],\n",
              "        [1.969e+01, 2.125e+01, 1.300e+02, ..., 2.430e-01, 3.613e-01,\n",
              "         8.758e-02],\n",
              "        ...,\n",
              "        [1.660e+01, 2.808e+01, 1.083e+02, ..., 1.418e-01, 2.218e-01,\n",
              "         7.820e-02],\n",
              "        [2.060e+01, 2.933e+01, 1.401e+02, ..., 2.650e-01, 4.087e-01,\n",
              "         1.240e-01],\n",
              "        [7.760e+00, 2.454e+01, 4.792e+01, ..., 0.000e+00, 2.871e-01,\n",
              "         7.039e-02]]),\n",
              " 'feature_names': array(['mean radius', 'mean texture', 'mean perimeter', 'mean area',\n",
              "        'mean smoothness', 'mean compactness', 'mean concavity',\n",
              "        'mean concave points', 'mean symmetry', 'mean fractal dimension',\n",
              "        'radius error', 'texture error', 'perimeter error', 'area error',\n",
              "        'smoothness error', 'compactness error', 'concavity error',\n",
              "        'concave points error', 'symmetry error',\n",
              "        'fractal dimension error', 'worst radius', 'worst texture',\n",
              "        'worst perimeter', 'worst area', 'worst smoothness',\n",
              "        'worst compactness', 'worst concavity', 'worst concave points',\n",
              "        'worst symmetry', 'worst fractal dimension'], dtype='<U23'),\n",
              " 'filename': '/usr/local/lib/python3.6/dist-packages/sklearn/datasets/data/breast_cancer.csv',\n",
              " 'target': array([0, 0, 0, 0, 0, 0, 0, 0, 0, 0, 0, 0, 0, 0, 0, 0, 0, 0, 0, 1, 1, 1,\n",
              "        0, 0, 0, 0, 0, 0, 0, 0, 0, 0, 0, 0, 0, 0, 0, 1, 0, 0, 0, 0, 0, 0,\n",
              "        0, 0, 1, 0, 1, 1, 1, 1, 1, 0, 0, 1, 0, 0, 1, 1, 1, 1, 0, 1, 0, 0,\n",
              "        1, 1, 1, 1, 0, 1, 0, 0, 1, 0, 1, 0, 0, 1, 1, 1, 0, 0, 1, 0, 0, 0,\n",
              "        1, 1, 1, 0, 1, 1, 0, 0, 1, 1, 1, 0, 0, 1, 1, 1, 1, 0, 1, 1, 0, 1,\n",
              "        1, 1, 1, 1, 1, 1, 1, 0, 0, 0, 1, 0, 0, 1, 1, 1, 0, 0, 1, 0, 1, 0,\n",
              "        0, 1, 0, 0, 1, 1, 0, 1, 1, 0, 1, 1, 1, 1, 0, 1, 1, 1, 1, 1, 1, 1,\n",
              "        1, 1, 0, 1, 1, 1, 1, 0, 0, 1, 0, 1, 1, 0, 0, 1, 1, 0, 0, 1, 1, 1,\n",
              "        1, 0, 1, 1, 0, 0, 0, 1, 0, 1, 0, 1, 1, 1, 0, 1, 1, 0, 0, 1, 0, 0,\n",
              "        0, 0, 1, 0, 0, 0, 1, 0, 1, 0, 1, 1, 0, 1, 0, 0, 0, 0, 1, 1, 0, 0,\n",
              "        1, 1, 1, 0, 1, 1, 1, 1, 1, 0, 0, 1, 1, 0, 1, 1, 0, 0, 1, 0, 1, 1,\n",
              "        1, 1, 0, 1, 1, 1, 1, 1, 0, 1, 0, 0, 0, 0, 0, 0, 0, 0, 0, 0, 0, 0,\n",
              "        0, 0, 1, 1, 1, 1, 1, 1, 0, 1, 0, 1, 1, 0, 1, 1, 0, 1, 0, 0, 1, 1,\n",
              "        1, 1, 1, 1, 1, 1, 1, 1, 1, 1, 1, 0, 1, 1, 0, 1, 0, 1, 1, 1, 1, 1,\n",
              "        1, 1, 1, 1, 1, 1, 1, 1, 1, 0, 1, 1, 1, 0, 1, 0, 1, 1, 1, 1, 0, 0,\n",
              "        0, 1, 1, 1, 1, 0, 1, 0, 1, 0, 1, 1, 1, 0, 1, 1, 1, 1, 1, 1, 1, 0,\n",
              "        0, 0, 1, 1, 1, 1, 1, 1, 1, 1, 1, 1, 1, 0, 0, 1, 0, 0, 0, 1, 0, 0,\n",
              "        1, 1, 1, 1, 1, 0, 1, 1, 1, 1, 1, 0, 1, 1, 1, 0, 1, 1, 0, 0, 1, 1,\n",
              "        1, 1, 1, 1, 0, 1, 1, 1, 1, 1, 1, 1, 0, 1, 1, 1, 1, 1, 0, 1, 1, 0,\n",
              "        1, 1, 1, 1, 1, 1, 1, 1, 1, 1, 1, 1, 0, 1, 0, 0, 1, 0, 1, 1, 1, 1,\n",
              "        1, 0, 1, 1, 0, 1, 0, 1, 1, 0, 1, 0, 1, 1, 1, 1, 1, 1, 1, 1, 0, 0,\n",
              "        1, 1, 1, 1, 1, 1, 0, 1, 1, 1, 1, 1, 1, 1, 1, 1, 1, 0, 1, 1, 1, 1,\n",
              "        1, 1, 1, 0, 1, 0, 1, 1, 0, 1, 1, 1, 1, 1, 0, 0, 1, 0, 1, 0, 1, 1,\n",
              "        1, 1, 1, 0, 1, 1, 0, 1, 0, 1, 0, 0, 1, 1, 1, 0, 1, 1, 1, 1, 1, 1,\n",
              "        1, 1, 1, 1, 1, 0, 1, 0, 0, 1, 1, 1, 1, 1, 1, 1, 1, 1, 1, 1, 1, 1,\n",
              "        1, 1, 1, 1, 1, 1, 1, 1, 1, 1, 1, 1, 0, 0, 0, 0, 0, 0, 1]),\n",
              " 'target_names': array(['malignant', 'benign'], dtype='<U9')}"
            ]
          },
          "metadata": {
            "tags": []
          },
          "execution_count": 4
        }
      ]
    },
    {
      "cell_type": "code",
      "metadata": {
        "id": "yyGD2p4IpUer",
        "colab_type": "code",
        "colab": {}
      },
      "source": [
        "bcancer_data = pd.read_csv(dataraw1['filename'],names = dataraw1['feature_names'])\n",
        "bcancer_target = pd.DataFrame(dataraw1['target'])"
      ],
      "execution_count": 5,
      "outputs": []
    },
    {
      "cell_type": "code",
      "metadata": {
        "id": "OsjI0NkBpUcA",
        "colab_type": "code",
        "colab": {}
      },
      "source": [
        "bcancer_data = bcancer_data.iloc[1:,:]"
      ],
      "execution_count": 6,
      "outputs": []
    },
    {
      "cell_type": "code",
      "metadata": {
        "id": "frOUuW7tVRaP",
        "colab_type": "code",
        "colab": {
          "base_uri": "https://localhost:8080/",
          "height": 351
        },
        "outputId": "52de6017-f304-4b6d-a1aa-9356e87da4b2"
      },
      "source": [
        "bcancer_data.describe()"
      ],
      "execution_count": 7,
      "outputs": [
        {
          "output_type": "execute_result",
          "data": {
            "text/html": [
              "<div>\n",
              "<style scoped>\n",
              "    .dataframe tbody tr th:only-of-type {\n",
              "        vertical-align: middle;\n",
              "    }\n",
              "\n",
              "    .dataframe tbody tr th {\n",
              "        vertical-align: top;\n",
              "    }\n",
              "\n",
              "    .dataframe thead th {\n",
              "        text-align: right;\n",
              "    }\n",
              "</style>\n",
              "<table border=\"1\" class=\"dataframe\">\n",
              "  <thead>\n",
              "    <tr style=\"text-align: right;\">\n",
              "      <th></th>\n",
              "      <th>mean radius</th>\n",
              "      <th>mean texture</th>\n",
              "      <th>mean smoothness</th>\n",
              "      <th>mean compactness</th>\n",
              "      <th>mean concavity</th>\n",
              "      <th>mean concave points</th>\n",
              "      <th>mean symmetry</th>\n",
              "      <th>mean fractal dimension</th>\n",
              "      <th>radius error</th>\n",
              "      <th>texture error</th>\n",
              "      <th>perimeter error</th>\n",
              "      <th>area error</th>\n",
              "      <th>smoothness error</th>\n",
              "      <th>compactness error</th>\n",
              "      <th>concavity error</th>\n",
              "      <th>concave points error</th>\n",
              "      <th>symmetry error</th>\n",
              "      <th>fractal dimension error</th>\n",
              "      <th>worst radius</th>\n",
              "      <th>worst texture</th>\n",
              "      <th>worst perimeter</th>\n",
              "      <th>worst area</th>\n",
              "      <th>worst smoothness</th>\n",
              "      <th>worst compactness</th>\n",
              "      <th>worst concavity</th>\n",
              "      <th>worst concave points</th>\n",
              "      <th>worst symmetry</th>\n",
              "      <th>worst fractal dimension</th>\n",
              "    </tr>\n",
              "  </thead>\n",
              "  <tbody>\n",
              "    <tr>\n",
              "      <th>count</th>\n",
              "      <td>569.000000</td>\n",
              "      <td>569.000000</td>\n",
              "      <td>569.000000</td>\n",
              "      <td>569.000000</td>\n",
              "      <td>569.000000</td>\n",
              "      <td>569.000000</td>\n",
              "      <td>569.000000</td>\n",
              "      <td>569.000000</td>\n",
              "      <td>569.000000</td>\n",
              "      <td>569.000000</td>\n",
              "      <td>569.000000</td>\n",
              "      <td>569.000000</td>\n",
              "      <td>569.000000</td>\n",
              "      <td>569.000000</td>\n",
              "      <td>569.000000</td>\n",
              "      <td>569.000000</td>\n",
              "      <td>569.000000</td>\n",
              "      <td>569.000000</td>\n",
              "      <td>569.000000</td>\n",
              "      <td>569.000000</td>\n",
              "      <td>569.000000</td>\n",
              "      <td>569.000000</td>\n",
              "      <td>569.000000</td>\n",
              "      <td>569.000000</td>\n",
              "      <td>569.000000</td>\n",
              "      <td>569.000000</td>\n",
              "      <td>569.000000</td>\n",
              "      <td>569.000000</td>\n",
              "    </tr>\n",
              "    <tr>\n",
              "      <th>mean</th>\n",
              "      <td>14.127292</td>\n",
              "      <td>19.289649</td>\n",
              "      <td>0.096360</td>\n",
              "      <td>0.104341</td>\n",
              "      <td>0.088799</td>\n",
              "      <td>0.048919</td>\n",
              "      <td>0.181162</td>\n",
              "      <td>0.062798</td>\n",
              "      <td>0.405172</td>\n",
              "      <td>1.216853</td>\n",
              "      <td>2.866059</td>\n",
              "      <td>40.337079</td>\n",
              "      <td>0.007041</td>\n",
              "      <td>0.025478</td>\n",
              "      <td>0.031894</td>\n",
              "      <td>0.011796</td>\n",
              "      <td>0.020542</td>\n",
              "      <td>0.003795</td>\n",
              "      <td>16.269190</td>\n",
              "      <td>25.677223</td>\n",
              "      <td>107.261213</td>\n",
              "      <td>880.583128</td>\n",
              "      <td>0.132369</td>\n",
              "      <td>0.254265</td>\n",
              "      <td>0.272188</td>\n",
              "      <td>0.114606</td>\n",
              "      <td>0.290076</td>\n",
              "      <td>0.083946</td>\n",
              "    </tr>\n",
              "    <tr>\n",
              "      <th>std</th>\n",
              "      <td>3.524049</td>\n",
              "      <td>4.301036</td>\n",
              "      <td>0.014064</td>\n",
              "      <td>0.052813</td>\n",
              "      <td>0.079720</td>\n",
              "      <td>0.038803</td>\n",
              "      <td>0.027414</td>\n",
              "      <td>0.007060</td>\n",
              "      <td>0.277313</td>\n",
              "      <td>0.551648</td>\n",
              "      <td>2.021855</td>\n",
              "      <td>45.491006</td>\n",
              "      <td>0.003003</td>\n",
              "      <td>0.017908</td>\n",
              "      <td>0.030186</td>\n",
              "      <td>0.006170</td>\n",
              "      <td>0.008266</td>\n",
              "      <td>0.002646</td>\n",
              "      <td>4.833242</td>\n",
              "      <td>6.146258</td>\n",
              "      <td>33.602542</td>\n",
              "      <td>569.356993</td>\n",
              "      <td>0.022832</td>\n",
              "      <td>0.157336</td>\n",
              "      <td>0.208624</td>\n",
              "      <td>0.065732</td>\n",
              "      <td>0.061867</td>\n",
              "      <td>0.018061</td>\n",
              "    </tr>\n",
              "    <tr>\n",
              "      <th>min</th>\n",
              "      <td>6.981000</td>\n",
              "      <td>9.710000</td>\n",
              "      <td>0.052630</td>\n",
              "      <td>0.019380</td>\n",
              "      <td>0.000000</td>\n",
              "      <td>0.000000</td>\n",
              "      <td>0.106000</td>\n",
              "      <td>0.049960</td>\n",
              "      <td>0.111500</td>\n",
              "      <td>0.360200</td>\n",
              "      <td>0.757000</td>\n",
              "      <td>6.802000</td>\n",
              "      <td>0.001713</td>\n",
              "      <td>0.002252</td>\n",
              "      <td>0.000000</td>\n",
              "      <td>0.000000</td>\n",
              "      <td>0.007882</td>\n",
              "      <td>0.000895</td>\n",
              "      <td>7.930000</td>\n",
              "      <td>12.020000</td>\n",
              "      <td>50.410000</td>\n",
              "      <td>185.200000</td>\n",
              "      <td>0.071170</td>\n",
              "      <td>0.027290</td>\n",
              "      <td>0.000000</td>\n",
              "      <td>0.000000</td>\n",
              "      <td>0.156500</td>\n",
              "      <td>0.055040</td>\n",
              "    </tr>\n",
              "    <tr>\n",
              "      <th>25%</th>\n",
              "      <td>11.700000</td>\n",
              "      <td>16.170000</td>\n",
              "      <td>0.086370</td>\n",
              "      <td>0.064920</td>\n",
              "      <td>0.029560</td>\n",
              "      <td>0.020310</td>\n",
              "      <td>0.161900</td>\n",
              "      <td>0.057700</td>\n",
              "      <td>0.232400</td>\n",
              "      <td>0.833900</td>\n",
              "      <td>1.606000</td>\n",
              "      <td>17.850000</td>\n",
              "      <td>0.005169</td>\n",
              "      <td>0.013080</td>\n",
              "      <td>0.015090</td>\n",
              "      <td>0.007638</td>\n",
              "      <td>0.015160</td>\n",
              "      <td>0.002248</td>\n",
              "      <td>13.010000</td>\n",
              "      <td>21.080000</td>\n",
              "      <td>84.110000</td>\n",
              "      <td>515.300000</td>\n",
              "      <td>0.116600</td>\n",
              "      <td>0.147200</td>\n",
              "      <td>0.114500</td>\n",
              "      <td>0.064930</td>\n",
              "      <td>0.250400</td>\n",
              "      <td>0.071460</td>\n",
              "    </tr>\n",
              "    <tr>\n",
              "      <th>50%</th>\n",
              "      <td>13.370000</td>\n",
              "      <td>18.840000</td>\n",
              "      <td>0.095870</td>\n",
              "      <td>0.092630</td>\n",
              "      <td>0.061540</td>\n",
              "      <td>0.033500</td>\n",
              "      <td>0.179200</td>\n",
              "      <td>0.061540</td>\n",
              "      <td>0.324200</td>\n",
              "      <td>1.108000</td>\n",
              "      <td>2.287000</td>\n",
              "      <td>24.530000</td>\n",
              "      <td>0.006380</td>\n",
              "      <td>0.020450</td>\n",
              "      <td>0.025890</td>\n",
              "      <td>0.010930</td>\n",
              "      <td>0.018730</td>\n",
              "      <td>0.003187</td>\n",
              "      <td>14.970000</td>\n",
              "      <td>25.410000</td>\n",
              "      <td>97.660000</td>\n",
              "      <td>686.500000</td>\n",
              "      <td>0.131300</td>\n",
              "      <td>0.211900</td>\n",
              "      <td>0.226700</td>\n",
              "      <td>0.099930</td>\n",
              "      <td>0.282200</td>\n",
              "      <td>0.080040</td>\n",
              "    </tr>\n",
              "    <tr>\n",
              "      <th>75%</th>\n",
              "      <td>15.780000</td>\n",
              "      <td>21.800000</td>\n",
              "      <td>0.105300</td>\n",
              "      <td>0.130400</td>\n",
              "      <td>0.130700</td>\n",
              "      <td>0.074000</td>\n",
              "      <td>0.195700</td>\n",
              "      <td>0.066120</td>\n",
              "      <td>0.478900</td>\n",
              "      <td>1.474000</td>\n",
              "      <td>3.357000</td>\n",
              "      <td>45.190000</td>\n",
              "      <td>0.008146</td>\n",
              "      <td>0.032450</td>\n",
              "      <td>0.042050</td>\n",
              "      <td>0.014710</td>\n",
              "      <td>0.023480</td>\n",
              "      <td>0.004558</td>\n",
              "      <td>18.790000</td>\n",
              "      <td>29.720000</td>\n",
              "      <td>125.400000</td>\n",
              "      <td>1084.000000</td>\n",
              "      <td>0.146000</td>\n",
              "      <td>0.339100</td>\n",
              "      <td>0.382900</td>\n",
              "      <td>0.161400</td>\n",
              "      <td>0.317900</td>\n",
              "      <td>0.092080</td>\n",
              "    </tr>\n",
              "    <tr>\n",
              "      <th>max</th>\n",
              "      <td>28.110000</td>\n",
              "      <td>39.280000</td>\n",
              "      <td>0.163400</td>\n",
              "      <td>0.345400</td>\n",
              "      <td>0.426800</td>\n",
              "      <td>0.201200</td>\n",
              "      <td>0.304000</td>\n",
              "      <td>0.097440</td>\n",
              "      <td>2.873000</td>\n",
              "      <td>4.885000</td>\n",
              "      <td>21.980000</td>\n",
              "      <td>542.200000</td>\n",
              "      <td>0.031130</td>\n",
              "      <td>0.135400</td>\n",
              "      <td>0.396000</td>\n",
              "      <td>0.052790</td>\n",
              "      <td>0.078950</td>\n",
              "      <td>0.029840</td>\n",
              "      <td>36.040000</td>\n",
              "      <td>49.540000</td>\n",
              "      <td>251.200000</td>\n",
              "      <td>4254.000000</td>\n",
              "      <td>0.222600</td>\n",
              "      <td>1.058000</td>\n",
              "      <td>1.252000</td>\n",
              "      <td>0.291000</td>\n",
              "      <td>0.663800</td>\n",
              "      <td>0.207500</td>\n",
              "    </tr>\n",
              "  </tbody>\n",
              "</table>\n",
              "</div>"
            ],
            "text/plain": [
              "       mean radius  mean texture  ...  worst symmetry  worst fractal dimension\n",
              "count   569.000000    569.000000  ...      569.000000               569.000000\n",
              "mean     14.127292     19.289649  ...        0.290076                 0.083946\n",
              "std       3.524049      4.301036  ...        0.061867                 0.018061\n",
              "min       6.981000      9.710000  ...        0.156500                 0.055040\n",
              "25%      11.700000     16.170000  ...        0.250400                 0.071460\n",
              "50%      13.370000     18.840000  ...        0.282200                 0.080040\n",
              "75%      15.780000     21.800000  ...        0.317900                 0.092080\n",
              "max      28.110000     39.280000  ...        0.663800                 0.207500\n",
              "\n",
              "[8 rows x 28 columns]"
            ]
          },
          "metadata": {
            "tags": []
          },
          "execution_count": 7
        }
      ]
    },
    {
      "cell_type": "code",
      "metadata": {
        "id": "pb1_weHQU5tm",
        "colab_type": "code",
        "colab": {}
      },
      "source": [
        "scalar = StandardScaler()\n",
        "\n",
        "bcancer_data = pd.DataFrame(scalar.fit_transform(bcancer_data))"
      ],
      "execution_count": 8,
      "outputs": []
    },
    {
      "cell_type": "code",
      "metadata": {
        "id": "f97PjaQ4pUa-",
        "colab_type": "code",
        "colab": {
          "base_uri": "https://localhost:8080/",
          "height": 286
        },
        "outputId": "69425fd3-19a2-4868-e9f8-fa02e7d7bdd7"
      },
      "source": [
        "sns.heatmap(bcancer_data.corr(), center=0, cmap='coolwarm')"
      ],
      "execution_count": 9,
      "outputs": [
        {
          "output_type": "execute_result",
          "data": {
            "text/plain": [
              "<matplotlib.axes._subplots.AxesSubplot at 0x7f0ba271fa20>"
            ]
          },
          "metadata": {
            "tags": []
          },
          "execution_count": 9
        },
        {
          "output_type": "display_data",
          "data": {
            "image/png": "[encoded data removed]",
            "text/plain": [
              "<Figure size 432x288 with 2 Axes>"
            ]
          },
          "metadata": {
            "tags": [],
            "needs_background": "light"
          }
        }
      ]
    },
    {
      "cell_type": "code",
      "metadata": {
        "id": "YWMptTnfpUZu",
        "colab_type": "code",
        "colab": {
          "base_uri": "https://localhost:8080/",
          "height": 119
        },
        "outputId": "0af21e91-b632-48ca-9a5f-5cfe6f64e2ca"
      },
      "source": [
        "x_train, x_split, y_train, y_split = train_test_split(bcancer_data,bcancer_target, test_size = 0.2, random_state = 0, shuffle = True)\n",
        "x_val, x_test, y_val, y_test  = train_test_split(x_split, y_split, test_size = 0.5)\n",
        "\n",
        "print(x_train.shape)\n",
        "print(x_val.shape)\n",
        "print(x_test.shape)\n",
        "print(y_train.shape)\n",
        "print(y_val.shape)\n",
        "print(y_test.shape)\n"
      ],
      "execution_count": 10,
      "outputs": [
        {
          "output_type": "stream",
          "text": [
            "(455, 30)\n",
            "(57, 30)\n",
            "(57, 30)\n",
            "(455, 1)\n",
            "(57, 1)\n",
            "(57, 1)\n"
          ],
          "name": "stdout"
        }
      ]
    },
    {
      "cell_type": "code",
      "metadata": {
        "id": "U4tD_x0wpUYO",
        "colab_type": "code",
        "colab": {}
      },
      "source": [
        "##build model\n",
        "\n",
        "nn_bcancer = models.Sequential()"
      ],
      "execution_count": 11,
      "outputs": []
    },
    {
      "cell_type": "code",
      "metadata": {
        "id": "gpb2-P4SpUU0",
        "colab_type": "code",
        "colab": {}
      },
      "source": [
        "## add layers\n",
        "\n",
        "nn_bcancer.add(layers.Dense(units = 128, activation='tanh', input_shape = (30,)))\n",
        "nn_bcancer.add(layers.Dense(units = 256, activation='relu'))\n",
        "nn_bcancer.add(layers.Dense(1,activation='sigmoid'))"
      ],
      "execution_count": 12,
      "outputs": []
    },
    {
      "cell_type": "code",
      "metadata": {
        "id": "uJcztzShpUTn",
        "colab_type": "code",
        "colab": {}
      },
      "source": [
        "## compile model\n",
        "\n",
        "nn_bcancer.compile(optimizer='adam', loss='binary_crossentropy', metrics=['accuracy'])\n",
        "\n",
        "## here optimizer adam works better than sgd"
      ],
      "execution_count": 13,
      "outputs": []
    },
    {
      "cell_type": "code",
      "metadata": {
        "id": "LvbksfB1pUSc",
        "colab_type": "code",
        "colab": {
          "base_uri": "https://localhost:8080/",
          "height": 867
        },
        "outputId": "97609a78-0794-4056-9846-f7081533e223"
      },
      "source": [
        "bcancer_history = nn_bcancer.fit(x_train, y_train, batch_size=10, epochs=20, validation_data=(x_val,y_val))\n",
        "\n",
        "print('\\n\\n')\n",
        "bcancer_val_acc = nn_bcancer.evaluate(x_val, y_val)[1]\n",
        "print('The validation accuracy is', bcancer_val_acc)\n",
        "print('\\n\\n')\n",
        "bcancer_test_acc = nn_bcancer.evaluate(x_test, y_test)[1]\n",
        "print('The test accuracy is', bcancer_test_acc)"
      ],
      "execution_count": 14,
      "outputs": [
        {
          "output_type": "stream",
          "text": [
            "Epoch 1/20\n",
            "46/46 [==============================] - 0s 6ms/step - loss: 0.1761 - accuracy: 0.9429 - val_loss: 0.0890 - val_accuracy: 0.9649\n",
            "Epoch 2/20\n",
            "46/46 [==============================] - 0s 2ms/step - loss: 0.0781 - accuracy: 0.9780 - val_loss: 0.0913 - val_accuracy: 0.9649\n",
            "Epoch 3/20\n",
            "46/46 [==============================] - 0s 2ms/step - loss: 0.0595 - accuracy: 0.9824 - val_loss: 0.0923 - val_accuracy: 0.9825\n",
            "Epoch 4/20\n",
            "46/46 [==============================] - 0s 2ms/step - loss: 0.0527 - accuracy: 0.9824 - val_loss: 0.0848 - val_accuracy: 0.9474\n",
            "Epoch 5/20\n",
            "46/46 [==============================] - 0s 2ms/step - loss: 0.0439 - accuracy: 0.9912 - val_loss: 0.0830 - val_accuracy: 0.9649\n",
            "Epoch 6/20\n",
            "46/46 [==============================] - 0s 2ms/step - loss: 0.0385 - accuracy: 0.9912 - val_loss: 0.0921 - val_accuracy: 0.9474\n",
            "Epoch 7/20\n",
            "46/46 [==============================] - 0s 2ms/step - loss: 0.0351 - accuracy: 0.9890 - val_loss: 0.1068 - val_accuracy: 0.9649\n",
            "Epoch 8/20\n",
            "46/46 [==============================] - 0s 2ms/step - loss: 0.0310 - accuracy: 0.9912 - val_loss: 0.1108 - val_accuracy: 0.9825\n",
            "Epoch 9/20\n",
            "46/46 [==============================] - 0s 2ms/step - loss: 0.0251 - accuracy: 0.9890 - val_loss: 0.0772 - val_accuracy: 0.9825\n",
            "Epoch 10/20\n",
            "46/46 [==============================] - 0s 2ms/step - loss: 0.0261 - accuracy: 0.9912 - val_loss: 0.0838 - val_accuracy: 0.9825\n",
            "Epoch 11/20\n",
            "46/46 [==============================] - 0s 2ms/step - loss: 0.0251 - accuracy: 0.9934 - val_loss: 0.0674 - val_accuracy: 0.9649\n",
            "Epoch 12/20\n",
            "46/46 [==============================] - 0s 2ms/step - loss: 0.0257 - accuracy: 0.9912 - val_loss: 0.1186 - val_accuracy: 0.9825\n",
            "Epoch 13/20\n",
            "46/46 [==============================] - 0s 2ms/step - loss: 0.0185 - accuracy: 0.9956 - val_loss: 0.1080 - val_accuracy: 0.9649\n",
            "Epoch 14/20\n",
            "46/46 [==============================] - 0s 2ms/step - loss: 0.0184 - accuracy: 0.9956 - val_loss: 0.1202 - val_accuracy: 0.9474\n",
            "Epoch 15/20\n",
            "46/46 [==============================] - 0s 2ms/step - loss: 0.0162 - accuracy: 0.9934 - val_loss: 0.1351 - val_accuracy: 0.9825\n",
            "Epoch 16/20\n",
            "46/46 [==============================] - 0s 2ms/step - loss: 0.0149 - accuracy: 0.9978 - val_loss: 0.0988 - val_accuracy: 0.9825\n",
            "Epoch 17/20\n",
            "46/46 [==============================] - 0s 2ms/step - loss: 0.0128 - accuracy: 0.9956 - val_loss: 0.1011 - val_accuracy: 0.9825\n",
            "Epoch 18/20\n",
            "46/46 [==============================] - 0s 2ms/step - loss: 0.0103 - accuracy: 0.9956 - val_loss: 0.1164 - val_accuracy: 0.9825\n",
            "Epoch 19/20\n",
            "46/46 [==============================] - 0s 2ms/step - loss: 0.0097 - accuracy: 0.9978 - val_loss: 0.1049 - val_accuracy: 0.9825\n",
            "Epoch 20/20\n",
            "46/46 [==============================] - 0s 2ms/step - loss: 0.0090 - accuracy: 0.9978 - val_loss: 0.0882 - val_accuracy: 0.9825\n",
            "\n",
            "\n",
            "\n",
            "2/2 [==============================] - 0s 3ms/step - loss: 0.0882 - accuracy: 0.9825\n",
            "The validation accuracy is 0.9824561476707458\n",
            "\n",
            "\n",
            "\n",
            "2/2 [==============================] - 0s 2ms/step - loss: 0.0330 - accuracy: 1.0000\n",
            "The test accuracy is 1.0\n"
          ],
          "name": "stdout"
        }
      ]
    },
    {
      "cell_type": "code",
      "metadata": {
        "id": "MTM085_V3IrM",
        "colab_type": "code",
        "colab": {
          "base_uri": "https://localhost:8080/",
          "height": 899
        },
        "outputId": "565eee74-2602-4848-80bf-95bc79563897"
      },
      "source": [
        "plt.figure(figsize = (10,7))\n",
        "plt.plot(bcancer_history.history['accuracy'], color = 'blue')\n",
        "plt.plot(bcancer_history.history['val_accuracy'], color = 'red')\n",
        "plt.title('Model accuracy')\n",
        "plt.ylabel('Accuracy')\n",
        "plt.xlabel('Epoch')\n",
        "plt.legend(['Train', 'Validation'], loc='upper left')\n",
        "plt.show()\n",
        "\n",
        "plt.figure(figsize = (10,7))\n",
        "plt.plot(bcancer_history.history['loss'], color = 'blue')\n",
        "plt.plot(bcancer_history.history['val_loss'], color = 'red')\n",
        "# plt.ylim((0,3))\n",
        "plt.title('Model loss')\n",
        "plt.ylabel('Loss')\n",
        "plt.xlabel('Epoch')\n",
        "plt.legend(['Train', 'Validation'], loc='upper left')\n",
        "plt.show()"
      ],
      "execution_count": 15,
      "outputs": [
        {
          "output_type": "display_data",
          "data": {
            "image/png": "[encoded data removed]",
            "text/plain": [
              "<Figure size 720x504 with 1 Axes>"
            ]
          },
          "metadata": {
            "tags": [],
            "needs_background": "light"
          }
        },
        {
          "output_type": "display_data",
          "data": {
            "image/png": "[encoded data removed]",
            "text/plain": [
              "<Figure size 720x504 with 1 Axes>"
            ]
          },
          "metadata": {
            "tags": [],
            "needs_background": "light"
          }
        }
      ]
    },
    {
      "cell_type": "markdown",
      "metadata": {
        "id": "yJo7Lt57eNHr",
        "colab_type": "text"
      },
      "source": [
        "# Wine Dataset"
      ]
    },
    {
      "cell_type": "code",
      "metadata": {
        "id": "-AuyFojtpUOV",
        "colab_type": "code",
        "colab": {
          "base_uri": "https://localhost:8080/",
          "height": 666
        },
        "outputId": "e879ab70-f48c-4619-84e5-cd3d70e37dda"
      },
      "source": [
        "dataraw2 = load_wine()\n",
        "dataraw2"
      ],
      "execution_count": 16,
      "outputs": [
        {
          "output_type": "execute_result",
          "data": {
            "text/plain": [
              "{'DESCR': '.. _wine_dataset:\\n\\nWine recognition dataset\\n------------------------\\n\\n**Data Set Characteristics:**\\n\\n    :Number of Instances: 178 (50 in each of three classes)\\n    :Number of Attributes: 13 numeric, predictive attributes and the class\\n    :Attribute Information:\\n \\t\\t- Alcohol\\n \\t\\t- Malic acid\\n \\t\\t- Ash\\n\\t\\t- Alcalinity of ash  \\n \\t\\t- Magnesium\\n\\t\\t- Total phenols\\n \\t\\t- Flavanoids\\n \\t\\t- Nonflavanoid phenols\\n \\t\\t- Proanthocyanins\\n\\t\\t- Color intensity\\n \\t\\t- Hue\\n \\t\\t- OD280/OD315 of diluted wines\\n \\t\\t- Proline\\n\\n    - class:\\n            - class_0\\n            - class_1\\n            - class_2\\n\\t\\t\\n    :Summary Statistics:\\n    \\n    ============================= ==== ===== ======= =====\\n                                   Min   Max   Mean     SD\\n    ============================= ==== ===== ======= =====\\n    Alcohol:                      11.0  14.8    13.0   0.8\\n    Malic Acid:                   0.74  5.80    2.34  1.12\\n    Ash:                          1.36  3.23    2.36  0.27\\n    Alcalinity of Ash:            10.6  30.0    19.5   3.3\\n    Magnesium:                    70.0 162.0    99.7  14.3\\n    Total Phenols:                0.98  3.88    2.29  0.63\\n    Flavanoids:                   0.34  5.08    2.03  1.00\\n    Nonflavanoid Phenols:         0.13  0.66    0.36  0.12\\n    Proanthocyanins:              0.41  3.58    1.59  0.57\\n    Colour Intensity:              1.3  13.0     5.1   2.3\\n    Hue:                          0.48  1.71    0.96  0.23\\n    OD280/OD315 of diluted wines: 1.27  4.00    2.61  0.71\\n    Proline:                       278  1680     746   315\\n    ============================= ==== ===== ======= =====\\n\\n    :Missing Attribute Values: None\\n    :Class Distribution: class_0 (59), class_1 (71), class_2 (48)\\n    :Creator: R.A. Fisher\\n    :Donor: Michael Marshall (MARSHALL%PLU@io.arc.nasa.gov)\\n    :Date: July, 1988\\n\\nThis is a copy of UCI ML Wine recognition datasets.\\nhttps://archive.ics.uci.edu/ml/machine-learning-databases/wine/wine.data\\n\\nThe data is the results of a chemical analysis of wines grown in the same\\nregion in Italy by three different cultivators. There are thirteen different\\nmeasurements taken for different constituents found in the three types of\\nwine.\\n\\nOriginal Owners: \\n\\nForina, M. et al, PARVUS - \\nAn Extendible Package for Data Exploration, Classification and Correlation. \\nInstitute of Pharmaceutical and Food Analysis and Technologies,\\nVia Brigata Salerno, 16147 Genoa, Italy.\\n\\nCitation:\\n\\nLichman, M. (2013). UCI Machine Learning Repository\\n[https://archive.ics.uci.edu/ml]. Irvine, CA: University of California,\\nSchool of Information and Computer Science. \\n\\n.. topic:: References\\n\\n  (1) S. Aeberhard, D. Coomans and O. de Vel, \\n  Comparison of Classifiers in High Dimensional Settings, \\n  Tech. Rep. no. 92-02, (1992), Dept. of Computer Science and Dept. of  \\n  Mathematics and Statistics, James Cook University of North Queensland. \\n  (Also submitted to Technometrics). \\n\\n  The data was used with many others for comparing various \\n  classifiers. The classes are separable, though only RDA \\n  has achieved 100% correct classification. \\n  (RDA : 100%, QDA 99.4%, LDA 98.9%, 1NN 96.1% (z-transformed data)) \\n  (All results using the leave-one-out technique) \\n\\n  (2) S. Aeberhard, D. Coomans and O. de Vel, \\n  \"THE CLASSIFICATION PERFORMANCE OF RDA\" \\n  Tech. Rep. no. 92-01, (1992), Dept. of Computer Science and Dept. of \\n  Mathematics and Statistics, James Cook University of North Queensland. \\n  (Also submitted to Journal of Chemometrics).\\n',\n",
              " 'data': array([[1.423e+01, 1.710e+00, 2.430e+00, ..., 1.040e+00, 3.920e+00,\n",
              "         1.065e+03],\n",
              "        [1.320e+01, 1.780e+00, 2.140e+00, ..., 1.050e+00, 3.400e+00,\n",
              "         1.050e+03],\n",
              "        [1.316e+01, 2.360e+00, 2.670e+00, ..., 1.030e+00, 3.170e+00,\n",
              "         1.185e+03],\n",
              "        ...,\n",
              "        [1.327e+01, 4.280e+00, 2.260e+00, ..., 5.900e-01, 1.560e+00,\n",
              "         8.350e+02],\n",
              "        [1.317e+01, 2.590e+00, 2.370e+00, ..., 6.000e-01, 1.620e+00,\n",
              "         8.400e+02],\n",
              "        [1.413e+01, 4.100e+00, 2.740e+00, ..., 6.100e-01, 1.600e+00,\n",
              "         5.600e+02]]),\n",
              " 'feature_names': ['alcohol',\n",
              "  'malic_acid',\n",
              "  'ash',\n",
              "  'alcalinity_of_ash',\n",
              "  'magnesium',\n",
              "  'total_phenols',\n",
              "  'flavanoids',\n",
              "  'nonflavanoid_phenols',\n",
              "  'proanthocyanins',\n",
              "  'color_intensity',\n",
              "  'hue',\n",
              "  'od280/od315_of_diluted_wines',\n",
              "  'proline'],\n",
              " 'target': array([0, 0, 0, 0, 0, 0, 0, 0, 0, 0, 0, 0, 0, 0, 0, 0, 0, 0, 0, 0, 0, 0,\n",
              "        0, 0, 0, 0, 0, 0, 0, 0, 0, 0, 0, 0, 0, 0, 0, 0, 0, 0, 0, 0, 0, 0,\n",
              "        0, 0, 0, 0, 0, 0, 0, 0, 0, 0, 0, 0, 0, 0, 0, 1, 1, 1, 1, 1, 1, 1,\n",
              "        1, 1, 1, 1, 1, 1, 1, 1, 1, 1, 1, 1, 1, 1, 1, 1, 1, 1, 1, 1, 1, 1,\n",
              "        1, 1, 1, 1, 1, 1, 1, 1, 1, 1, 1, 1, 1, 1, 1, 1, 1, 1, 1, 1, 1, 1,\n",
              "        1, 1, 1, 1, 1, 1, 1, 1, 1, 1, 1, 1, 1, 1, 1, 1, 1, 1, 1, 1, 2, 2,\n",
              "        2, 2, 2, 2, 2, 2, 2, 2, 2, 2, 2, 2, 2, 2, 2, 2, 2, 2, 2, 2, 2, 2,\n",
              "        2, 2, 2, 2, 2, 2, 2, 2, 2, 2, 2, 2, 2, 2, 2, 2, 2, 2, 2, 2, 2, 2,\n",
              "        2, 2]),\n",
              " 'target_names': array(['class_0', 'class_1', 'class_2'], dtype='<U7')}"
            ]
          },
          "metadata": {
            "tags": []
          },
          "execution_count": 16
        }
      ]
    },
    {
      "cell_type": "code",
      "metadata": {
        "id": "zs0eEoGApUM_",
        "colab_type": "code",
        "colab": {
          "base_uri": "https://localhost:8080/",
          "height": 357
        },
        "outputId": "33b0a8d2-4d25-4f3a-9f4f-54bd32043c06"
      },
      "source": [
        "wine = pd.DataFrame(dataraw2['data'], columns=dataraw2['feature_names'])\n",
        "wine.info()"
      ],
      "execution_count": 17,
      "outputs": [
        {
          "output_type": "stream",
          "text": [
            "<class 'pandas.core.frame.DataFrame'>\n",
            "RangeIndex: 178 entries, 0 to 177\n",
            "Data columns (total 13 columns):\n",
            " #   Column                        Non-Null Count  Dtype  \n",
            "---  ------                        --------------  -----  \n",
            " 0   alcohol                       178 non-null    float64\n",
            " 1   malic_acid                    178 non-null    float64\n",
            " 2   ash                           178 non-null    float64\n",
            " 3   alcalinity_of_ash             178 non-null    float64\n",
            " 4   magnesium                     178 non-null    float64\n",
            " 5   total_phenols                 178 non-null    float64\n",
            " 6   flavanoids                    178 non-null    float64\n",
            " 7   nonflavanoid_phenols          178 non-null    float64\n",
            " 8   proanthocyanins               178 non-null    float64\n",
            " 9   color_intensity               178 non-null    float64\n",
            " 10  hue                           178 non-null    float64\n",
            " 11  od280/od315_of_diluted_wines  178 non-null    float64\n",
            " 12  proline                       178 non-null    float64\n",
            "dtypes: float64(13)\n",
            "memory usage: 18.2 KB\n"
          ],
          "name": "stdout"
        }
      ]
    },
    {
      "cell_type": "code",
      "metadata": {
        "id": "_rmNB0UUACrf",
        "colab_type": "code",
        "colab": {
          "base_uri": "https://localhost:8080/",
          "height": 431
        },
        "outputId": "9c74a07e-ca7b-4fee-bb16-427ad34a29de"
      },
      "source": [
        "sns.heatmap(wine.corr(), center = 0, cmap='coolwarm')"
      ],
      "execution_count": 18,
      "outputs": [
        {
          "output_type": "execute_result",
          "data": {
            "text/plain": [
              "<matplotlib.axes._subplots.AxesSubplot at 0x7f0b95a9e358>"
            ]
          },
          "metadata": {
            "tags": []
          },
          "execution_count": 18
        },
        {
          "output_type": "display_data",
          "data": {
            "image/png": "[encoded data removed]",
            "text/plain": [
              "<Figure size 432x288 with 2 Axes>"
            ]
          },
          "metadata": {
            "tags": [],
            "needs_background": "light"
          }
        }
      ]
    },
    {
      "cell_type": "code",
      "metadata": {
        "id": "VSR_QkWypULz",
        "colab_type": "code",
        "colab": {
          "base_uri": "https://localhost:8080/",
          "height": 204
        },
        "outputId": "6681c2dc-d1d5-468c-e398-38334081810a"
      },
      "source": [
        "wine = pd.DataFrame(scalar.fit_transform(wine))\n",
        "wine.head()"
      ],
      "execution_count": 19,
      "outputs": [
        {
          "output_type": "execute_result",
          "data": {
            "text/html": [
              "<div>\n",
              "<style scoped>\n",
              "    .dataframe tbody tr th:only-of-type {\n",
              "        vertical-align: middle;\n",
              "    }\n",
              "\n",
              "    .dataframe tbody tr th {\n",
              "        vertical-align: top;\n",
              "    }\n",
              "\n",
              "    .dataframe thead th {\n",
              "        text-align: right;\n",
              "    }\n",
              "</style>\n",
              "<table border=\"1\" class=\"dataframe\">\n",
              "  <thead>\n",
              "    <tr style=\"text-align: right;\">\n",
              "      <th></th>\n",
              "      <th>0</th>\n",
              "      <th>1</th>\n",
              "      <th>2</th>\n",
              "      <th>3</th>\n",
              "      <th>4</th>\n",
              "      <th>5</th>\n",
              "      <th>6</th>\n",
              "      <th>7</th>\n",
              "      <th>8</th>\n",
              "      <th>9</th>\n",
              "      <th>10</th>\n",
              "      <th>11</th>\n",
              "      <th>12</th>\n",
              "    </tr>\n",
              "  </thead>\n",
              "  <tbody>\n",
              "    <tr>\n",
              "      <th>0</th>\n",
              "      <td>1.518613</td>\n",
              "      <td>-0.562250</td>\n",
              "      <td>0.232053</td>\n",
              "      <td>-1.169593</td>\n",
              "      <td>1.913905</td>\n",
              "      <td>0.808997</td>\n",
              "      <td>1.034819</td>\n",
              "      <td>-0.659563</td>\n",
              "      <td>1.224884</td>\n",
              "      <td>0.251717</td>\n",
              "      <td>0.362177</td>\n",
              "      <td>1.847920</td>\n",
              "      <td>1.013009</td>\n",
              "    </tr>\n",
              "    <tr>\n",
              "      <th>1</th>\n",
              "      <td>0.246290</td>\n",
              "      <td>-0.499413</td>\n",
              "      <td>-0.827996</td>\n",
              "      <td>-2.490847</td>\n",
              "      <td>0.018145</td>\n",
              "      <td>0.568648</td>\n",
              "      <td>0.733629</td>\n",
              "      <td>-0.820719</td>\n",
              "      <td>-0.544721</td>\n",
              "      <td>-0.293321</td>\n",
              "      <td>0.406051</td>\n",
              "      <td>1.113449</td>\n",
              "      <td>0.965242</td>\n",
              "    </tr>\n",
              "    <tr>\n",
              "      <th>2</th>\n",
              "      <td>0.196879</td>\n",
              "      <td>0.021231</td>\n",
              "      <td>1.109334</td>\n",
              "      <td>-0.268738</td>\n",
              "      <td>0.088358</td>\n",
              "      <td>0.808997</td>\n",
              "      <td>1.215533</td>\n",
              "      <td>-0.498407</td>\n",
              "      <td>2.135968</td>\n",
              "      <td>0.269020</td>\n",
              "      <td>0.318304</td>\n",
              "      <td>0.788587</td>\n",
              "      <td>1.395148</td>\n",
              "    </tr>\n",
              "    <tr>\n",
              "      <th>3</th>\n",
              "      <td>1.691550</td>\n",
              "      <td>-0.346811</td>\n",
              "      <td>0.487926</td>\n",
              "      <td>-0.809251</td>\n",
              "      <td>0.930918</td>\n",
              "      <td>2.491446</td>\n",
              "      <td>1.466525</td>\n",
              "      <td>-0.981875</td>\n",
              "      <td>1.032155</td>\n",
              "      <td>1.186068</td>\n",
              "      <td>-0.427544</td>\n",
              "      <td>1.184071</td>\n",
              "      <td>2.334574</td>\n",
              "    </tr>\n",
              "    <tr>\n",
              "      <th>4</th>\n",
              "      <td>0.295700</td>\n",
              "      <td>0.227694</td>\n",
              "      <td>1.840403</td>\n",
              "      <td>0.451946</td>\n",
              "      <td>1.281985</td>\n",
              "      <td>0.808997</td>\n",
              "      <td>0.663351</td>\n",
              "      <td>0.226796</td>\n",
              "      <td>0.401404</td>\n",
              "      <td>-0.319276</td>\n",
              "      <td>0.362177</td>\n",
              "      <td>0.449601</td>\n",
              "      <td>-0.037874</td>\n",
              "    </tr>\n",
              "  </tbody>\n",
              "</table>\n",
              "</div>"
            ],
            "text/plain": [
              "         0         1         2   ...        10        11        12\n",
              "0  1.518613 -0.562250  0.232053  ...  0.362177  1.847920  1.013009\n",
              "1  0.246290 -0.499413 -0.827996  ...  0.406051  1.113449  0.965242\n",
              "2  0.196879  0.021231  1.109334  ...  0.318304  0.788587  1.395148\n",
              "3  1.691550 -0.346811  0.487926  ... -0.427544  1.184071  2.334574\n",
              "4  0.295700  0.227694  1.840403  ...  0.362177  0.449601 -0.037874\n",
              "\n",
              "[5 rows x 13 columns]"
            ]
          },
          "metadata": {
            "tags": []
          },
          "execution_count": 19
        }
      ]
    },
    {
      "cell_type": "code",
      "metadata": {
        "id": "5htjdg14pUGt",
        "colab_type": "code",
        "colab": {
          "base_uri": "https://localhost:8080/",
          "height": 204
        },
        "outputId": "7b187355-24a1-4240-ee81-a2eda614afe2"
      },
      "source": [
        "wine_target = pd.DataFrame(dataraw2['target'])\n",
        "wine_target.head()"
      ],
      "execution_count": 20,
      "outputs": [
        {
          "output_type": "execute_result",
          "data": {
            "text/html": [
              "<div>\n",
              "<style scoped>\n",
              "    .dataframe tbody tr th:only-of-type {\n",
              "        vertical-align: middle;\n",
              "    }\n",
              "\n",
              "    .dataframe tbody tr th {\n",
              "        vertical-align: top;\n",
              "    }\n",
              "\n",
              "    .dataframe thead th {\n",
              "        text-align: right;\n",
              "    }\n",
              "</style>\n",
              "<table border=\"1\" class=\"dataframe\">\n",
              "  <thead>\n",
              "    <tr style=\"text-align: right;\">\n",
              "      <th></th>\n",
              "      <th>0</th>\n",
              "    </tr>\n",
              "  </thead>\n",
              "  <tbody>\n",
              "    <tr>\n",
              "      <th>0</th>\n",
              "      <td>0</td>\n",
              "    </tr>\n",
              "    <tr>\n",
              "      <th>1</th>\n",
              "      <td>0</td>\n",
              "    </tr>\n",
              "    <tr>\n",
              "      <th>2</th>\n",
              "      <td>0</td>\n",
              "    </tr>\n",
              "    <tr>\n",
              "      <th>3</th>\n",
              "      <td>0</td>\n",
              "    </tr>\n",
              "    <tr>\n",
              "      <th>4</th>\n",
              "      <td>0</td>\n",
              "    </tr>\n",
              "  </tbody>\n",
              "</table>\n",
              "</div>"
            ],
            "text/plain": [
              "   0\n",
              "0  0\n",
              "1  0\n",
              "2  0\n",
              "3  0\n",
              "4  0"
            ]
          },
          "metadata": {
            "tags": []
          },
          "execution_count": 20
        }
      ]
    },
    {
      "cell_type": "code",
      "metadata": {
        "id": "BdbKU8mVAIzI",
        "colab_type": "code",
        "colab": {}
      },
      "source": [
        "wine_target = to_categorical(wine_target, num_classes=3)"
      ],
      "execution_count": 21,
      "outputs": []
    },
    {
      "cell_type": "code",
      "metadata": {
        "id": "9pF1pIZVpUCs",
        "colab_type": "code",
        "colab": {
          "base_uri": "https://localhost:8080/",
          "height": 34
        },
        "outputId": "fca77f3d-7ba3-4d93-f485-ad048fde2fcd"
      },
      "source": [
        "print(wine.shape, wine_target.shape)"
      ],
      "execution_count": 22,
      "outputs": [
        {
          "output_type": "stream",
          "text": [
            "(178, 13) (178, 3)\n"
          ],
          "name": "stdout"
        }
      ]
    },
    {
      "cell_type": "code",
      "metadata": {
        "id": "NeLSCNDtpUBk",
        "colab_type": "code",
        "colab": {
          "base_uri": "https://localhost:8080/",
          "height": 119
        },
        "outputId": "de4583b3-2d57-44d2-853a-efdbcf822453"
      },
      "source": [
        "x_train, x_split, y_train, y_split = train_test_split(wine, wine_target, test_size = 0.4, shuffle = True, random_state = 0)\n",
        "x_val, x_test, y_val, y_test = train_test_split(x_split, y_split, test_size = 0.5)\n",
        "\n",
        "print(x_train.shape)\n",
        "print(x_val.shape)\n",
        "print(x_test.shape)\n",
        "print(y_train.shape)\n",
        "print(y_val.shape)\n",
        "print(y_test.shape)"
      ],
      "execution_count": 23,
      "outputs": [
        {
          "output_type": "stream",
          "text": [
            "(106, 13)\n",
            "(36, 13)\n",
            "(36, 13)\n",
            "(106, 3)\n",
            "(36, 3)\n",
            "(36, 3)\n"
          ],
          "name": "stdout"
        }
      ]
    },
    {
      "cell_type": "code",
      "metadata": {
        "id": "8SHRZ56YpUAS",
        "colab_type": "code",
        "colab": {}
      },
      "source": [
        "nn_wine = models.Sequential()"
      ],
      "execution_count": 24,
      "outputs": []
    },
    {
      "cell_type": "code",
      "metadata": {
        "id": "RZ65_Ma8pT8s",
        "colab_type": "code",
        "colab": {}
      },
      "source": [
        "nn_wine.add(layers.Dense(units=64, activation='relu', input_shape = (13,)))\n",
        "nn_wine.add(layers.Dense(128, activation='tanh'))\n",
        "nn_wine.add(layers.Dense(3, activation='softmax'))"
      ],
      "execution_count": 25,
      "outputs": []
    },
    {
      "cell_type": "code",
      "metadata": {
        "id": "ep65zArqpT7I",
        "colab_type": "code",
        "colab": {}
      },
      "source": [
        "nn_wine.compile(optimizer = 'sgd', loss = 'categorical_crossentropy', metrics=['accuracy'])"
      ],
      "execution_count": 26,
      "outputs": []
    },
    {
      "cell_type": "code",
      "metadata": {
        "id": "DNldjJi8pT6A",
        "colab_type": "code",
        "colab": {
          "base_uri": "https://localhost:8080/",
          "height": 697
        },
        "outputId": "34a66545-c27a-4344-dc43-ff0ba2accb13"
      },
      "source": [
        "wine_hist = nn_wine.fit(x_train, y_train, batch_size=10, epochs = 20, validation_data=(x_val, y_val))"
      ],
      "execution_count": 27,
      "outputs": [
        {
          "output_type": "stream",
          "text": [
            "Epoch 1/20\n",
            "11/11 [==============================] - 0s 27ms/step - loss: 1.1331 - accuracy: 0.3302 - val_loss: 0.9543 - val_accuracy: 0.6944\n",
            "Epoch 2/20\n",
            "11/11 [==============================] - 0s 3ms/step - loss: 0.8489 - accuracy: 0.7925 - val_loss: 0.7414 - val_accuracy: 0.8611\n",
            "Epoch 3/20\n",
            "11/11 [==============================] - 0s 3ms/step - loss: 0.6696 - accuracy: 0.9057 - val_loss: 0.5960 - val_accuracy: 0.8611\n",
            "Epoch 4/20\n",
            "11/11 [==============================] - 0s 3ms/step - loss: 0.5432 - accuracy: 0.9340 - val_loss: 0.4936 - val_accuracy: 0.9167\n",
            "Epoch 5/20\n",
            "11/11 [==============================] - 0s 3ms/step - loss: 0.4535 - accuracy: 0.9434 - val_loss: 0.4190 - val_accuracy: 0.9167\n",
            "Epoch 6/20\n",
            "11/11 [==============================] - 0s 3ms/step - loss: 0.3865 - accuracy: 0.9528 - val_loss: 0.3622 - val_accuracy: 0.9167\n",
            "Epoch 7/20\n",
            "11/11 [==============================] - 0s 2ms/step - loss: 0.3347 - accuracy: 0.9717 - val_loss: 0.3186 - val_accuracy: 0.9167\n",
            "Epoch 8/20\n",
            "11/11 [==============================] - 0s 3ms/step - loss: 0.2951 - accuracy: 0.9623 - val_loss: 0.2837 - val_accuracy: 0.9444\n",
            "Epoch 9/20\n",
            "11/11 [==============================] - 0s 3ms/step - loss: 0.2619 - accuracy: 0.9811 - val_loss: 0.2551 - val_accuracy: 0.9444\n",
            "Epoch 10/20\n",
            "11/11 [==============================] - 0s 3ms/step - loss: 0.2364 - accuracy: 0.9811 - val_loss: 0.2325 - val_accuracy: 0.9444\n",
            "Epoch 11/20\n",
            "11/11 [==============================] - 0s 3ms/step - loss: 0.2148 - accuracy: 0.9811 - val_loss: 0.2129 - val_accuracy: 0.9722\n",
            "Epoch 12/20\n",
            "11/11 [==============================] - 0s 3ms/step - loss: 0.1959 - accuracy: 0.9811 - val_loss: 0.1976 - val_accuracy: 0.9722\n",
            "Epoch 13/20\n",
            "11/11 [==============================] - 0s 3ms/step - loss: 0.1805 - accuracy: 0.9811 - val_loss: 0.1834 - val_accuracy: 0.9722\n",
            "Epoch 14/20\n",
            "11/11 [==============================] - 0s 3ms/step - loss: 0.1671 - accuracy: 0.9811 - val_loss: 0.1718 - val_accuracy: 0.9722\n",
            "Epoch 15/20\n",
            "11/11 [==============================] - 0s 3ms/step - loss: 0.1555 - accuracy: 0.9811 - val_loss: 0.1622 - val_accuracy: 0.9722\n",
            "Epoch 16/20\n",
            "11/11 [==============================] - 0s 3ms/step - loss: 0.1453 - accuracy: 0.9811 - val_loss: 0.1536 - val_accuracy: 0.9722\n",
            "Epoch 17/20\n",
            "11/11 [==============================] - 0s 3ms/step - loss: 0.1358 - accuracy: 0.9906 - val_loss: 0.1458 - val_accuracy: 0.9722\n",
            "Epoch 18/20\n",
            "11/11 [==============================] - 0s 3ms/step - loss: 0.1281 - accuracy: 0.9906 - val_loss: 0.1386 - val_accuracy: 1.0000\n",
            "Epoch 19/20\n",
            "11/11 [==============================] - 0s 3ms/step - loss: 0.1208 - accuracy: 0.9906 - val_loss: 0.1323 - val_accuracy: 1.0000\n",
            "Epoch 20/20\n",
            "11/11 [==============================] - 0s 3ms/step - loss: 0.1147 - accuracy: 0.9906 - val_loss: 0.1268 - val_accuracy: 1.0000\n"
          ],
          "name": "stdout"
        }
      ]
    },
    {
      "cell_type": "code",
      "metadata": {
        "id": "vioPsq6IpT5D",
        "colab_type": "code",
        "colab": {
          "base_uri": "https://localhost:8080/",
          "height": 51
        },
        "outputId": "b90be78d-9d15-4d54-e325-349021b4c850"
      },
      "source": [
        "nn_wine.evaluate(x_val, y_val)[1] "
      ],
      "execution_count": 28,
      "outputs": [
        {
          "output_type": "stream",
          "text": [
            "2/2 [==============================] - 0s 1ms/step - loss: 0.1268 - accuracy: 1.0000\n"
          ],
          "name": "stdout"
        },
        {
          "output_type": "execute_result",
          "data": {
            "text/plain": [
              "1.0"
            ]
          },
          "metadata": {
            "tags": []
          },
          "execution_count": 28
        }
      ]
    },
    {
      "cell_type": "code",
      "metadata": {
        "id": "40qTsVajpT36",
        "colab_type": "code",
        "colab": {
          "base_uri": "https://localhost:8080/",
          "height": 51
        },
        "outputId": "b9c36bc2-1dae-434e-9dcb-d6e763f8d880"
      },
      "source": [
        "nn_wine.evaluate(x_test, y_test)[1]"
      ],
      "execution_count": 29,
      "outputs": [
        {
          "output_type": "stream",
          "text": [
            "2/2 [==============================] - 0s 2ms/step - loss: 0.1816 - accuracy: 0.9722\n"
          ],
          "name": "stdout"
        },
        {
          "output_type": "execute_result",
          "data": {
            "text/plain": [
              "0.9722222089767456"
            ]
          },
          "metadata": {
            "tags": []
          },
          "execution_count": 29
        }
      ]
    },
    {
      "cell_type": "code",
      "metadata": {
        "id": "YKcBB7c8pT2c",
        "colab_type": "code",
        "colab": {
          "base_uri": "https://localhost:8080/",
          "height": 899
        },
        "outputId": "4d913d4a-342e-4d19-c632-3023efff0dcf"
      },
      "source": [
        "plt.figure(figsize = (10,7))\n",
        "plt.plot(wine_hist.history['accuracy'], color = 'blue')\n",
        "plt.plot(wine_hist.history['val_accuracy'], color = 'red')\n",
        "plt.title('Model accuracy')\n",
        "plt.ylabel('Accuracy')\n",
        "plt.xlabel('Epoch')\n",
        "plt.legend(['Train', 'Validation'], loc='upper left')\n",
        "plt.show()\n",
        "\n",
        "plt.figure(figsize = (10,7))\n",
        "plt.plot(wine_hist.history['loss'], color = 'blue')\n",
        "plt.plot(wine_hist.history['val_loss'], color = 'red')\n",
        "# plt.ylim((0,3))\n",
        "plt.title('Model loss')\n",
        "plt.ylabel('Loss')\n",
        "plt.xlabel('Epoch')\n",
        "plt.legend(['Train', 'Validation'], loc='upper left')\n",
        "plt.show()"
      ],
      "execution_count": 30,
      "outputs": [
        {
          "output_type": "display_data",
          "data": {
            "image/png": "[encoded data removed]",
            "text/plain": [
              "<Figure size 720x504 with 1 Axes>"
            ]
          },
          "metadata": {
            "tags": [],
            "needs_background": "light"
          }
        },
        {
          "output_type": "display_data",
          "data": {
            "image/png": "[encoded data removed]",
            "text/plain": [
              "<Figure size 720x504 with 1 Axes>"
            ]
          },
          "metadata": {
            "tags": [],
            "needs_background": "light"
          }
        }
      ]
    },
    {
      "cell_type": "markdown",
      "metadata": {
        "id": "FIt9NiDuUGvH",
        "colab_type": "text"
      },
      "source": [
        "# Forest Cover Dataset"
      ]
    },
    {
      "cell_type": "code",
      "metadata": {
        "id": "h1T57XuMpT0i",
        "colab_type": "code",
        "colab": {
          "base_uri": "https://localhost:8080/",
          "height": 309
        },
        "outputId": "397703f3-f136-457a-99b5-a1dbeaa4f9f5"
      },
      "source": [
        "dataraw3 = fetch_covtype()\n",
        "dataraw3"
      ],
      "execution_count": 31,
      "outputs": [
        {
          "output_type": "stream",
          "text": [
            "Downloading https://ndownloader.figshare.com/files/5976039\n"
          ],
          "name": "stderr"
        },
        {
          "output_type": "execute_result",
          "data": {
            "text/plain": [
              "{'DESCR': \".. _covtype_dataset:\\n\\nForest covertypes\\n-----------------\\n\\nThe samples in this dataset correspond to 30×30m patches of forest in the US,\\ncollected for the task of predicting each patch's cover type,\\ni.e. the dominant species of tree.\\nThere are seven covertypes, making this a multiclass classification problem.\\nEach sample has 54 features, described on the\\n`dataset's homepage <https://archive.ics.uci.edu/ml/datasets/Covertype>`__.\\nSome of the features are boolean indicators,\\nwhile others are discrete or continuous measurements.\\n\\n**Data Set Characteristics:**\\n\\n    =================   ============\\n    Classes                        7\\n    Samples total             581012\\n    Dimensionality                54\\n    Features                     int\\n    =================   ============\\n\\n:func:`sklearn.datasets.fetch_covtype` will load the covertype dataset;\\nit returns a dictionary-like object\\nwith the feature matrix in the ``data`` member\\nand the target values in ``target``.\\nThe dataset will be downloaded from the web if necessary.\\n\",\n",
              " 'data': array([[2.596e+03, 5.100e+01, 3.000e+00, ..., 0.000e+00, 0.000e+00,\n",
              "         0.000e+00],\n",
              "        [2.590e+03, 5.600e+01, 2.000e+00, ..., 0.000e+00, 0.000e+00,\n",
              "         0.000e+00],\n",
              "        [2.804e+03, 1.390e+02, 9.000e+00, ..., 0.000e+00, 0.000e+00,\n",
              "         0.000e+00],\n",
              "        ...,\n",
              "        [2.386e+03, 1.590e+02, 1.700e+01, ..., 0.000e+00, 0.000e+00,\n",
              "         0.000e+00],\n",
              "        [2.384e+03, 1.700e+02, 1.500e+01, ..., 0.000e+00, 0.000e+00,\n",
              "         0.000e+00],\n",
              "        [2.383e+03, 1.650e+02, 1.300e+01, ..., 0.000e+00, 0.000e+00,\n",
              "         0.000e+00]]),\n",
              " 'target': array([5, 5, 2, ..., 3, 3, 3], dtype=int32)}"
            ]
          },
          "metadata": {
            "tags": []
          },
          "execution_count": 31
        }
      ]
    },
    {
      "cell_type": "code",
      "metadata": {
        "id": "cC-D01fppTyi",
        "colab_type": "code",
        "colab": {
          "base_uri": "https://localhost:8080/",
          "height": 34
        },
        "outputId": "fc776759-3902-4adc-948c-a8850030c418"
      },
      "source": [
        "fcover = pd.DataFrame(dataraw3['data'])\n",
        "fcover.shape"
      ],
      "execution_count": 32,
      "outputs": [
        {
          "output_type": "execute_result",
          "data": {
            "text/plain": [
              "(581012, 54)"
            ]
          },
          "metadata": {
            "tags": []
          },
          "execution_count": 32
        }
      ]
    },
    {
      "cell_type": "code",
      "metadata": {
        "id": "hgKoC-sgpTxQ",
        "colab_type": "code",
        "colab": {
          "base_uri": "https://localhost:8080/",
          "height": 297
        },
        "outputId": "cb04585e-b245-46ad-f38e-cbd8dcb88851"
      },
      "source": [
        "fcover_target = pd.DataFrame(to_categorical(dataraw3['target']))\n",
        "fcover_target.drop(columns=0, inplace=True)\n",
        "fcover_target.describe()"
      ],
      "execution_count": 33,
      "outputs": [
        {
          "output_type": "execute_result",
          "data": {
            "text/html": [
              "<div>\n",
              "<style scoped>\n",
              "    .dataframe tbody tr th:only-of-type {\n",
              "        vertical-align: middle;\n",
              "    }\n",
              "\n",
              "    .dataframe tbody tr th {\n",
              "        vertical-align: top;\n",
              "    }\n",
              "\n",
              "    .dataframe thead th {\n",
              "        text-align: right;\n",
              "    }\n",
              "</style>\n",
              "<table border=\"1\" class=\"dataframe\">\n",
              "  <thead>\n",
              "    <tr style=\"text-align: right;\">\n",
              "      <th></th>\n",
              "      <th>1</th>\n",
              "      <th>2</th>\n",
              "      <th>3</th>\n",
              "      <th>4</th>\n",
              "      <th>5</th>\n",
              "      <th>6</th>\n",
              "      <th>7</th>\n",
              "    </tr>\n",
              "  </thead>\n",
              "  <tbody>\n",
              "    <tr>\n",
              "      <th>count</th>\n",
              "      <td>581012.000000</td>\n",
              "      <td>581012.000000</td>\n",
              "      <td>581012.000000</td>\n",
              "      <td>581012.000000</td>\n",
              "      <td>581012.000000</td>\n",
              "      <td>581012.000000</td>\n",
              "      <td>581012.000000</td>\n",
              "    </tr>\n",
              "    <tr>\n",
              "      <th>mean</th>\n",
              "      <td>0.364605</td>\n",
              "      <td>0.487599</td>\n",
              "      <td>0.061537</td>\n",
              "      <td>0.004728</td>\n",
              "      <td>0.016339</td>\n",
              "      <td>0.029891</td>\n",
              "      <td>0.035300</td>\n",
              "    </tr>\n",
              "    <tr>\n",
              "      <th>std</th>\n",
              "      <td>0.481979</td>\n",
              "      <td>0.499236</td>\n",
              "      <td>0.240540</td>\n",
              "      <td>0.068436</td>\n",
              "      <td>0.126657</td>\n",
              "      <td>0.170510</td>\n",
              "      <td>0.184711</td>\n",
              "    </tr>\n",
              "    <tr>\n",
              "      <th>min</th>\n",
              "      <td>0.000000</td>\n",
              "      <td>0.000000</td>\n",
              "      <td>0.000000</td>\n",
              "      <td>0.000000</td>\n",
              "      <td>0.000000</td>\n",
              "      <td>0.000000</td>\n",
              "      <td>0.000000</td>\n",
              "    </tr>\n",
              "    <tr>\n",
              "      <th>25%</th>\n",
              "      <td>0.000000</td>\n",
              "      <td>0.000000</td>\n",
              "      <td>0.000000</td>\n",
              "      <td>0.000000</td>\n",
              "      <td>0.000000</td>\n",
              "      <td>0.000000</td>\n",
              "      <td>0.000000</td>\n",
              "    </tr>\n",
              "    <tr>\n",
              "      <th>50%</th>\n",
              "      <td>0.000000</td>\n",
              "      <td>0.000000</td>\n",
              "      <td>0.000000</td>\n",
              "      <td>0.000000</td>\n",
              "      <td>0.000000</td>\n",
              "      <td>0.000000</td>\n",
              "      <td>0.000000</td>\n",
              "    </tr>\n",
              "    <tr>\n",
              "      <th>75%</th>\n",
              "      <td>1.000000</td>\n",
              "      <td>1.000000</td>\n",
              "      <td>0.000000</td>\n",
              "      <td>0.000000</td>\n",
              "      <td>0.000000</td>\n",
              "      <td>0.000000</td>\n",
              "      <td>0.000000</td>\n",
              "    </tr>\n",
              "    <tr>\n",
              "      <th>max</th>\n",
              "      <td>1.000000</td>\n",
              "      <td>1.000000</td>\n",
              "      <td>1.000000</td>\n",
              "      <td>1.000000</td>\n",
              "      <td>1.000000</td>\n",
              "      <td>1.000000</td>\n",
              "      <td>1.000000</td>\n",
              "    </tr>\n",
              "  </tbody>\n",
              "</table>\n",
              "</div>"
            ],
            "text/plain": [
              "                   1              2  ...              6              7\n",
              "count  581012.000000  581012.000000  ...  581012.000000  581012.000000\n",
              "mean        0.364605       0.487599  ...       0.029891       0.035300\n",
              "std         0.481979       0.499236  ...       0.170510       0.184711\n",
              "min         0.000000       0.000000  ...       0.000000       0.000000\n",
              "25%         0.000000       0.000000  ...       0.000000       0.000000\n",
              "50%         0.000000       0.000000  ...       0.000000       0.000000\n",
              "75%         1.000000       1.000000  ...       0.000000       0.000000\n",
              "max         1.000000       1.000000  ...       1.000000       1.000000\n",
              "\n",
              "[8 rows x 7 columns]"
            ]
          },
          "metadata": {
            "tags": []
          },
          "execution_count": 33
        }
      ]
    },
    {
      "cell_type": "code",
      "metadata": {
        "id": "4yTZC9P3pTwL",
        "colab_type": "code",
        "colab": {
          "base_uri": "https://localhost:8080/",
          "height": 119
        },
        "outputId": "7247fae4-792e-402d-b348-4e529bd0a6ff"
      },
      "source": [
        "x_train, x_split, y_train, y_split = train_test_split(fcover, fcover_target, test_size = 0.4, shuffle = True, random_state = 0)\n",
        "x_val, x_test, y_val, y_test = train_test_split(x_split, y_split, test_size = 0.5)\n",
        "\n",
        "print(x_train.shape)\n",
        "print(x_val.shape)\n",
        "print(x_test.shape)\n",
        "print(y_train.shape)\n",
        "print(y_val.shape)\n",
        "print(y_test.shape)"
      ],
      "execution_count": 34,
      "outputs": [
        {
          "output_type": "stream",
          "text": [
            "(348607, 54)\n",
            "(116202, 54)\n",
            "(116203, 54)\n",
            "(348607, 7)\n",
            "(116202, 7)\n",
            "(116203, 7)\n"
          ],
          "name": "stdout"
        }
      ]
    },
    {
      "cell_type": "code",
      "metadata": {
        "id": "LhB3u89wpTuG",
        "colab_type": "code",
        "colab": {}
      },
      "source": [
        "nn_forest = models.Sequential()"
      ],
      "execution_count": 35,
      "outputs": []
    },
    {
      "cell_type": "code",
      "metadata": {
        "id": "Lnh4XQJ9pTsy",
        "colab_type": "code",
        "colab": {}
      },
      "source": [
        "nn_forest.add(layers.Dense(128, activation = 'relu', input_shape = (54,)))\n",
        "nn_forest.add(layers.Dense(256, activation = 'tanh'))\n",
        "nn_forest.add(layers.Dense(512, activation='relu'))\n",
        "nn_forest.add(layers.Dense(256, activation='tanh'))\n",
        "nn_forest.add(layers.Dense(128, activation='relu'))\n",
        "nn_forest.add(layers.Dense(7,activation='softmax'))"
      ],
      "execution_count": 36,
      "outputs": []
    },
    {
      "cell_type": "code",
      "metadata": {
        "id": "PGfyRTO3pTrI",
        "colab_type": "code",
        "colab": {}
      },
      "source": [
        "nn_forest.compile(optimizer='adam', loss = 'categorical_crossentropy', metrics=['accuracy'])"
      ],
      "execution_count": 37,
      "outputs": []
    },
    {
      "cell_type": "code",
      "metadata": {
        "id": "rWURpj95pTp1",
        "colab_type": "code",
        "colab": {
          "base_uri": "https://localhost:8080/",
          "height": 1000
        },
        "outputId": "d382942d-69b2-4dfd-d48c-cb57545fb9d0"
      },
      "source": [
        "forest_hist= nn_forest.fit(x_train, y_train, batch_size=1000, epochs=50, validation_data=(x_val,y_val))"
      ],
      "execution_count": 38,
      "outputs": [
        {
          "output_type": "stream",
          "text": [
            "Epoch 1/50\n",
            "349/349 [==============================] - 16s 47ms/step - loss: 1.0659 - accuracy: 0.5124 - val_loss: 1.0341 - val_accuracy: 0.5180\n",
            "Epoch 2/50\n",
            "349/349 [==============================] - 16s 47ms/step - loss: 0.9382 - accuracy: 0.5886 - val_loss: 0.9276 - val_accuracy: 0.6086\n",
            "Epoch 3/50\n",
            "349/349 [==============================] - 16s 46ms/step - loss: 0.8990 - accuracy: 0.6225 - val_loss: 0.8974 - val_accuracy: 0.5968\n",
            "Epoch 4/50\n",
            "349/349 [==============================] - 16s 46ms/step - loss: 0.8559 - accuracy: 0.6453 - val_loss: 0.8446 - val_accuracy: 0.6446\n",
            "Epoch 5/50\n",
            "349/349 [==============================] - 16s 46ms/step - loss: 0.8466 - accuracy: 0.6466 - val_loss: 0.8367 - val_accuracy: 0.6524\n",
            "Epoch 6/50\n",
            "349/349 [==============================] - 16s 46ms/step - loss: 0.8248 - accuracy: 0.6636 - val_loss: 0.8280 - val_accuracy: 0.6708\n",
            "Epoch 7/50\n",
            "349/349 [==============================] - 16s 46ms/step - loss: 0.8149 - accuracy: 0.6625 - val_loss: 0.8528 - val_accuracy: 0.6548\n",
            "Epoch 8/50\n",
            "349/349 [==============================] - 16s 46ms/step - loss: 0.8071 - accuracy: 0.6698 - val_loss: 0.8402 - val_accuracy: 0.6356\n",
            "Epoch 9/50\n",
            "349/349 [==============================] - 16s 46ms/step - loss: 0.7927 - accuracy: 0.6742 - val_loss: 0.7921 - val_accuracy: 0.6870\n",
            "Epoch 10/50\n",
            "349/349 [==============================] - 16s 46ms/step - loss: 0.7918 - accuracy: 0.6733 - val_loss: 0.7772 - val_accuracy: 0.6584\n",
            "Epoch 11/50\n",
            "349/349 [==============================] - 16s 45ms/step - loss: 0.7751 - accuracy: 0.6808 - val_loss: 0.7646 - val_accuracy: 0.6972\n",
            "Epoch 12/50\n",
            "349/349 [==============================] - 16s 46ms/step - loss: 0.7704 - accuracy: 0.6812 - val_loss: 0.7741 - val_accuracy: 0.6670\n",
            "Epoch 13/50\n",
            "349/349 [==============================] - 16s 46ms/step - loss: 0.7569 - accuracy: 0.6853 - val_loss: 0.7710 - val_accuracy: 0.6863\n",
            "Epoch 14/50\n",
            "349/349 [==============================] - 16s 46ms/step - loss: 0.7521 - accuracy: 0.6816 - val_loss: 0.7847 - val_accuracy: 0.6541\n",
            "Epoch 15/50\n",
            "349/349 [==============================] - 16s 46ms/step - loss: 0.7407 - accuracy: 0.6880 - val_loss: 0.7235 - val_accuracy: 0.7096\n",
            "Epoch 16/50\n",
            "349/349 [==============================] - 16s 46ms/step - loss: 0.7274 - accuracy: 0.6937 - val_loss: 0.7072 - val_accuracy: 0.7133\n",
            "Epoch 17/50\n",
            "349/349 [==============================] - 16s 47ms/step - loss: 0.7254 - accuracy: 0.7003 - val_loss: 0.7263 - val_accuracy: 0.6885\n",
            "Epoch 18/50\n",
            "349/349 [==============================] - 16s 46ms/step - loss: 0.7164 - accuracy: 0.7024 - val_loss: 0.7118 - val_accuracy: 0.7066\n",
            "Epoch 19/50\n",
            "349/349 [==============================] - 16s 46ms/step - loss: 0.7167 - accuracy: 0.7011 - val_loss: 0.6870 - val_accuracy: 0.7160\n",
            "Epoch 20/50\n",
            "349/349 [==============================] - 16s 46ms/step - loss: 0.6949 - accuracy: 0.7077 - val_loss: 0.6853 - val_accuracy: 0.7102\n",
            "Epoch 21/50\n",
            "349/349 [==============================] - 16s 46ms/step - loss: 0.6973 - accuracy: 0.7062 - val_loss: 0.6825 - val_accuracy: 0.7082\n",
            "Epoch 22/50\n",
            "349/349 [==============================] - 16s 47ms/step - loss: 0.6924 - accuracy: 0.7067 - val_loss: 0.7773 - val_accuracy: 0.6398\n",
            "Epoch 23/50\n",
            "349/349 [==============================] - 16s 46ms/step - loss: 0.6842 - accuracy: 0.7092 - val_loss: 0.6973 - val_accuracy: 0.7101\n",
            "Epoch 24/50\n",
            "349/349 [==============================] - 16s 46ms/step - loss: 0.6785 - accuracy: 0.7098 - val_loss: 0.6812 - val_accuracy: 0.7095\n",
            "Epoch 25/50\n",
            "349/349 [==============================] - 16s 46ms/step - loss: 0.6780 - accuracy: 0.7137 - val_loss: 0.6533 - val_accuracy: 0.7247\n",
            "Epoch 26/50\n",
            "349/349 [==============================] - 16s 47ms/step - loss: 0.6733 - accuracy: 0.7141 - val_loss: 0.6474 - val_accuracy: 0.7268\n",
            "Epoch 27/50\n",
            "349/349 [==============================] - 16s 47ms/step - loss: 0.6613 - accuracy: 0.7180 - val_loss: 0.6567 - val_accuracy: 0.7211\n",
            "Epoch 28/50\n",
            "349/349 [==============================] - 16s 47ms/step - loss: 0.6567 - accuracy: 0.7178 - val_loss: 0.6427 - val_accuracy: 0.7301\n",
            "Epoch 29/50\n",
            "349/349 [==============================] - 16s 46ms/step - loss: 0.6463 - accuracy: 0.7244 - val_loss: 0.6339 - val_accuracy: 0.7336\n",
            "Epoch 30/50\n",
            "349/349 [==============================] - 16s 46ms/step - loss: 0.6508 - accuracy: 0.7188 - val_loss: 0.6709 - val_accuracy: 0.7137\n",
            "Epoch 31/50\n",
            "349/349 [==============================] - 16s 46ms/step - loss: 0.6376 - accuracy: 0.7240 - val_loss: 0.6253 - val_accuracy: 0.7287\n",
            "Epoch 32/50\n",
            "349/349 [==============================] - 16s 46ms/step - loss: 0.6270 - accuracy: 0.7299 - val_loss: 0.6205 - val_accuracy: 0.7349\n",
            "Epoch 33/50\n",
            "349/349 [==============================] - 16s 46ms/step - loss: 0.6237 - accuracy: 0.7302 - val_loss: 0.6317 - val_accuracy: 0.7260\n",
            "Epoch 34/50\n",
            "349/349 [==============================] - 16s 46ms/step - loss: 0.6279 - accuracy: 0.7268 - val_loss: 0.6167 - val_accuracy: 0.7319\n",
            "Epoch 35/50\n",
            "349/349 [==============================] - 16s 46ms/step - loss: 0.6153 - accuracy: 0.7323 - val_loss: 0.6125 - val_accuracy: 0.7366\n",
            "Epoch 36/50\n",
            "349/349 [==============================] - 16s 47ms/step - loss: 0.6174 - accuracy: 0.7328 - val_loss: 0.6181 - val_accuracy: 0.7278\n",
            "Epoch 37/50\n",
            "349/349 [==============================] - 16s 47ms/step - loss: 0.6124 - accuracy: 0.7334 - val_loss: 0.5894 - val_accuracy: 0.7403\n",
            "Epoch 38/50\n",
            "349/349 [==============================] - 16s 46ms/step - loss: 0.5989 - accuracy: 0.7394 - val_loss: 0.5921 - val_accuracy: 0.7464\n",
            "Epoch 39/50\n",
            "349/349 [==============================] - 16s 46ms/step - loss: 0.5933 - accuracy: 0.7415 - val_loss: 0.5775 - val_accuracy: 0.7496\n",
            "Epoch 40/50\n",
            "349/349 [==============================] - 16s 46ms/step - loss: 0.5920 - accuracy: 0.7418 - val_loss: 0.5875 - val_accuracy: 0.7415\n",
            "Epoch 41/50\n",
            "349/349 [==============================] - 16s 47ms/step - loss: 0.5875 - accuracy: 0.7454 - val_loss: 0.5722 - val_accuracy: 0.7505\n",
            "Epoch 42/50\n",
            "349/349 [==============================] - 16s 46ms/step - loss: 0.5810 - accuracy: 0.7485 - val_loss: 0.5868 - val_accuracy: 0.7431\n",
            "Epoch 43/50\n",
            "349/349 [==============================] - 16s 46ms/step - loss: 0.5778 - accuracy: 0.7483 - val_loss: 0.5813 - val_accuracy: 0.7474\n",
            "Epoch 44/50\n",
            "349/349 [==============================] - 16s 47ms/step - loss: 0.5793 - accuracy: 0.7469 - val_loss: 0.5930 - val_accuracy: 0.7343\n",
            "Epoch 45/50\n",
            "349/349 [==============================] - 16s 46ms/step - loss: 0.5705 - accuracy: 0.7509 - val_loss: 0.5641 - val_accuracy: 0.7575\n",
            "Epoch 46/50\n",
            "349/349 [==============================] - 16s 46ms/step - loss: 0.5668 - accuracy: 0.7521 - val_loss: 0.5939 - val_accuracy: 0.7344\n",
            "Epoch 47/50\n",
            "349/349 [==============================] - 16s 46ms/step - loss: 0.5672 - accuracy: 0.7508 - val_loss: 0.5673 - val_accuracy: 0.7466\n",
            "Epoch 48/50\n",
            "349/349 [==============================] - 16s 46ms/step - loss: 0.5654 - accuracy: 0.7528 - val_loss: 0.5577 - val_accuracy: 0.7576\n",
            "Epoch 49/50\n",
            "349/349 [==============================] - 16s 46ms/step - loss: 0.5560 - accuracy: 0.7574 - val_loss: 0.5379 - val_accuracy: 0.7654\n",
            "Epoch 50/50\n",
            "349/349 [==============================] - 16s 46ms/step - loss: 0.5484 - accuracy: 0.7616 - val_loss: 0.5402 - val_accuracy: 0.7641\n"
          ],
          "name": "stdout"
        }
      ]
    },
    {
      "cell_type": "code",
      "metadata": {
        "id": "VgMzqxSupToC",
        "colab_type": "code",
        "colab": {
          "base_uri": "https://localhost:8080/",
          "height": 51
        },
        "outputId": "03ce7f42-97e2-4fb7-9fc6-3a70ffe5b176"
      },
      "source": [
        "nn_forest.evaluate(x_val, y_val)[1]"
      ],
      "execution_count": 39,
      "outputs": [
        {
          "output_type": "stream",
          "text": [
            "3632/3632 [==============================] - 6s 2ms/step - loss: 0.5402 - accuracy: 0.7641\n"
          ],
          "name": "stdout"
        },
        {
          "output_type": "execute_result",
          "data": {
            "text/plain": [
              "0.7641090750694275"
            ]
          },
          "metadata": {
            "tags": []
          },
          "execution_count": 39
        }
      ]
    },
    {
      "cell_type": "code",
      "metadata": {
        "id": "Y62c5qwUpTmf",
        "colab_type": "code",
        "colab": {
          "base_uri": "https://localhost:8080/",
          "height": 51
        },
        "outputId": "1b073467-503c-42ed-cc59-f84d7e26a45c"
      },
      "source": [
        "nn_forest.evaluate(x_test, y_test)[1]"
      ],
      "execution_count": 40,
      "outputs": [
        {
          "output_type": "stream",
          "text": [
            "3632/3632 [==============================] - 6s 2ms/step - loss: 0.5395 - accuracy: 0.7655\n"
          ],
          "name": "stdout"
        },
        {
          "output_type": "execute_result",
          "data": {
            "text/plain": [
              "0.7655395865440369"
            ]
          },
          "metadata": {
            "tags": []
          },
          "execution_count": 40
        }
      ]
    },
    {
      "cell_type": "code",
      "metadata": {
        "id": "wdJhQxq5pTk4",
        "colab_type": "code",
        "colab": {
          "base_uri": "https://localhost:8080/",
          "height": 899
        },
        "outputId": "bf038caf-dc80-4070-ed39-7b80dfa499b2"
      },
      "source": [
        "plt.figure(figsize = (10,7))\n",
        "plt.plot(forest_hist.history['accuracy'], color = 'blue')\n",
        "plt.plot(forest_hist.history['val_accuracy'], color = 'red')\n",
        "plt.title('Model accuracy')\n",
        "plt.ylabel('Accuracy')\n",
        "plt.xlabel('Epoch')\n",
        "plt.legend(['Train', 'Validation'], loc='upper left')\n",
        "plt.show()\n",
        "\n",
        "plt.figure(figsize = (10,7))\n",
        "plt.plot(forest_hist.history['loss'], color = 'blue')\n",
        "plt.plot(forest_hist.history['val_loss'], color = 'red')\n",
        "plt.ylim((0,1))\n",
        "plt.title('Model loss')\n",
        "plt.ylabel('Loss')\n",
        "plt.xlabel('Epoch')\n",
        "plt.legend(['Train', 'Validation'], loc='upper left')\n",
        "plt.show()"
      ],
      "execution_count": 41,
      "outputs": [
        {
          "output_type": "display_data",
          "data": {
            "image/png": "[encoded data removed]",
            "text/plain": [
              "<Figure size 720x504 with 1 Axes>"
            ]
          },
          "metadata": {
            "tags": [],
            "needs_background": "light"
          }
        },
        {
          "output_type": "display_data",
          "data": {
            "image/png": "[encoded data removed]",
            "text/plain": [
              "<Figure size 720x504 with 1 Axes>"
            ]
          },
          "metadata": {
            "tags": [],
            "needs_background": "light"
          }
        }
      ]
    },
    {
      "cell_type": "code",
      "metadata": {
        "id": "kKu2vsONpTjq",
        "colab_type": "code",
        "colab": {}
      },
      "source": [
        ""
      ],
      "execution_count": 41,
      "outputs": []
    },
    {
      "cell_type": "markdown",
      "metadata": {
        "id": "G7llPB9ll4-3",
        "colab_type": "text"
      },
      "source": [
        "# KddCups99 Dataset"
      ]
    },
    {
      "cell_type": "code",
      "metadata": {
        "id": "yuR1fHkupTit",
        "colab_type": "code",
        "colab": {
          "base_uri": "https://localhost:8080/",
          "height": 34
        },
        "outputId": "6fffe1ea-c3c2-4bf8-a177-808f98ca3a94"
      },
      "source": [
        "kddcup99 = fetch_kddcup99()\n",
        "x_fetch_kddcup99 = kddcup99.data\n",
        "y_fetch_kddcup99 = kddcup99.target"
      ],
      "execution_count": 42,
      "outputs": [
        {
          "output_type": "stream",
          "text": [
            "Downloading https://ndownloader.figshare.com/files/5976042\n"
          ],
          "name": "stderr"
        }
      ]
    },
    {
      "cell_type": "code",
      "metadata": {
        "id": "kssnTZsMpThP",
        "colab_type": "code",
        "colab": {
          "base_uri": "https://localhost:8080/",
          "height": 51
        },
        "outputId": "bf9902e9-b43e-4553-e1d5-bf75469b1ffc"
      },
      "source": [
        "x_kdd = pd.DataFrame(x_fetch_kddcup99)\n",
        "y_kdd = pd.DataFrame(y_fetch_kddcup99)\n",
        "print(x_kdd.shape)\n",
        "print(y_kdd.shape)"
      ],
      "execution_count": 43,
      "outputs": [
        {
          "output_type": "stream",
          "text": [
            "(494021, 41)\n",
            "(494021, 1)\n"
          ],
          "name": "stdout"
        }
      ]
    },
    {
      "cell_type": "code",
      "metadata": {
        "id": "rTqBpsoupTew",
        "colab_type": "code",
        "colab": {}
      },
      "source": [
        "le = LabelEncoder()\n",
        "for i in [1,2,3]:\n",
        "  x_kdd[i] = [j.decode('utf-8') for j in x_kdd[i]]\n",
        "  x_kdd[i] = le.fit_transform(x_kdd[i])\n",
        "\n",
        "for i in range(x_kdd.shape[1]):\n",
        "  x_kdd[i] = x_kdd[i].astype('float')"
      ],
      "execution_count": 44,
      "outputs": []
    },
    {
      "cell_type": "code",
      "metadata": {
        "id": "Bvo7ifD4pTdk",
        "colab_type": "code",
        "colab": {}
      },
      "source": [
        "y_kdd99 = [i.decode('utf-8') for i in y_fetch_kddcup99]\n",
        "y_kdd99 = pd.DataFrame(le.fit_transform(y_kdd99))"
      ],
      "execution_count": 45,
      "outputs": []
    },
    {
      "cell_type": "code",
      "metadata": {
        "id": "MhmSfO_cpTb1",
        "colab_type": "code",
        "colab": {
          "base_uri": "https://localhost:8080/",
          "height": 119
        },
        "outputId": "5cb6720d-fcb8-4055-9774-840b4d13edc5"
      },
      "source": [
        "y_kdd99 = to_categorical(y_kdd99)\n",
        "x_train, x_test, y_train, y_test = train_test_split(x_kdd, y_kdd99, test_size = 0.2)\n",
        "x_dev, x_test, y_dev, y_test = train_test_split(x_test, y_test, test_size = 0.5)\n",
        "print(x_train.shape)\n",
        "print(x_dev.shape)\n",
        "print(x_test.shape)\n",
        "print(y_train.shape)\n",
        "print(y_dev.shape)\n",
        "print(y_test.shape)"
      ],
      "execution_count": 46,
      "outputs": [
        {
          "output_type": "stream",
          "text": [
            "(395216, 41)\n",
            "(49402, 41)\n",
            "(49403, 41)\n",
            "(395216, 23)\n",
            "(49402, 23)\n",
            "(49403, 23)\n"
          ],
          "name": "stdout"
        }
      ]
    },
    {
      "cell_type": "code",
      "metadata": {
        "id": "bBmqf19ipTae",
        "colab_type": "code",
        "colab": {}
      },
      "source": [
        "nn_kdd99 = models.Sequential()\n",
        "nn_kdd99.add(layers.Dense(256, activation = 'relu', input_shape = (41, )))\n",
        "nn_kdd99.add(layers.Dense(128, activation = 'relu'))\n",
        "nn_kdd99.add(layers.Dense(64, activation = 'relu'))\n",
        "nn_kdd99.add(layers.Dense(32, activation = 'relu'))\n",
        "nn_kdd99.add(layers.Dense(23, activation = 'softmax'))\n",
        "nn_kdd99.compile(optimizer = 'rmsprop', loss = 'categorical_crossentropy', metrics = ['accuracy'])"
      ],
      "execution_count": 47,
      "outputs": []
    },
    {
      "cell_type": "code",
      "metadata": {
        "id": "sGS-xMVrpTYt",
        "colab_type": "code",
        "colab": {
          "base_uri": "https://localhost:8080/",
          "height": 391
        },
        "outputId": "e34797b1-1bc4-4770-c0a7-694673d4b743"
      },
      "source": [
        "kdd99_history = nn_kdd99.fit(x_train, y_train, epochs = 10, batch_size = 1000, validation_data = (x_dev, y_dev))"
      ],
      "execution_count": 48,
      "outputs": [
        {
          "output_type": "stream",
          "text": [
            "Epoch 1/10\n",
            "396/396 [==============================] - 5s 11ms/step - loss: 109.2197 - accuracy: 0.9512 - val_loss: 4.6717 - val_accuracy: 0.9640\n",
            "Epoch 2/10\n",
            "396/396 [==============================] - 4s 11ms/step - loss: 130.4110 - accuracy: 0.9770 - val_loss: 4.4498 - val_accuracy: 0.9691\n",
            "Epoch 3/10\n",
            "396/396 [==============================] - 4s 11ms/step - loss: 78.6972 - accuracy: 0.9841 - val_loss: 10.4723 - val_accuracy: 0.9868\n",
            "Epoch 4/10\n",
            "396/396 [==============================] - 4s 11ms/step - loss: 79.3164 - accuracy: 0.9860 - val_loss: 4.3919 - val_accuracy: 0.8644\n",
            "Epoch 5/10\n",
            "396/396 [==============================] - 5s 11ms/step - loss: 26.5883 - accuracy: 0.9879 - val_loss: 0.6596 - val_accuracy: 0.9820\n",
            "Epoch 6/10\n",
            "396/396 [==============================] - 4s 11ms/step - loss: 60.5170 - accuracy: 0.9885 - val_loss: 0.5401 - val_accuracy: 0.9937\n",
            "Epoch 7/10\n",
            "396/396 [==============================] - 4s 11ms/step - loss: 88.8848 - accuracy: 0.9918 - val_loss: 0.5245 - val_accuracy: 0.9971\n",
            "Epoch 8/10\n",
            "396/396 [==============================] - 4s 11ms/step - loss: 3.2295 - accuracy: 0.9903 - val_loss: 2.0799 - val_accuracy: 0.9831\n",
            "Epoch 9/10\n",
            "396/396 [==============================] - 4s 11ms/step - loss: 0.4606 - accuracy: 0.9918 - val_loss: 0.0406 - val_accuracy: 0.9932\n",
            "Epoch 10/10\n",
            "396/396 [==============================] - 4s 11ms/step - loss: 0.1998 - accuracy: 0.9915 - val_loss: 0.0410 - val_accuracy: 0.9926\n",
            "1544/1544 [==============================] - 1s 971us/step - loss: 0.0410 - accuracy: 0.9926\n",
            "The dev accuracy is 0.9925509095191956\n"
          ],
          "name": "stdout"
        }
      ]
    },
    {
      "cell_type": "code",
      "metadata": {
        "id": "UXtU_34wog9c",
        "colab_type": "code",
        "colab": {
          "base_uri": "https://localhost:8080/",
          "height": 85
        },
        "outputId": "0887395b-7472-42ee-995f-2c94e2c5ba99"
      },
      "source": [
        "kdd99_dev_acc = nn_kdd99.evaluate(x_dev, y_dev)[1]\n",
        "print('The dev accuracy is', kdd99_dev_acc)\n",
        "\n",
        "kdd99_test_acc = nn_kdd99.evaluate(x_test, y_test)[1]\n",
        "print('The test accuracy is', kdd99_test_acc)"
      ],
      "execution_count": 51,
      "outputs": [
        {
          "output_type": "stream",
          "text": [
            "1544/1544 [==============================] - 1s 937us/step - loss: 0.0410 - accuracy: 0.9926\n",
            "The dev accuracy is 0.9925509095191956\n",
            "1544/1544 [==============================] - 1s 931us/step - loss: 0.0387 - accuracy: 0.9923\n",
            "The test accuracy is 0.992328405380249\n"
          ],
          "name": "stdout"
        }
      ]
    },
    {
      "cell_type": "code",
      "metadata": {
        "id": "XjhPQT32pTXo",
        "colab_type": "code",
        "colab": {
          "base_uri": "https://localhost:8080/",
          "height": 899
        },
        "outputId": "f9c019fa-e70e-4ace-dd9b-89667673c521"
      },
      "source": [
        "\n",
        "plt.figure(figsize = (10,7))\n",
        "plt.plot(kdd99_history.history['accuracy'], color = 'blue')\n",
        "plt.plot(kdd99_history.history['val_accuracy'], color = 'red')\n",
        "plt.title('Model accuracy')\n",
        "plt.ylabel('Accuracy')\n",
        "plt.xlabel('Epoch')\n",
        "plt.legend(['Train', 'Validation'], loc='upper left')\n",
        "plt.show()\n",
        "\n",
        "plt.figure(figsize = (10,7))\n",
        "plt.plot(kdd99_history.history['loss'], color = 'blue')\n",
        "plt.plot(kdd99_history.history['val_loss'], color = 'red')\n",
        "plt.ylim((0,3))\n",
        "plt.title('Model loss')\n",
        "plt.ylabel('Loss')\n",
        "plt.xlabel('Epoch')\n",
        "plt.legend(['Train', 'Validation'], loc='upper left')\n",
        "plt.show()"
      ],
      "execution_count": 52,
      "outputs": [
        {
          "output_type": "display_data",
          "data": {
            "image/png": "[encoded data removed]",
            "text/plain": [
              "<Figure size 720x504 with 1 Axes>"
            ]
          },
          "metadata": {
            "tags": [],
            "needs_background": "light"
          }
        },
        {
          "output_type": "display_data",
          "data": {
            "image/png": "[encoded data removed]",
            "text/plain": [
              "<Figure size 720x504 with 1 Axes>"
            ]
          },
          "metadata": {
            "tags": [],
            "needs_background": "light"
          }
        }
      ]
    },
    {
      "cell_type": "code",
      "metadata": {
        "id": "csn-6ToUpTWa",
        "colab_type": "code",
        "colab": {}
      },
      "source": [
        ""
      ],
      "execution_count": 52,
      "outputs": []
    },
    {
      "cell_type": "code",
      "metadata": {
        "id": "klyuo134P9Y9",
        "colab_type": "code",
        "colab": {}
      },
      "source": [
        ""
      ],
      "execution_count": 50,
      "outputs": []
    }
  ]
}