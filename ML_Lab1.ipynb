{
  "nbformat": 4,
  "nbformat_minor": 0,
  "metadata": {
    "colab": {
      "name": "ML_Lab1.ipynb",
      "provenance": [],
      "collapsed_sections": [],
      "authorship_tag": "ABX9TyPS2trTa1Cn8IiRXt1494Xb",
      "include_colab_link": true
    },
    "kernelspec": {
      "name": "python3",
      "display_name": "Python 3"
    }
  },
  "cells": [
    {
      "cell_type": "markdown",
      "metadata": {
        "id": "view-in-github",
        "colab_type": "text"
      },
      "source": [
        "<a href=\"https://colab.research.google.com/github/Jash-Bhatia/Machine_Learning/blob/master/ML_Lab1.ipynb\" target=\"_parent\"><img src=\"https://colab.research.google.com/assets/colab-badge.svg\" alt=\"Open In Colab\"/></a>"
      ]
    },
    {
      "cell_type": "code",
      "metadata": {
        "id": "FM5Kus3YYJOs",
        "colab_type": "code",
        "colab": {}
      },
      "source": [
        "import numpy as np\n",
        "import pandas as pd\n",
        "import matplotlib.pyplot as plt"
      ],
      "execution_count": null,
      "outputs": []
    },
    {
      "cell_type": "code",
      "metadata": {
        "id": "KCeGp3i127TT",
        "colab_type": "code",
        "colab": {}
      },
      "source": [
        "depression = pd.read_csv(\"depression.csv\")"
      ],
      "execution_count": null,
      "outputs": []
    },
    {
      "cell_type": "markdown",
      "metadata": {
        "id": "pGxNYbhXGPpn",
        "colab_type": "text"
      },
      "source": [
        "**Here is a summary of the variables in our dataset:**\n",
        "\n",
        "\n",
        "\n",
        "Hospt: The patient's hospital, represented by a code for each of the 5 hospitals (1, 2, 3, 5, or 6)\n",
        "\n",
        "\n",
        "Treat: The treatment received by the patient (Lithium, Imipramine, or Placebo)\n",
        "\n",
        "\n",
        "Outcome: Whether or not a recurrence occurred during the patient's treatment (Recurrence or No Recurrence)\n",
        "\n",
        "\n",
        "Time: Either the time in days till the first recurrence, or if a recurrence did not occur, the length in days of the patient's participation in the study.\n",
        "\n",
        "\n",
        "AcuteT: The time in days that the patient was depressed prior to the study.\n",
        "\n",
        "\n",
        "Age: The age of the patient in years, when the patient entered the study.\n",
        "\n",
        "\n",
        "Gender: The patient's gender (1 = Female, 2 = Male)"
      ]
    },
    {
      "cell_type": "code",
      "metadata": {
        "id": "hkgcNCqC29HZ",
        "colab_type": "code",
        "colab": {}
      },
      "source": [
        "depression.drop(columns=['Unnamed: 0'],inplace=True)"
      ],
      "execution_count": null,
      "outputs": []
    },
    {
      "cell_type": "code",
      "metadata": {
        "id": "HK6oU29929EM",
        "colab_type": "code",
        "colab": {
          "base_uri": "https://localhost:8080/",
          "height": 204
        },
        "outputId": "97f2316f-5fc8-4e55-e2ff-5ac3fa3f7a5c"
      },
      "source": [
        "depression.head()"
      ],
      "execution_count": null,
      "outputs": [
        {
          "output_type": "execute_result",
          "data": {
            "text/html": [
              "<div>\n",
              "<style scoped>\n",
              "    .dataframe tbody tr th:only-of-type {\n",
              "        vertical-align: middle;\n",
              "    }\n",
              "\n",
              "    .dataframe tbody tr th {\n",
              "        vertical-align: top;\n",
              "    }\n",
              "\n",
              "    .dataframe thead th {\n",
              "        text-align: right;\n",
              "    }\n",
              "</style>\n",
              "<table border=\"1\" class=\"dataframe\">\n",
              "  <thead>\n",
              "    <tr style=\"text-align: right;\">\n",
              "      <th></th>\n",
              "      <th>Hospt</th>\n",
              "      <th>Treat</th>\n",
              "      <th>Outcome</th>\n",
              "      <th>Time</th>\n",
              "      <th>AcuteT</th>\n",
              "      <th>Age</th>\n",
              "      <th>Gender</th>\n",
              "    </tr>\n",
              "  </thead>\n",
              "  <tbody>\n",
              "    <tr>\n",
              "      <th>0</th>\n",
              "      <td>1</td>\n",
              "      <td>0</td>\n",
              "      <td>1</td>\n",
              "      <td>36.143002</td>\n",
              "      <td>211</td>\n",
              "      <td>33</td>\n",
              "      <td>1</td>\n",
              "    </tr>\n",
              "    <tr>\n",
              "      <th>1</th>\n",
              "      <td>1</td>\n",
              "      <td>1</td>\n",
              "      <td>0</td>\n",
              "      <td>105.142998</td>\n",
              "      <td>176</td>\n",
              "      <td>49</td>\n",
              "      <td>1</td>\n",
              "    </tr>\n",
              "    <tr>\n",
              "      <th>2</th>\n",
              "      <td>1</td>\n",
              "      <td>1</td>\n",
              "      <td>0</td>\n",
              "      <td>74.570999</td>\n",
              "      <td>191</td>\n",
              "      <td>50</td>\n",
              "      <td>1</td>\n",
              "    </tr>\n",
              "    <tr>\n",
              "      <th>3</th>\n",
              "      <td>1</td>\n",
              "      <td>0</td>\n",
              "      <td>1</td>\n",
              "      <td>49.714001</td>\n",
              "      <td>206</td>\n",
              "      <td>29</td>\n",
              "      <td>2</td>\n",
              "    </tr>\n",
              "    <tr>\n",
              "      <th>4</th>\n",
              "      <td>1</td>\n",
              "      <td>0</td>\n",
              "      <td>0</td>\n",
              "      <td>14.429000</td>\n",
              "      <td>63</td>\n",
              "      <td>29</td>\n",
              "      <td>1</td>\n",
              "    </tr>\n",
              "  </tbody>\n",
              "</table>\n",
              "</div>"
            ],
            "text/plain": [
              "   Hospt  Treat  Outcome        Time  AcuteT  Age  Gender\n",
              "0      1      0        1   36.143002     211   33       1\n",
              "1      1      1        0  105.142998     176   49       1\n",
              "2      1      1        0   74.570999     191   50       1\n",
              "3      1      0        1   49.714001     206   29       2\n",
              "4      1      0        0   14.429000      63   29       1"
            ]
          },
          "metadata": {
            "tags": []
          },
          "execution_count": 4
        }
      ]
    },
    {
      "cell_type": "code",
      "metadata": {
        "id": "uVsXGI4UGEPS",
        "colab_type": "code",
        "colab": {
          "base_uri": "https://localhost:8080/",
          "height": 153
        },
        "outputId": "49e4f52b-483e-4387-eebe-0a3cbbc02293"
      },
      "source": [
        "depression.dtypes"
      ],
      "execution_count": null,
      "outputs": [
        {
          "output_type": "execute_result",
          "data": {
            "text/plain": [
              "Hospt        int64\n",
              "Treat        int64\n",
              "Outcome      int64\n",
              "Time       float64\n",
              "AcuteT       int64\n",
              "Age          int64\n",
              "Gender       int64\n",
              "dtype: object"
            ]
          },
          "metadata": {
            "tags": []
          },
          "execution_count": 5
        }
      ]
    },
    {
      "cell_type": "markdown",
      "metadata": {
        "id": "YG681N1iFneB",
        "colab_type": "text"
      },
      "source": [
        "Q. What are the categorical variables in this dataset?\n",
        "\n",
        "\n",
        "The categorical variables are 1) Hostp because the numbers represent codes, which are used to identify individual hospitals and place them into categories.\n",
        "\n",
        "\n",
        "As such, the numbers used for the codes (1, 2, 3, 5, and 6) have no arithmetic meaning; 2) Treat because the treatment received by the patients is in the form of categories (Lithium, Imipramine, or Placebo); 3) Outcome since recurrence is in the form of two categories (Recurrence or No Recurrence) and 4) Gender because the numbers represent two distinct categories: Female and Male.\n",
        "\n",
        "\n",
        "Thus, the numbers used to represent gender (1 = Female; 2 = Male) have no arithmetic meaning.\n",
        "\n",
        "\n",
        "Since these columns are not of categorical/object data type, we do the required conversions"
      ]
    },
    {
      "cell_type": "code",
      "metadata": {
        "id": "kb6wI_tq29BS",
        "colab_type": "code",
        "colab": {}
      },
      "source": [
        "depression['Hospt'] = depression['Hospt'].astype(object)\n",
        "depression['Gender'] = depression['Gender'].astype(object)\n",
        "depression['Treat'] = depression['Treat'].astype(object)\n",
        "depression['Outcome'] = depression['Outcome'].astype(object)"
      ],
      "execution_count": null,
      "outputs": []
    },
    {
      "cell_type": "code",
      "metadata": {
        "id": "FJq-ta_u28_X",
        "colab_type": "code",
        "colab": {
          "base_uri": "https://localhost:8080/",
          "height": 153
        },
        "outputId": "4c3011c3-e145-4eac-a9dd-0532d3bc1878"
      },
      "source": [
        "depression.dtypes"
      ],
      "execution_count": null,
      "outputs": [
        {
          "output_type": "execute_result",
          "data": {
            "text/plain": [
              "Hospt       object\n",
              "Treat       object\n",
              "Outcome     object\n",
              "Time       float64\n",
              "AcuteT       int64\n",
              "Age          int64\n",
              "Gender      object\n",
              "dtype: object"
            ]
          },
          "metadata": {
            "tags": []
          },
          "execution_count": 7
        }
      ]
    },
    {
      "cell_type": "markdown",
      "metadata": {
        "id": "2hPZf4B1KESC",
        "colab_type": "text"
      },
      "source": [
        "Q. What are the quantitative variables in this dataset?\n",
        "\n",
        "\n",
        "The quantitative variables are 1) Time since it can take on multiple numerical values, which have arithmetic meaning (i.e., it makes sense to add, subtract, multiply, divide, or compare the magnitude of such values);\n",
        "\n",
        "\n",
        "2) Age since it can take on multiple numerical values, which represent a characteristic of the patient; and 3) AcuteT because it can take on multiple numerical values to represent a characteristic of the patient.\n",
        "\n"
      ]
    },
    {
      "cell_type": "code",
      "metadata": {
        "id": "bh0Z2mWOKBhL",
        "colab_type": "code",
        "colab": {}
      },
      "source": [
        ""
      ],
      "execution_count": null,
      "outputs": []
    },
    {
      "cell_type": "code",
      "metadata": {
        "id": "CiUd2j7q289m",
        "colab_type": "code",
        "colab": {}
      },
      "source": [
        ""
      ],
      "execution_count": null,
      "outputs": []
    },
    {
      "cell_type": "markdown",
      "metadata": {
        "id": "ByrT56n_iEF5",
        "colab_type": "text"
      },
      "source": [
        "Tallying Data and Creating Pie Charts\n",
        "\n",
        "\n",
        "The same survey that asked 1,200 U.S. college students about their body perception also asked the following question:\n",
        "\n",
        "\n",
        "\"With whom do you find it easiest to make friends?\" (opposite sex, same sex or no difference).\n",
        "\n",
        "\n",
        "In this activity we will use the collected data to:\n",
        "\n",
        "learn how to tally our data into a table of counts and percents.\n",
        "\n",
        "learn how to produce a pie chart."
      ]
    },
    {
      "cell_type": "code",
      "metadata": {
        "id": "g6u162Wi2844",
        "colab_type": "code",
        "colab": {}
      },
      "source": [
        "friends = pd.read_csv(\"friends.csv\")"
      ],
      "execution_count": null,
      "outputs": []
    },
    {
      "cell_type": "code",
      "metadata": {
        "id": "pHfDPNBC282t",
        "colab_type": "code",
        "colab": {
          "base_uri": "https://localhost:8080/",
          "height": 419
        },
        "outputId": "0175efe8-ef07-4e27-8292-1e28eded9707"
      },
      "source": [
        "friends"
      ],
      "execution_count": null,
      "outputs": [
        {
          "output_type": "execute_result",
          "data": {
            "text/html": [
              "<div>\n",
              "<style scoped>\n",
              "    .dataframe tbody tr th:only-of-type {\n",
              "        vertical-align: middle;\n",
              "    }\n",
              "\n",
              "    .dataframe tbody tr th {\n",
              "        vertical-align: top;\n",
              "    }\n",
              "\n",
              "    .dataframe thead th {\n",
              "        text-align: right;\n",
              "    }\n",
              "</style>\n",
              "<table border=\"1\" class=\"dataframe\">\n",
              "  <thead>\n",
              "    <tr style=\"text-align: right;\">\n",
              "      <th></th>\n",
              "      <th>Unnamed: 0</th>\n",
              "      <th>Friends</th>\n",
              "    </tr>\n",
              "  </thead>\n",
              "  <tbody>\n",
              "    <tr>\n",
              "      <th>0</th>\n",
              "      <td>1</td>\n",
              "      <td>No difference</td>\n",
              "    </tr>\n",
              "    <tr>\n",
              "      <th>1</th>\n",
              "      <td>2</td>\n",
              "      <td>No difference</td>\n",
              "    </tr>\n",
              "    <tr>\n",
              "      <th>2</th>\n",
              "      <td>3</td>\n",
              "      <td>No difference</td>\n",
              "    </tr>\n",
              "    <tr>\n",
              "      <th>3</th>\n",
              "      <td>4</td>\n",
              "      <td>No difference</td>\n",
              "    </tr>\n",
              "    <tr>\n",
              "      <th>4</th>\n",
              "      <td>5</td>\n",
              "      <td>No difference</td>\n",
              "    </tr>\n",
              "    <tr>\n",
              "      <th>...</th>\n",
              "      <td>...</td>\n",
              "      <td>...</td>\n",
              "    </tr>\n",
              "    <tr>\n",
              "      <th>1195</th>\n",
              "      <td>1196</td>\n",
              "      <td>Same sex</td>\n",
              "    </tr>\n",
              "    <tr>\n",
              "      <th>1196</th>\n",
              "      <td>1197</td>\n",
              "      <td>Same sex</td>\n",
              "    </tr>\n",
              "    <tr>\n",
              "      <th>1197</th>\n",
              "      <td>1198</td>\n",
              "      <td>Same sex</td>\n",
              "    </tr>\n",
              "    <tr>\n",
              "      <th>1198</th>\n",
              "      <td>1199</td>\n",
              "      <td>Same sex</td>\n",
              "    </tr>\n",
              "    <tr>\n",
              "      <th>1199</th>\n",
              "      <td>1200</td>\n",
              "      <td>Same sex</td>\n",
              "    </tr>\n",
              "  </tbody>\n",
              "</table>\n",
              "<p>1200 rows × 2 columns</p>\n",
              "</div>"
            ],
            "text/plain": [
              "      Unnamed: 0        Friends\n",
              "0              1  No difference\n",
              "1              2  No difference\n",
              "2              3  No difference\n",
              "3              4  No difference\n",
              "4              5  No difference\n",
              "...          ...            ...\n",
              "1195        1196       Same sex\n",
              "1196        1197       Same sex\n",
              "1197        1198       Same sex\n",
              "1198        1199       Same sex\n",
              "1199        1200       Same sex\n",
              "\n",
              "[1200 rows x 2 columns]"
            ]
          },
          "metadata": {
            "tags": []
          },
          "execution_count": 9
        }
      ]
    },
    {
      "cell_type": "code",
      "metadata": {
        "id": "Vl4aEtb228z-",
        "colab_type": "code",
        "colab": {
          "base_uri": "https://localhost:8080/",
          "height": 419
        },
        "outputId": "15336b7b-00e9-41bd-abf6-5aac9cdfc83f"
      },
      "source": [
        "friends.drop(columns=\"Unnamed: 0\",inplace=True)\n",
        "friends"
      ],
      "execution_count": null,
      "outputs": [
        {
          "output_type": "execute_result",
          "data": {
            "text/html": [
              "<div>\n",
              "<style scoped>\n",
              "    .dataframe tbody tr th:only-of-type {\n",
              "        vertical-align: middle;\n",
              "    }\n",
              "\n",
              "    .dataframe tbody tr th {\n",
              "        vertical-align: top;\n",
              "    }\n",
              "\n",
              "    .dataframe thead th {\n",
              "        text-align: right;\n",
              "    }\n",
              "</style>\n",
              "<table border=\"1\" class=\"dataframe\">\n",
              "  <thead>\n",
              "    <tr style=\"text-align: right;\">\n",
              "      <th></th>\n",
              "      <th>Friends</th>\n",
              "    </tr>\n",
              "  </thead>\n",
              "  <tbody>\n",
              "    <tr>\n",
              "      <th>0</th>\n",
              "      <td>No difference</td>\n",
              "    </tr>\n",
              "    <tr>\n",
              "      <th>1</th>\n",
              "      <td>No difference</td>\n",
              "    </tr>\n",
              "    <tr>\n",
              "      <th>2</th>\n",
              "      <td>No difference</td>\n",
              "    </tr>\n",
              "    <tr>\n",
              "      <th>3</th>\n",
              "      <td>No difference</td>\n",
              "    </tr>\n",
              "    <tr>\n",
              "      <th>4</th>\n",
              "      <td>No difference</td>\n",
              "    </tr>\n",
              "    <tr>\n",
              "      <th>...</th>\n",
              "      <td>...</td>\n",
              "    </tr>\n",
              "    <tr>\n",
              "      <th>1195</th>\n",
              "      <td>Same sex</td>\n",
              "    </tr>\n",
              "    <tr>\n",
              "      <th>1196</th>\n",
              "      <td>Same sex</td>\n",
              "    </tr>\n",
              "    <tr>\n",
              "      <th>1197</th>\n",
              "      <td>Same sex</td>\n",
              "    </tr>\n",
              "    <tr>\n",
              "      <th>1198</th>\n",
              "      <td>Same sex</td>\n",
              "    </tr>\n",
              "    <tr>\n",
              "      <th>1199</th>\n",
              "      <td>Same sex</td>\n",
              "    </tr>\n",
              "  </tbody>\n",
              "</table>\n",
              "<p>1200 rows × 1 columns</p>\n",
              "</div>"
            ],
            "text/plain": [
              "            Friends\n",
              "0     No difference\n",
              "1     No difference\n",
              "2     No difference\n",
              "3     No difference\n",
              "4     No difference\n",
              "...             ...\n",
              "1195       Same sex\n",
              "1196       Same sex\n",
              "1197       Same sex\n",
              "1198       Same sex\n",
              "1199       Same sex\n",
              "\n",
              "[1200 rows x 1 columns]"
            ]
          },
          "metadata": {
            "tags": []
          },
          "execution_count": 10
        }
      ]
    },
    {
      "cell_type": "code",
      "metadata": {
        "id": "5fYqbUsg28x3",
        "colab_type": "code",
        "colab": {
          "base_uri": "https://localhost:8080/",
          "height": 173
        },
        "outputId": "e39e7ef5-c035-48d0-908b-28fb7094c364"
      },
      "source": [
        "friends.describe()"
      ],
      "execution_count": null,
      "outputs": [
        {
          "output_type": "execute_result",
          "data": {
            "text/html": [
              "<div>\n",
              "<style scoped>\n",
              "    .dataframe tbody tr th:only-of-type {\n",
              "        vertical-align: middle;\n",
              "    }\n",
              "\n",
              "    .dataframe tbody tr th {\n",
              "        vertical-align: top;\n",
              "    }\n",
              "\n",
              "    .dataframe thead th {\n",
              "        text-align: right;\n",
              "    }\n",
              "</style>\n",
              "<table border=\"1\" class=\"dataframe\">\n",
              "  <thead>\n",
              "    <tr style=\"text-align: right;\">\n",
              "      <th></th>\n",
              "      <th>Friends</th>\n",
              "    </tr>\n",
              "  </thead>\n",
              "  <tbody>\n",
              "    <tr>\n",
              "      <th>count</th>\n",
              "      <td>1200</td>\n",
              "    </tr>\n",
              "    <tr>\n",
              "      <th>unique</th>\n",
              "      <td>3</td>\n",
              "    </tr>\n",
              "    <tr>\n",
              "      <th>top</th>\n",
              "      <td>No difference</td>\n",
              "    </tr>\n",
              "    <tr>\n",
              "      <th>freq</th>\n",
              "      <td>602</td>\n",
              "    </tr>\n",
              "  </tbody>\n",
              "</table>\n",
              "</div>"
            ],
            "text/plain": [
              "              Friends\n",
              "count            1200\n",
              "unique              3\n",
              "top     No difference\n",
              "freq              602"
            ]
          },
          "metadata": {
            "tags": []
          },
          "execution_count": 11
        }
      ]
    },
    {
      "cell_type": "code",
      "metadata": {
        "id": "Y1JuBgaT28uw",
        "colab_type": "code",
        "colab": {
          "base_uri": "https://localhost:8080/",
          "height": 85
        },
        "outputId": "63a1b6f6-5776-45e4-9589-53e3747815fd"
      },
      "source": [
        "friends['Friends'].value_counts()"
      ],
      "execution_count": null,
      "outputs": [
        {
          "output_type": "execute_result",
          "data": {
            "text/plain": [
              "No difference    602\n",
              "Opposite sex     434\n",
              "Same sex         164\n",
              "Name: Friends, dtype: int64"
            ]
          },
          "metadata": {
            "tags": []
          },
          "execution_count": 12
        }
      ]
    },
    {
      "cell_type": "code",
      "metadata": {
        "id": "1X0-rFCg28sX",
        "colab_type": "code",
        "colab": {
          "base_uri": "https://localhost:8080/",
          "height": 85
        },
        "outputId": "2dbe3d63-ba05-4d5f-8f92-90516f2a61d1"
      },
      "source": [
        "round(friends['Friends'].value_counts()/len(friends),3)"
      ],
      "execution_count": null,
      "outputs": [
        {
          "output_type": "execute_result",
          "data": {
            "text/plain": [
              "No difference    0.502\n",
              "Opposite sex     0.362\n",
              "Same sex         0.137\n",
              "Name: Friends, dtype: float64"
            ]
          },
          "metadata": {
            "tags": []
          },
          "execution_count": 13
        }
      ]
    },
    {
      "cell_type": "code",
      "metadata": {
        "id": "L5Ojcgge28qy",
        "colab_type": "code",
        "colab": {
          "base_uri": "https://localhost:8080/",
          "height": 350
        },
        "outputId": "07274cae-07e7-4f8b-cac4-b7f78dd5e85a"
      },
      "source": [
        "## plotting pie chart\n",
        "\n",
        "data = friends['Friends'].value_counts()/len(friends)\n",
        "plt.pie(data)"
      ],
      "execution_count": null,
      "outputs": [
        {
          "output_type": "execute_result",
          "data": {
            "text/plain": [
              "([<matplotlib.patches.Wedge at 0x7f2d033b93c8>,\n",
              "  <matplotlib.patches.Wedge at 0x7f2d033b9908>,\n",
              "  <matplotlib.patches.Wedge at 0x7f2d033b9e10>],\n",
              " [Text(-0.005759554721866945, 1.0999849215009294, ''),\n",
              "  Text(-0.45266576442884915, -1.0025436178611113, ''),\n",
              "  Text(1.0001597573937753, -0.45790878970601206, '')])"
            ]
          },
          "metadata": {
            "tags": []
          },
          "execution_count": 14
        },
        {
          "output_type": "display_data",
          "data": {
            "image/png": "[encoded data removed]",
            "text/plain": [
              "<Figure size 432x288 with 1 Axes>"
            ]
          },
          "metadata": {
            "tags": []
          }
        }
      ]
    },
    {
      "cell_type": "code",
      "metadata": {
        "id": "GQ-0xP3_28mi",
        "colab_type": "code",
        "colab": {
          "base_uri": "https://localhost:8080/",
          "height": 401
        },
        "outputId": "9ec6e173-c78e-4e6c-a6f2-afb572a66f79"
      },
      "source": [
        "## adding labels\n",
        "\n",
        "label = ['No difference', 'Opp sex', 'Same sex']\n",
        "\n",
        "plt.pie(data,labels=label, autopct='%1.1f%%')"
      ],
      "execution_count": null,
      "outputs": [
        {
          "output_type": "execute_result",
          "data": {
            "text/plain": [
              "([<matplotlib.patches.Wedge at 0x7f2d02ed7278>,\n",
              "  <matplotlib.patches.Wedge at 0x7f2d02ed7a20>,\n",
              "  <matplotlib.patches.Wedge at 0x7f2d02ee41d0>],\n",
              " [Text(-0.005759554721866945, 1.0999849215009294, 'No difference'),\n",
              "  Text(-0.45266576442884915, -1.0025436178611113, 'Opp sex'),\n",
              "  Text(1.0001597573937753, -0.45790878970601206, 'Same sex')],\n",
              " [Text(-0.0031415753028365147, 0.5999917753641433, '50.2%'),\n",
              "  Text(-0.24690859877937224, -0.5468419733787879, '36.2%'),\n",
              "  Text(0.54554168585115, -0.24976843074873384, '13.7%')])"
            ]
          },
          "metadata": {
            "tags": []
          },
          "execution_count": 15
        },
        {
          "output_type": "display_data",
          "data": {
            "image/png": "[encoded data removed]",
            "text/plain": [
              "<Figure size 432x288 with 1 Axes>"
            ]
          },
          "metadata": {
            "tags": []
          }
        }
      ]
    },
    {
      "cell_type": "markdown",
      "metadata": {
        "id": "WUCD7yNF8Hz_",
        "colab_type": "text"
      },
      "source": [
        "Q. Describe the distribution of the variable \"friends\" in context:\n",
        "\n",
        "\n",
        "The students are NOT divided equally among the three categories. About 50% of the students find it as easy to make friends with the opposite sex as with the same sex. Among the remaining 50% of the students, the majority (36.2%) find it easier to make friends with people of the opposite sex, and the remainder (13.7%) find it easier to make friends with people of their own sex.\n",
        "\n",
        "\n"
      ]
    },
    {
      "cell_type": "code",
      "metadata": {
        "id": "6WU1X2mg28kU",
        "colab_type": "code",
        "colab": {}
      },
      "source": [
        ""
      ],
      "execution_count": null,
      "outputs": []
    },
    {
      "cell_type": "code",
      "metadata": {
        "id": "G7sqJII928hV",
        "colab_type": "code",
        "colab": {}
      },
      "source": [
        ""
      ],
      "execution_count": null,
      "outputs": []
    },
    {
      "cell_type": "markdown",
      "metadata": {
        "id": "dSH19jg78MVB",
        "colab_type": "text"
      },
      "source": [
        "Statistics Package Exercise: Creating and Describing Histograms\n",
        "\n",
        "\n",
        "We will use the Best Actor Oscar winners (1970-2013) to learn how to create a histogram using a statistics package, and practice what we've learned about describing the histogram.\n",
        "\n",
        "\n",
        "\n",
        "In this activity, we will use the Best Actor Oscar winners (1970-2013) to:\n",
        "\n",
        "learn how to use a statistics package to produce the numerical measures, or \"descriptive statistics\" of a distribution.\n",
        "\n",
        "get some information about the distribution from its five-number summary."
      ]
    },
    {
      "cell_type": "code",
      "metadata": {
        "id": "jPeHJYWA28fj",
        "colab_type": "code",
        "colab": {
          "base_uri": "https://localhost:8080/",
          "height": 297
        },
        "outputId": "a93e1f98-8fcd-40eb-d916-feb0effaeb25"
      },
      "source": [
        "actor_age = pd.read_csv(\"actor_age.csv\")\n",
        "actor_age.drop(columns='Unnamed: 0',inplace=True)\n",
        "actor_age.describe()"
      ],
      "execution_count": null,
      "outputs": [
        {
          "output_type": "execute_result",
          "data": {
            "text/html": [
              "<div>\n",
              "<style scoped>\n",
              "    .dataframe tbody tr th:only-of-type {\n",
              "        vertical-align: middle;\n",
              "    }\n",
              "\n",
              "    .dataframe tbody tr th {\n",
              "        vertical-align: top;\n",
              "    }\n",
              "\n",
              "    .dataframe thead th {\n",
              "        text-align: right;\n",
              "    }\n",
              "</style>\n",
              "<table border=\"1\" class=\"dataframe\">\n",
              "  <thead>\n",
              "    <tr style=\"text-align: right;\">\n",
              "      <th></th>\n",
              "      <th>Age</th>\n",
              "    </tr>\n",
              "  </thead>\n",
              "  <tbody>\n",
              "    <tr>\n",
              "      <th>count</th>\n",
              "      <td>44.000000</td>\n",
              "    </tr>\n",
              "    <tr>\n",
              "      <th>mean</th>\n",
              "      <td>44.977273</td>\n",
              "    </tr>\n",
              "    <tr>\n",
              "      <th>std</th>\n",
              "      <td>9.749153</td>\n",
              "    </tr>\n",
              "    <tr>\n",
              "      <th>min</th>\n",
              "      <td>29.000000</td>\n",
              "    </tr>\n",
              "    <tr>\n",
              "      <th>25%</th>\n",
              "      <td>38.000000</td>\n",
              "    </tr>\n",
              "    <tr>\n",
              "      <th>50%</th>\n",
              "      <td>43.500000</td>\n",
              "    </tr>\n",
              "    <tr>\n",
              "      <th>75%</th>\n",
              "      <td>50.250000</td>\n",
              "    </tr>\n",
              "    <tr>\n",
              "      <th>max</th>\n",
              "      <td>76.000000</td>\n",
              "    </tr>\n",
              "  </tbody>\n",
              "</table>\n",
              "</div>"
            ],
            "text/plain": [
              "             Age\n",
              "count  44.000000\n",
              "mean   44.977273\n",
              "std     9.749153\n",
              "min    29.000000\n",
              "25%    38.000000\n",
              "50%    43.500000\n",
              "75%    50.250000\n",
              "max    76.000000"
            ]
          },
          "metadata": {
            "tags": []
          },
          "execution_count": 16
        }
      ]
    },
    {
      "cell_type": "code",
      "metadata": {
        "id": "Fvzh0_Dl8vkI",
        "colab_type": "code",
        "colab": {
          "base_uri": "https://localhost:8080/",
          "height": 346
        },
        "outputId": "548e3227-fae2-4a6c-b358-482ae2beab4c"
      },
      "source": [
        "plt.hist(actor_age['Age'],bins=[25,30,35,40,45,50,55,60,65,70,75],color='green')\n",
        "plt.gca().set(xlabel='Age', ylabel='Count', title='Ages Of Actors Winning Oscars')"
      ],
      "execution_count": null,
      "outputs": [
        {
          "output_type": "execute_result",
          "data": {
            "text/plain": [
              "[Text(0, 0.5, 'Count'),\n",
              " Text(0.5, 0, 'Age'),\n",
              " Text(0.5, 1.0, 'Ages Of Actors Winning Oscars')]"
            ]
          },
          "metadata": {
            "tags": []
          },
          "execution_count": 17
        },
        {
          "output_type": "display_data",
          "data": {
            "image/png": "[encoded data removed]",
            "text/plain": [
              "<Figure size 432x288 with 1 Axes>"
            ]
          },
          "metadata": {
            "tags": [],
            "needs_background": "light"
          }
        }
      ]
    },
    {
      "cell_type": "markdown",
      "metadata": {
        "id": "rXU9v5Sq_WHA",
        "colab_type": "text"
      },
      "source": [
        "**Q. In the textbox below, describe the distribution of the ages of the Best Actor Oscar winners. Be sure to address shape, center, spread and outliers. When you are done, compare your answer to ours.**\n",
        "\n",
        "\n",
        "Shape: the distribution is skewed right. This means that most actors receive the best acting Oscar at a relatively younger age (before age 48), and fewer at an older age.\n",
        "\n",
        "\n",
        "Center: The distribution seems to be centered at around 42-43. This means that about half the actors are 42 or younger when they receive the Oscar, and about half are older.\n",
        "\n",
        "\n",
        "Spread: The age distribution ranges from about 30 to about 75. The entire dataset is covered, then, by a range of 45 years. It should be noted, though, that there is one high outlier at around age 75, and the rest of the data ranges only from 30 to 60.\n",
        "\n",
        "\n",
        "Outliers: As mentioned above, there is one high outlier at around age 75.\n",
        "\n",
        "\n",
        "**Q. Getting information from the output: a. How many observations are in this data set? b. What is the mean age of the actors who won the Oscar? c. What is the five-number summary of the distribution?**\n",
        "\n",
        "\n",
        "a. There are n = 44 observations in the data set (representing the age of the Best Actor Oscar winners of the 44 years from 1970 through 2013).\n",
        "\n",
        "\n",
        "b. Mean = 44.98\n",
        "\n",
        "\n",
        "c. The five-number summary is: min = 29, Q1 = 38, M = 43.5, Q3 = 50.5, Max = 76\n",
        "\n",
        "\n",
        "\n",
        "**Q. Get information from the five-number summary: a. Half of the actors won the Oscar before what age? b. What is the range covered by all the actors' ages? c. What is the range covered by the middle 50% of the ages?**\n",
        "\n",
        "\n",
        "a. Half the actors won the Oscar before age 43.5 (the median). b. The range covered by all the ages is: Range = Max - min = 76 - 29 = 47. c. The range covered by the middle 50% of the ages is: IQR = Q3 - Q1 = 50.5 - 38 = 12.5\n"
      ]
    },
    {
      "cell_type": "code",
      "metadata": {
        "id": "PH1QJ4nb8vwE",
        "colab_type": "code",
        "colab": {}
      },
      "source": [
        ""
      ],
      "execution_count": null,
      "outputs": []
    },
    {
      "cell_type": "code",
      "metadata": {
        "id": "9vKfoDPU8v4r",
        "colab_type": "code",
        "colab": {}
      },
      "source": [
        ""
      ],
      "execution_count": null,
      "outputs": []
    },
    {
      "cell_type": "markdown",
      "metadata": {
        "id": "bghcK1Cv_0Op",
        "colab_type": "text"
      },
      "source": [
        "Statistics Package Exercise: Creating Side-by-Side Boxplots\n",
        "\n",
        "\n",
        "The objectives of this activity are:\n",
        "\n",
        "\n",
        "to teach you how to use to produce side-by-side boxplots and the relevant descriptive statistics,\n",
        "\n",
        "\n",
        "to let you practice comparing and contrasting distributions, and\n",
        "\n",
        "\n",
        "to help you gain more intuition about variability through the interpretation of your results in context.\n",
        "\n",
        "\n",
        "The percentage of each entering Freshman class that graduated on time was recorded for each of six colleges at a major university over a period of several years. (Source: This data is distributed with the software package, Data Desk. (1993). Ithaca, NY: Data Description, Inc., and appears in http://lib.stat.cmu.edu/DASL/)\n",
        "\n",
        "\n",
        "In order to compare the graduation rates among the different colleges, we will create side-by-side boxplots (graduation rate by college), and supplement the graph with numerical measures. Follow the instructions, and then answer the questions based on the output you got.\n",
        "\n"
      ]
    },
    {
      "cell_type": "code",
      "metadata": {
        "id": "rQzE5_5t8v2h",
        "colab_type": "code",
        "colab": {
          "base_uri": "https://localhost:8080/",
          "height": 297
        },
        "outputId": "6ab81e5f-2dd3-47e0-e4b5-6776acec41cd"
      },
      "source": [
        "grad = pd.read_csv('grad_data.csv')\n",
        "grad.drop(columns='Unnamed: 0', inplace = True)\n",
        "grad.describe()"
      ],
      "execution_count": null,
      "outputs": [
        {
          "output_type": "execute_result",
          "data": {
            "text/html": [
              "<div>\n",
              "<style scoped>\n",
              "    .dataframe tbody tr th:only-of-type {\n",
              "        vertical-align: middle;\n",
              "    }\n",
              "\n",
              "    .dataframe tbody tr th {\n",
              "        vertical-align: top;\n",
              "    }\n",
              "\n",
              "    .dataframe thead th {\n",
              "        text-align: right;\n",
              "    }\n",
              "</style>\n",
              "<table border=\"1\" class=\"dataframe\">\n",
              "  <thead>\n",
              "    <tr style=\"text-align: right;\">\n",
              "      <th></th>\n",
              "      <th>College.A</th>\n",
              "      <th>College.B</th>\n",
              "      <th>College.C</th>\n",
              "      <th>College.D</th>\n",
              "      <th>College.E</th>\n",
              "      <th>College.F</th>\n",
              "    </tr>\n",
              "  </thead>\n",
              "  <tbody>\n",
              "    <tr>\n",
              "      <th>count</th>\n",
              "      <td>8.000000</td>\n",
              "      <td>8.000000</td>\n",
              "      <td>8.000000</td>\n",
              "      <td>8.000000</td>\n",
              "      <td>8.000000</td>\n",
              "      <td>8.000000</td>\n",
              "    </tr>\n",
              "    <tr>\n",
              "      <th>mean</th>\n",
              "      <td>60.962500</td>\n",
              "      <td>71.287500</td>\n",
              "      <td>65.175000</td>\n",
              "      <td>79.112500</td>\n",
              "      <td>60.775000</td>\n",
              "      <td>72.775000</td>\n",
              "    </tr>\n",
              "    <tr>\n",
              "      <th>std</th>\n",
              "      <td>11.955027</td>\n",
              "      <td>3.061483</td>\n",
              "      <td>8.279018</td>\n",
              "      <td>3.853547</td>\n",
              "      <td>5.892307</td>\n",
              "      <td>11.116108</td>\n",
              "    </tr>\n",
              "    <tr>\n",
              "      <th>min</th>\n",
              "      <td>43.200000</td>\n",
              "      <td>67.300000</td>\n",
              "      <td>54.500000</td>\n",
              "      <td>74.100000</td>\n",
              "      <td>54.500000</td>\n",
              "      <td>57.700000</td>\n",
              "    </tr>\n",
              "    <tr>\n",
              "      <th>25%</th>\n",
              "      <td>50.950000</td>\n",
              "      <td>69.550000</td>\n",
              "      <td>56.575000</td>\n",
              "      <td>76.650000</td>\n",
              "      <td>56.875000</td>\n",
              "      <td>65.050000</td>\n",
              "    </tr>\n",
              "    <tr>\n",
              "      <th>50%</th>\n",
              "      <td>63.750000</td>\n",
              "      <td>70.150000</td>\n",
              "      <td>67.650000</td>\n",
              "      <td>79.000000</td>\n",
              "      <td>59.150000</td>\n",
              "      <td>72.000000</td>\n",
              "    </tr>\n",
              "    <tr>\n",
              "      <th>75%</th>\n",
              "      <td>70.500000</td>\n",
              "      <td>73.050000</td>\n",
              "      <td>71.575000</td>\n",
              "      <td>81.100000</td>\n",
              "      <td>63.700000</td>\n",
              "      <td>81.275000</td>\n",
              "    </tr>\n",
              "    <tr>\n",
              "      <th>max</th>\n",
              "      <td>73.800000</td>\n",
              "      <td>76.700000</td>\n",
              "      <td>74.800000</td>\n",
              "      <td>84.600000</td>\n",
              "      <td>71.300000</td>\n",
              "      <td>87.400000</td>\n",
              "    </tr>\n",
              "  </tbody>\n",
              "</table>\n",
              "</div>"
            ],
            "text/plain": [
              "       College.A  College.B  College.C  College.D  College.E  College.F\n",
              "count   8.000000   8.000000   8.000000   8.000000   8.000000   8.000000\n",
              "mean   60.962500  71.287500  65.175000  79.112500  60.775000  72.775000\n",
              "std    11.955027   3.061483   8.279018   3.853547   5.892307  11.116108\n",
              "min    43.200000  67.300000  54.500000  74.100000  54.500000  57.700000\n",
              "25%    50.950000  69.550000  56.575000  76.650000  56.875000  65.050000\n",
              "50%    63.750000  70.150000  67.650000  79.000000  59.150000  72.000000\n",
              "75%    70.500000  73.050000  71.575000  81.100000  63.700000  81.275000\n",
              "max    73.800000  76.700000  74.800000  84.600000  71.300000  87.400000"
            ]
          },
          "metadata": {
            "tags": []
          },
          "execution_count": 18
        }
      ]
    },
    {
      "cell_type": "code",
      "metadata": {
        "id": "r0f5JPwO8vsy",
        "colab_type": "code",
        "colab": {
          "base_uri": "https://localhost:8080/",
          "height": 298
        },
        "outputId": "7403cd97-8eb4-49ba-d540-ba83c9adaec8"
      },
      "source": [
        "grad.plot(kind = 'box', legend = True, title = 'Side-by-Side Boxplot')"
      ],
      "execution_count": null,
      "outputs": [
        {
          "output_type": "execute_result",
          "data": {
            "text/plain": [
              "<matplotlib.axes._subplots.AxesSubplot at 0x7f2d02dd1a20>"
            ]
          },
          "metadata": {
            "tags": []
          },
          "execution_count": 19
        },
        {
          "output_type": "display_data",
          "data": {
            "image/png": "[encoded data removed]",
            "text/plain": [
              "<Figure size 432x288 with 1 Axes>"
            ]
          },
          "metadata": {
            "tags": [],
            "needs_background": "light"
          }
        }
      ]
    },
    {
      "cell_type": "code",
      "metadata": {
        "id": "V-RTvyLpClRH",
        "colab_type": "code",
        "colab": {}
      },
      "source": [
        ""
      ],
      "execution_count": null,
      "outputs": []
    },
    {
      "cell_type": "markdown",
      "metadata": {
        "id": "G1mfXTdRChUP",
        "colab_type": "text"
      },
      "source": [
        "Statistics Package Exercise: Calculating the Standard Deviation\n",
        "\n",
        "\n",
        "The concept of standard deviation is less intuitive as a measure of spread than the range or the IQR. The following activity is designed to help you develop a better intuition for the standard deviation.\n",
        "\n",
        "\n",
        "Background At the end of a statistics course, the 27 students in the class were asked to rate the instructor on a number scale of 1 to 9 (1 being \"very poor,\" and 9 being \"best instructor I've ever had\"). The following table provides three hypothetical rating data\n",
        "\n"
      ]
    },
    {
      "cell_type": "code",
      "metadata": {
        "id": "81x_T4yl8vq0",
        "colab_type": "code",
        "colab": {
          "base_uri": "https://localhost:8080/",
          "height": 297
        },
        "outputId": "cb2530cf-5bc5-4ff4-9ed7-556f1149f93c"
      },
      "source": [
        "ratings = pd.read_csv('ratings.csv')\n",
        "ratings.drop(columns='Unnamed: 0', inplace = True)\n",
        "ratings.describe()"
      ],
      "execution_count": null,
      "outputs": [
        {
          "output_type": "execute_result",
          "data": {
            "text/html": [
              "<div>\n",
              "<style scoped>\n",
              "    .dataframe tbody tr th:only-of-type {\n",
              "        vertical-align: middle;\n",
              "    }\n",
              "\n",
              "    .dataframe tbody tr th {\n",
              "        vertical-align: top;\n",
              "    }\n",
              "\n",
              "    .dataframe thead th {\n",
              "        text-align: right;\n",
              "    }\n",
              "</style>\n",
              "<table border=\"1\" class=\"dataframe\">\n",
              "  <thead>\n",
              "    <tr style=\"text-align: right;\">\n",
              "      <th></th>\n",
              "      <th>Class.I</th>\n",
              "      <th>Class.II</th>\n",
              "      <th>Class.III</th>\n",
              "    </tr>\n",
              "  </thead>\n",
              "  <tbody>\n",
              "    <tr>\n",
              "      <th>count</th>\n",
              "      <td>27.000000</td>\n",
              "      <td>27.0</td>\n",
              "      <td>27.000000</td>\n",
              "    </tr>\n",
              "    <tr>\n",
              "      <th>mean</th>\n",
              "      <td>5.000000</td>\n",
              "      <td>5.0</td>\n",
              "      <td>5.000000</td>\n",
              "    </tr>\n",
              "    <tr>\n",
              "      <th>std</th>\n",
              "      <td>1.568929</td>\n",
              "      <td>4.0</td>\n",
              "      <td>2.631174</td>\n",
              "    </tr>\n",
              "    <tr>\n",
              "      <th>min</th>\n",
              "      <td>1.000000</td>\n",
              "      <td>1.0</td>\n",
              "      <td>1.000000</td>\n",
              "    </tr>\n",
              "    <tr>\n",
              "      <th>25%</th>\n",
              "      <td>5.000000</td>\n",
              "      <td>1.0</td>\n",
              "      <td>3.000000</td>\n",
              "    </tr>\n",
              "    <tr>\n",
              "      <th>50%</th>\n",
              "      <td>5.000000</td>\n",
              "      <td>5.0</td>\n",
              "      <td>5.000000</td>\n",
              "    </tr>\n",
              "    <tr>\n",
              "      <th>75%</th>\n",
              "      <td>5.000000</td>\n",
              "      <td>9.0</td>\n",
              "      <td>7.000000</td>\n",
              "    </tr>\n",
              "    <tr>\n",
              "      <th>max</th>\n",
              "      <td>9.000000</td>\n",
              "      <td>9.0</td>\n",
              "      <td>9.000000</td>\n",
              "    </tr>\n",
              "  </tbody>\n",
              "</table>\n",
              "</div>"
            ],
            "text/plain": [
              "         Class.I  Class.II  Class.III\n",
              "count  27.000000      27.0  27.000000\n",
              "mean    5.000000       5.0   5.000000\n",
              "std     1.568929       4.0   2.631174\n",
              "min     1.000000       1.0   1.000000\n",
              "25%     5.000000       1.0   3.000000\n",
              "50%     5.000000       5.0   5.000000\n",
              "75%     5.000000       9.0   7.000000\n",
              "max     9.000000       9.0   9.000000"
            ]
          },
          "metadata": {
            "tags": []
          },
          "execution_count": 20
        }
      ]
    },
    {
      "cell_type": "markdown",
      "metadata": {
        "id": "YQNvkJ_9Ey-O",
        "colab_type": "text"
      },
      "source": [
        "Q. What are the standard deviations of the three rating distributions? Was your intuition correct?\n",
        "\n",
        "\n",
        "Here are the three standard deviations:Class I: 1.6Class II: 4.0Class III: 2.6Note that through this example, we also learn that the number of distinct values represented in a histogram does not necessarily indicate greater variability.\n",
        "\n",
        "\n",
        "\n",
        "Q. Assume that the average rating in each of the three classes is 5 (which should be visually reasonably clear from the histograms), and recall the interpretation of the SD as a \"typical\" or \"average\" distance between the data points and their mean. Judging from the table and the histograms, which class would have the largest standard deviation, and which one would have the smallest standard deviation? Explain your reasoning.\n",
        "\n",
        "\n",
        "In class I, almost all the ratings are 5, which is also the mean. The average distance between the observations and the mean, then, would be very small. In class II most of the observations are far from the mean (at 1 or 9). The average distance between the observations and the mean in this case would be larger. Class III is the case where some of the observations are close to the mean, and some are far, so the average distance between the observations and the mean would be somewhere in between class I and II. This observation would lead me to conclude that the standard deviation would be ranked (from smallest to largest): Class I, Class III, Class II."
      ]
    },
    {
      "cell_type": "code",
      "metadata": {
        "id": "Fh9zlGPi8vnS",
        "colab_type": "code",
        "colab": {}
      },
      "source": [
        ""
      ],
      "execution_count": null,
      "outputs": []
    },
    {
      "cell_type": "code",
      "metadata": {
        "id": "4Tt8nTdH8vfc",
        "colab_type": "code",
        "colab": {}
      },
      "source": [
        ""
      ],
      "execution_count": null,
      "outputs": []
    },
    {
      "cell_type": "code",
      "metadata": {
        "id": "2koj_-Je28cQ",
        "colab_type": "code",
        "colab": {}
      },
      "source": [
        ""
      ],
      "execution_count": null,
      "outputs": []
    }
  ]
}