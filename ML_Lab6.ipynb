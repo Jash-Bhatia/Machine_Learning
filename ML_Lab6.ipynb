{
  "nbformat": 4,
  "nbformat_minor": 0,
  "metadata": {
    "colab": {
      "name": "ML_Lab6.ipynb",
      "provenance": [],
      "authorship_tag": "ABX9TyMyXq067hbw5usQ6qdXdJsa",
      "include_colab_link": true
    },
    "kernelspec": {
      "name": "python3",
      "display_name": "Python 3"
    },
    "accelerator": "GPU"
  },
  "cells": [
    {
      "cell_type": "markdown",
      "metadata": {
        "id": "view-in-github",
        "colab_type": "text"
      },
      "source": [
        "<a href=\"https://colab.research.google.com/github/Jash-Bhatia/Machine_Learning/blob/master/ML_Lab6.ipynb\" target=\"_parent\"><img src=\"https://colab.research.google.com/assets/colab-badge.svg\" alt=\"Open In Colab\"/></a>"
      ]
    },
    {
      "cell_type": "code",
      "metadata": {
        "id": "P_d6GqTeoUST",
        "colab_type": "code",
        "colab": {
          "base_uri": "https://localhost:8080/",
          "height": 71
        },
        "outputId": "2f72ccd8-c97c-44a7-cd9c-9ab44a4f749d"
      },
      "source": [
        "import numpy as np\n",
        "import pandas as pd\n",
        "\n",
        "import matplotlib.pyplot as plt\n",
        "import seaborn as sns\n",
        "\n",
        "from sklearn.model_selection import train_test_split, cross_val_score\n",
        "from sklearn.preprocessing import StandardScaler\n",
        "\n",
        "from sklearn import linear_model\n",
        "from sklearn.model_selection import GridSearchCV, RandomizedSearchCV\n",
        "\n",
        "import warnings\n",
        "warnings.filterwarnings('ignore')\n",
        "\n",
        "np.random.seed(27)"
      ],
      "execution_count": 1,
      "outputs": [
        {
          "output_type": "stream",
          "text": [
            "/usr/local/lib/python3.6/dist-packages/statsmodels/tools/_testing.py:19: FutureWarning: pandas.util.testing is deprecated. Use the functions in the public API at pandas.testing instead.\n",
            "  import pandas.util.testing as tm\n"
          ],
          "name": "stderr"
        }
      ]
    },
    {
      "cell_type": "code",
      "metadata": {
        "id": "6b2OaT2mXK4q",
        "colab_type": "code",
        "colab": {}
      },
      "source": [
        "# setting up default plotting parameters\n",
        "%matplotlib inline\n",
        "\n",
        "plt.rcParams['figure.figsize'] = [20.0, 7.0]\n",
        "plt.rcParams.update({'font.size': 22,})\n",
        "\n",
        "sns.set_palette('viridis')\n",
        "sns.set_style('white')\n",
        "sns.set_context('talk', font_scale=0.8)"
      ],
      "execution_count": 2,
      "outputs": []
    },
    {
      "cell_type": "code",
      "metadata": {
        "id": "2Q9kkeU7XK2Q",
        "colab_type": "code",
        "colab": {
          "base_uri": "https://localhost:8080/",
          "height": 629
        },
        "outputId": "e2957bd5-d087-47a2-fff5-95ad762a1745"
      },
      "source": [
        "#-O All downloaded content is stored at filename\n",
        " \n",
        "!wget -O 2011gcn.csv https://raw.githubusercontent.com/pranavn91/blockchain/master/2011gcn.csv\n",
        "!wget -O tx2011partvertices_new.csv https://raw.githubusercontent.com/pranavn91/blockchain/master/tx2011partvertices_new.csv\n",
        "!wget -O tx2011partvertices.csv https://raw.githubusercontent.com/pranavn91/blockchain/master/tx2011partvertices.csv\n",
        "\n",
        "train1 = pd.read_csv('2011gcn.csv')\n",
        "train2 = pd.read_csv('tx2011partvertices_new.csv')\n",
        "train3 = pd.read_csv('tx2011partvertices.csv')\n",
        "\n",
        "print('Train 1 Shape: ', train1.shape)\n",
        "print('Train 2 Shape: ', train2.shape)\n",
        "print('Train 3 Shape: ', train3.shape)\n",
        "\n"
      ],
      "execution_count": 3,
      "outputs": [
        {
          "output_type": "stream",
          "text": [
            "--2020-09-23 18:35:02--  https://raw.githubusercontent.com/pranavn91/blockchain/master/2011gcn.csv\n",
            "Resolving raw.githubusercontent.com (raw.githubusercontent.com)... 151.101.0.133, 151.101.64.133, 151.101.128.133, ...\n",
            "Connecting to raw.githubusercontent.com (raw.githubusercontent.com)|151.101.0.133|:443... connected.\n",
            "HTTP request sent, awaiting response... 200 OK\n",
            "Length: 12563086 (12M) [text/plain]\n",
            "Saving to: ‘2011gcn.csv’\n",
            "\n",
            "\r2011gcn.csv           0%[                    ]       0  --.-KB/s               \r2011gcn.csv          95%[==================> ]  11.42M  57.1MB/s               \r2011gcn.csv         100%[===================>]  11.98M  58.6MB/s    in 0.2s    \n",
            "\n",
            "2020-09-23 18:35:03 (58.6 MB/s) - ‘2011gcn.csv’ saved [12563086/12563086]\n",
            "\n",
            "--2020-09-23 18:35:03--  https://raw.githubusercontent.com/pranavn91/blockchain/master/tx2011partvertices_new.csv\n",
            "Resolving raw.githubusercontent.com (raw.githubusercontent.com)... 151.101.0.133, 151.101.64.133, 151.101.128.133, ...\n",
            "Connecting to raw.githubusercontent.com (raw.githubusercontent.com)|151.101.0.133|:443... connected.\n",
            "HTTP request sent, awaiting response... 200 OK\n",
            "Length: 12501458 (12M) [text/plain]\n",
            "Saving to: ‘tx2011partvertices_new.csv’\n",
            "\n",
            "tx2011partvertices_ 100%[===================>]  11.92M  32.2MB/s    in 0.4s    \n",
            "\n",
            "2020-09-23 18:35:03 (32.2 MB/s) - ‘tx2011partvertices_new.csv’ saved [12501458/12501458]\n",
            "\n",
            "--2020-09-23 18:35:03--  https://raw.githubusercontent.com/pranavn91/blockchain/master/tx2011partvertices.csv\n",
            "Resolving raw.githubusercontent.com (raw.githubusercontent.com)... 151.101.0.133, 151.101.64.133, 151.101.128.133, ...\n",
            "Connecting to raw.githubusercontent.com (raw.githubusercontent.com)|151.101.0.133|:443... connected.\n",
            "HTTP request sent, awaiting response... 200 OK\n",
            "Length: 1934257 (1.8M) [text/plain]\n",
            "Saving to: ‘tx2011partvertices.csv’\n",
            "\n",
            "tx2011partvertices. 100%[===================>]   1.84M  --.-KB/s    in 0.1s    \n",
            "\n",
            "2020-09-23 18:35:03 (15.8 MB/s) - ‘tx2011partvertices.csv’ saved [1934257/1934257]\n",
            "\n",
            "Train 1 Shape:  (96498, 17)\n",
            "Train 2 Shape:  (96498, 20)\n",
            "Train 3 Shape:  (96498, 2)\n"
          ],
          "name": "stdout"
        }
      ]
    },
    {
      "cell_type": "code",
      "metadata": {
        "id": "E0uebqLgXK0P",
        "colab_type": "code",
        "colab": {
          "base_uri": "https://localhost:8080/",
          "height": 391
        },
        "outputId": "fdea25ff-e440-44a0-a8a0-0a8470b3970b"
      },
      "source": [
        "train1.rename(columns={'Unnamed: 0':'index'}, inplace=True)\n",
        "train1['index'] = train1['index'] + 1\n",
        "print(train1.head())\n",
        "\n",
        "train2.rename(columns={'Unnamed: 0':'index'}, inplace=True)\n",
        "print(train2.head())\n",
        "\n",
        "train3.rename(columns={'Unnamed: 0':'index'}, inplace=True)\n",
        "print(train3.head())"
      ],
      "execution_count": 4,
      "outputs": [
        {
          "output_type": "stream",
          "text": [
            "   index    0             1    2  ...   12   13            14            15\n",
            "0      1  0.0  4.811244e+07  0.0  ...  0.0  0.0  2.670458e+07  8.313858e+07\n",
            "1      2  0.0  3.477977e+05  0.0  ...  0.0  0.0  1.915057e+05  6.009039e+05\n",
            "2      3  0.0  6.455196e+07  0.0  ...  0.0  0.0  3.583296e+07  1.115463e+08\n",
            "3      4  0.0  2.009876e+08  0.0  ...  0.0  0.0  1.116514e+08  3.472892e+08\n",
            "4      5  0.0  2.384675e+05  0.0  ...  0.0  0.0  1.315073e+05  4.120424e+05\n",
            "\n",
            "[5 rows x 17 columns]\n",
            "   index  txsize  txvirtualsize  ...  Total_sent  Stdev_sent  Var_sent\n",
            "0      1    7369           7369  ...      2.1500    0.703445  0.494835\n",
            "1      2     293            293  ...      0.0440    0.000000  0.000000\n",
            "2      3   11139          11139  ...      1.2500    0.000000  0.000000\n",
            "3      4     495            495  ...      0.2745    0.000000  0.000000\n",
            "4      5     462            462  ...      0.0300    0.000000  0.000000\n",
            "\n",
            "[5 rows x 20 columns]\n",
            "   index         label\n",
            "0      1  unclassified\n",
            "1      2     donations\n",
            "2      3  unclassified\n",
            "3      4     donations\n",
            "4      5     donations\n"
          ],
          "name": "stdout"
        }
      ]
    },
    {
      "cell_type": "code",
      "metadata": {
        "id": "Att_rK0ZXKvq",
        "colab_type": "code",
        "colab": {
          "base_uri": "https://localhost:8080/",
          "height": 425
        },
        "outputId": "a194af79-d18b-4921-b6af-35b12cffdeae"
      },
      "source": [
        "train1.info()"
      ],
      "execution_count": 5,
      "outputs": [
        {
          "output_type": "stream",
          "text": [
            "<class 'pandas.core.frame.DataFrame'>\n",
            "RangeIndex: 96498 entries, 0 to 96497\n",
            "Data columns (total 17 columns):\n",
            " #   Column  Non-Null Count  Dtype  \n",
            "---  ------  --------------  -----  \n",
            " 0   index   96498 non-null  int64  \n",
            " 1   0       96498 non-null  float64\n",
            " 2   1       96498 non-null  float64\n",
            " 3   2       96498 non-null  float64\n",
            " 4   3       96498 non-null  float64\n",
            " 5   4       96498 non-null  float64\n",
            " 6   5       96498 non-null  float64\n",
            " 7   6       96498 non-null  float64\n",
            " 8   7       96498 non-null  float64\n",
            " 9   8       96498 non-null  float64\n",
            " 10  9       96498 non-null  float64\n",
            " 11  10      96498 non-null  float64\n",
            " 12  11      96498 non-null  float64\n",
            " 13  12      96498 non-null  float64\n",
            " 14  13      96498 non-null  float64\n",
            " 15  14      96498 non-null  float64\n",
            " 16  15      96498 non-null  float64\n",
            "dtypes: float64(16), int64(1)\n",
            "memory usage: 12.5 MB\n"
          ],
          "name": "stdout"
        }
      ]
    },
    {
      "cell_type": "code",
      "metadata": {
        "id": "Cx2lYHWKXKp6",
        "colab_type": "code",
        "colab": {
          "base_uri": "https://localhost:8080/",
          "height": 476
        },
        "outputId": "e64d0738-0b35-4308-f11d-803f7021079e"
      },
      "source": [
        "train2.info()"
      ],
      "execution_count": 6,
      "outputs": [
        {
          "output_type": "stream",
          "text": [
            "<class 'pandas.core.frame.DataFrame'>\n",
            "RangeIndex: 96498 entries, 0 to 96497\n",
            "Data columns (total 20 columns):\n",
            " #   Column           Non-Null Count  Dtype  \n",
            "---  ------           --------------  -----  \n",
            " 0   index            96498 non-null  int64  \n",
            " 1   txsize           96498 non-null  int64  \n",
            " 2   txvirtualsize    96498 non-null  int64  \n",
            " 3   txinputs_count   96498 non-null  int64  \n",
            " 4   txoutputs_count  96498 non-null  int64  \n",
            " 5   txinput_val      96498 non-null  float64\n",
            " 6   txoutput_val     96498 non-null  float64\n",
            " 7   txfee            96498 non-null  int64  \n",
            " 8   Min_received     96498 non-null  float64\n",
            " 9   Max_received     96498 non-null  float64\n",
            " 10  Avg_received     96498 non-null  float64\n",
            " 11  Total_received   96498 non-null  float64\n",
            " 12  Stdev_received   96498 non-null  float64\n",
            " 13  Var_received     96498 non-null  float64\n",
            " 14  Min_sent         96498 non-null  float64\n",
            " 15  Max_sent         96498 non-null  float64\n",
            " 16  Avg_sent         96498 non-null  float64\n",
            " 17  Total_sent       96498 non-null  float64\n",
            " 18  Stdev_sent       96498 non-null  float64\n",
            " 19  Var_sent         96498 non-null  float64\n",
            "dtypes: float64(14), int64(6)\n",
            "memory usage: 14.7 MB\n"
          ],
          "name": "stdout"
        }
      ]
    },
    {
      "cell_type": "code",
      "metadata": {
        "id": "eT8DKVDvXKma",
        "colab_type": "code",
        "colab": {
          "base_uri": "https://localhost:8080/",
          "height": 170
        },
        "outputId": "9f3441fd-13ad-417c-b089-9ed96acf4a36"
      },
      "source": [
        "train3.info()"
      ],
      "execution_count": 7,
      "outputs": [
        {
          "output_type": "stream",
          "text": [
            "<class 'pandas.core.frame.DataFrame'>\n",
            "RangeIndex: 96498 entries, 0 to 96497\n",
            "Data columns (total 2 columns):\n",
            " #   Column  Non-Null Count  Dtype \n",
            "---  ------  --------------  ----- \n",
            " 0   index   96498 non-null  int64 \n",
            " 1   label   96498 non-null  object\n",
            "dtypes: int64(1), object(1)\n",
            "memory usage: 1.5+ MB\n"
          ],
          "name": "stdout"
        }
      ]
    },
    {
      "cell_type": "code",
      "metadata": {
        "id": "jmatPsPMXKka",
        "colab_type": "code",
        "colab": {
          "base_uri": "https://localhost:8080/",
          "height": 221
        },
        "outputId": "a6dd6028-b443-4601-b144-8613c1f26492"
      },
      "source": [
        "##preparing the data\n",
        "\n",
        "results = pd.merge(train3, train1, on='index', how='inner')\n",
        "\n",
        "# split data into X and y\n",
        "X = results.iloc[:,2:18]\n",
        "Y1 = results['label']\n",
        "Y1"
      ],
      "execution_count": 8,
      "outputs": [
        {
          "output_type": "execute_result",
          "data": {
            "text/plain": [
              "0        unclassified\n",
              "1           donations\n",
              "2        unclassified\n",
              "3           donations\n",
              "4           donations\n",
              "             ...     \n",
              "96493       donations\n",
              "96494       donations\n",
              "96495       donations\n",
              "96496        exchange\n",
              "96497        exchange\n",
              "Name: label, Length: 96498, dtype: object"
            ]
          },
          "metadata": {
            "tags": []
          },
          "execution_count": 8
        }
      ]
    },
    {
      "cell_type": "code",
      "metadata": {
        "id": "3n_mQ9IzdMPm",
        "colab_type": "code",
        "colab": {}
      },
      "source": [
        "from sklearn import preprocessing\n",
        "le = preprocessing.LabelEncoder()\n",
        "le.fit(results['label'].unique())\n",
        "Y = pd.DataFrame(le.transform(Y1))"
      ],
      "execution_count": 9,
      "outputs": []
    },
    {
      "cell_type": "code",
      "metadata": {
        "id": "4palWeSgdx7p",
        "colab_type": "code",
        "colab": {
          "base_uri": "https://localhost:8080/",
          "height": 51
        },
        "outputId": "da0f56fe-ea61-4b41-d8f9-8cba63d283b4"
      },
      "source": [
        "Y.nunique()"
      ],
      "execution_count": 10,
      "outputs": [
        {
          "output_type": "execute_result",
          "data": {
            "text/plain": [
              "0    6\n",
              "dtype: int64"
            ]
          },
          "metadata": {
            "tags": []
          },
          "execution_count": 10
        }
      ]
    },
    {
      "cell_type": "code",
      "metadata": {
        "id": "83BmG8hQdPTG",
        "colab_type": "code",
        "colab": {}
      },
      "source": [
        "seed = 7\n",
        "test_size = 0.2\n",
        "X_train, X_test, y_train, y_test = train_test_split(X, Y, test_size=test_size, random_state=seed)"
      ],
      "execution_count": 11,
      "outputs": []
    },
    {
      "cell_type": "code",
      "metadata": {
        "id": "XUObLBYHdQAn",
        "colab_type": "code",
        "colab": {
          "base_uri": "https://localhost:8080/",
          "height": 85
        },
        "outputId": "d352a934-b654-4630-ddcb-efec9e245c33"
      },
      "source": [
        "print(X_train.shape)\n",
        "print(X_test.shape)\n",
        "print(y_train.shape)\n",
        "print(y_test.shape)"
      ],
      "execution_count": 12,
      "outputs": [
        {
          "output_type": "stream",
          "text": [
            "(77198, 16)\n",
            "(19300, 16)\n",
            "(77198, 1)\n",
            "(19300, 1)\n"
          ],
          "name": "stdout"
        }
      ]
    },
    {
      "cell_type": "code",
      "metadata": {
        "id": "cZQB73tOdP-1",
        "colab_type": "code",
        "colab": {}
      },
      "source": [
        "from sklearn.linear_model import LogisticRegression, SGDClassifier, RidgeClassifier\n",
        "from sklearn.tree import DecisionTreeClassifier\n",
        "from sklearn.ensemble import RandomForestClassifier\n",
        "\n",
        "logi = LogisticRegression()\n",
        "sdg = SGDClassifier()\n",
        "ridge = RidgeClassifier()\n",
        "dtree = DecisionTreeClassifier(criterion = 'entropy')\n",
        "rf = RandomForestClassifier()\n",
        "\n",
        "models = [logi, sdg, ridge, dtree, rf]"
      ],
      "execution_count": 13,
      "outputs": []
    },
    {
      "cell_type": "code",
      "metadata": {
        "id": "DgJmLsXudP9k",
        "colab_type": "code",
        "colab": {}
      },
      "source": [
        "def get_cv_score(model):\n",
        "  scores = cross_val_score(model, X = X_train, y = y_train, cv = 5)\n",
        "  print(scores)\n",
        "  print(\"CV Mean:\", np.mean(scores))\n",
        "  print(\"STD:\", np.std(scores))\n",
        "  print(\"\\n\")"
      ],
      "execution_count": 14,
      "outputs": []
    },
    {
      "cell_type": "code",
      "metadata": {
        "id": "pEawKymKdP8P",
        "colab_type": "code",
        "colab": {
          "base_uri": "https://localhost:8080/",
          "height": 918
        },
        "outputId": "94063569-ecfd-422e-8ea4-22113f71f971"
      },
      "source": [
        "for i in models:\n",
        "  print(i)\n",
        "  get_cv_score(i)"
      ],
      "execution_count": 15,
      "outputs": [
        {
          "output_type": "stream",
          "text": [
            "LogisticRegression(C=1.0, class_weight=None, dual=False, fit_intercept=True,\n",
            "                   intercept_scaling=1, l1_ratio=None, max_iter=100,\n",
            "                   multi_class='auto', n_jobs=None, penalty='l2',\n",
            "                   random_state=None, solver='lbfgs', tol=0.0001, verbose=0,\n",
            "                   warm_start=False)\n",
            "[0.85524611 0.85641192 0.85479275 0.853747   0.85368223]\n",
            "CV Mean: 0.8547760029693995\n",
            "STD: 0.0010151522053404927\n",
            "\n",
            "\n",
            "SGDClassifier(alpha=0.0001, average=False, class_weight=None,\n",
            "              early_stopping=False, epsilon=0.1, eta0=0.0, fit_intercept=True,\n",
            "              l1_ratio=0.15, learning_rate='optimal', loss='hinge',\n",
            "              max_iter=1000, n_iter_no_change=5, n_jobs=None, penalty='l2',\n",
            "              power_t=0.5, random_state=None, shuffle=True, tol=0.001,\n",
            "              validation_fraction=0.1, verbose=0, warm_start=False)\n",
            "[0.86392487 0.85408031 0.09546632 0.85918777 0.8635922 ]\n",
            "CV Mean: 0.7072502950773678\n",
            "STD: 0.3059128618212313\n",
            "\n",
            "\n",
            "RidgeClassifier(alpha=1.0, class_weight=None, copy_X=True, fit_intercept=True,\n",
            "                max_iter=None, normalize=False, random_state=None,\n",
            "                solver='auto', tol=0.001)\n",
            "[0.87163212 0.87066062 0.87104922 0.86987499 0.86961591]\n",
            "CV Mean: 0.870566573716317\n",
            "STD: 0.0007428653284920603\n",
            "\n",
            "\n",
            "DecisionTreeClassifier(ccp_alpha=0.0, class_weight=None, criterion='entropy',\n",
            "                       max_depth=None, max_features=None, max_leaf_nodes=None,\n",
            "                       min_impurity_decrease=0.0, min_impurity_split=None,\n",
            "                       min_samples_leaf=1, min_samples_split=2,\n",
            "                       min_weight_fraction_leaf=0.0, presort='deprecated',\n",
            "                       random_state=None, splitter='best')\n",
            "[0.80498705 0.7998057  0.79915803 0.80426193 0.8007643 ]\n",
            "CV Mean: 0.8017954018942003\n",
            "STD: 0.0023768968150943643\n",
            "\n",
            "\n",
            "RandomForestClassifier(bootstrap=True, ccp_alpha=0.0, class_weight=None,\n",
            "                       criterion='gini', max_depth=None, max_features='auto',\n",
            "                       max_leaf_nodes=None, max_samples=None,\n",
            "                       min_impurity_decrease=0.0, min_impurity_split=None,\n",
            "                       min_samples_leaf=1, min_samples_split=2,\n",
            "                       min_weight_fraction_leaf=0.0, n_estimators=100,\n",
            "                       n_jobs=None, oob_score=False, random_state=None,\n",
            "                       verbose=0, warm_start=False)\n",
            "[0.85110104 0.84805699 0.84727979 0.84739944 0.8481767 ]\n",
            "CV Mean: 0.8484027924370252\n",
            "STD: 0.0013942061620088161\n",
            "\n",
            "\n"
          ],
          "name": "stdout"
        }
      ]
    },
    {
      "cell_type": "markdown",
      "metadata": {
        "id": "ptEZUGFL3mAS",
        "colab_type": "text"
      },
      "source": [
        "Best model here is RidgeClassifier with\n",
        "\n",
        "CV Mean: 0.870566573716317\n",
        "\n",
        "STD: 0.0007428653284920603\n",
        "\n",
        "\n",
        "\n"
      ]
    },
    {
      "cell_type": "code",
      "metadata": {
        "id": "_kpCn02y3fP7",
        "colab_type": "code",
        "colab": {}
      },
      "source": [
        "## applying GridSearch\n",
        "\n",
        "alpha = [0.5,0.1,0.05,0.01,0.0001]\n",
        "solvers = ['auto','lsqr','svd']\n",
        "\n",
        "params = dict(alpha = alpha, solver = solvers)"
      ],
      "execution_count": 16,
      "outputs": []
    },
    {
      "cell_type": "code",
      "metadata": {
        "id": "m5Fk8f8tdP5_",
        "colab_type": "code",
        "colab": {
          "base_uri": "https://localhost:8080/",
          "height": 68
        },
        "outputId": "555c7fb8-b7da-42cd-e841-41e4850e6d8a"
      },
      "source": [
        "from sklearn.model_selection import RandomizedSearchCV\n",
        "\n",
        "rgrid = RandomizedSearchCV(estimator = ridge,param_distributions=params, scoring='accuracy',verbose=1, n_iter=10, n_jobs=-1)\n",
        "rgrid_result = rgrid.fit(X_train,y_train)"
      ],
      "execution_count": 17,
      "outputs": [
        {
          "output_type": "stream",
          "text": [
            "Fitting 5 folds for each of 10 candidates, totalling 50 fits\n"
          ],
          "name": "stdout"
        },
        {
          "output_type": "stream",
          "text": [
            "[Parallel(n_jobs=-1)]: Using backend LokyBackend with 2 concurrent workers.\n",
            "[Parallel(n_jobs=-1)]: Done  50 out of  50 | elapsed:    3.5s finished\n"
          ],
          "name": "stderr"
        }
      ]
    },
    {
      "cell_type": "markdown",
      "metadata": {
        "id": "fZ7uC_uy8sV0",
        "colab_type": "text"
      },
      "source": [
        "Code for grid search using logistic regression is mentioned in this block, double click **here**\n",
        "\n",
        "> Indented block\n",
        "\n",
        "\n",
        "\n",
        "\n",
        "<!--\n",
        "penalty = ['l1', 'l2']\n",
        "C = [0.0001, 0.001, 0.01]\n",
        "class_weight = [{1:0.5, 0:0.5}, {1:0.4, 0:0.6}]\n",
        "solver = ['liblinear', 'saga']\n",
        "\n",
        "param_grid = dict(penalty=penalty,\n",
        "                  C=C,\n",
        "                  class_weight=class_weight,\n",
        "                  solver=solver)\n",
        "\n",
        "grid = GridSearchCV(estimator=logistic, param_grid=param_grid, scoring='accuracy', verbose=1, n_jobs=-1)\n",
        "grid_result = grid.fit(X_train, y_train)\n",
        "\n",
        "print('Best Score: ', grid_result.best_score_)\n",
        "print('Best Params: ', grid_result.best_params_)\n",
        "-->"
      ]
    },
    {
      "cell_type": "code",
      "metadata": {
        "id": "FH6NDLLEdP1E",
        "colab_type": "code",
        "colab": {
          "base_uri": "https://localhost:8080/",
          "height": 889
        },
        "outputId": "5df7054c-7816-42c5-d3cb-cc8de11522c4"
      },
      "source": [
        "results = pd.DataFrame(rgrid_result.cv_results_)\n",
        "results"
      ],
      "execution_count": 18,
      "outputs": [
        {
          "output_type": "execute_result",
          "data": {
            "text/html": [
              "<div>\n",
              "<style scoped>\n",
              "    .dataframe tbody tr th:only-of-type {\n",
              "        vertical-align: middle;\n",
              "    }\n",
              "\n",
              "    .dataframe tbody tr th {\n",
              "        vertical-align: top;\n",
              "    }\n",
              "\n",
              "    .dataframe thead th {\n",
              "        text-align: right;\n",
              "    }\n",
              "</style>\n",
              "<table border=\"1\" class=\"dataframe\">\n",
              "  <thead>\n",
              "    <tr style=\"text-align: right;\">\n",
              "      <th></th>\n",
              "      <th>mean_fit_time</th>\n",
              "      <th>std_fit_time</th>\n",
              "      <th>mean_score_time</th>\n",
              "      <th>std_score_time</th>\n",
              "      <th>param_solver</th>\n",
              "      <th>param_alpha</th>\n",
              "      <th>params</th>\n",
              "      <th>split0_test_score</th>\n",
              "      <th>split1_test_score</th>\n",
              "      <th>split2_test_score</th>\n",
              "      <th>split3_test_score</th>\n",
              "      <th>split4_test_score</th>\n",
              "      <th>mean_test_score</th>\n",
              "      <th>std_test_score</th>\n",
              "      <th>rank_test_score</th>\n",
              "    </tr>\n",
              "  </thead>\n",
              "  <tbody>\n",
              "    <tr>\n",
              "      <th>0</th>\n",
              "      <td>0.081308</td>\n",
              "      <td>0.010308</td>\n",
              "      <td>0.004108</td>\n",
              "      <td>0.000376</td>\n",
              "      <td>lsqr</td>\n",
              "      <td>0.05</td>\n",
              "      <td>{'solver': 'lsqr', 'alpha': 0.05}</td>\n",
              "      <td>0.870855</td>\n",
              "      <td>0.870661</td>\n",
              "      <td>0.870272</td>\n",
              "      <td>0.869810</td>\n",
              "      <td>0.869227</td>\n",
              "      <td>0.870165</td>\n",
              "      <td>0.000590</td>\n",
              "      <td>7</td>\n",
              "    </tr>\n",
              "    <tr>\n",
              "      <th>1</th>\n",
              "      <td>0.084889</td>\n",
              "      <td>0.010534</td>\n",
              "      <td>0.004350</td>\n",
              "      <td>0.000587</td>\n",
              "      <td>lsqr</td>\n",
              "      <td>0.5</td>\n",
              "      <td>{'solver': 'lsqr', 'alpha': 0.5}</td>\n",
              "      <td>0.870855</td>\n",
              "      <td>0.870661</td>\n",
              "      <td>0.870272</td>\n",
              "      <td>0.869810</td>\n",
              "      <td>0.869227</td>\n",
              "      <td>0.870165</td>\n",
              "      <td>0.000590</td>\n",
              "      <td>7</td>\n",
              "    </tr>\n",
              "    <tr>\n",
              "      <th>2</th>\n",
              "      <td>0.084577</td>\n",
              "      <td>0.006073</td>\n",
              "      <td>0.003854</td>\n",
              "      <td>0.000161</td>\n",
              "      <td>lsqr</td>\n",
              "      <td>0.0001</td>\n",
              "      <td>{'solver': 'lsqr', 'alpha': 0.0001}</td>\n",
              "      <td>0.870855</td>\n",
              "      <td>0.870661</td>\n",
              "      <td>0.870272</td>\n",
              "      <td>0.869810</td>\n",
              "      <td>0.869227</td>\n",
              "      <td>0.870165</td>\n",
              "      <td>0.000590</td>\n",
              "      <td>7</td>\n",
              "    </tr>\n",
              "    <tr>\n",
              "      <th>3</th>\n",
              "      <td>0.063321</td>\n",
              "      <td>0.004423</td>\n",
              "      <td>0.004256</td>\n",
              "      <td>0.000526</td>\n",
              "      <td>auto</td>\n",
              "      <td>0.1</td>\n",
              "      <td>{'solver': 'auto', 'alpha': 0.1}</td>\n",
              "      <td>0.871632</td>\n",
              "      <td>0.870661</td>\n",
              "      <td>0.871049</td>\n",
              "      <td>0.869875</td>\n",
              "      <td>0.869616</td>\n",
              "      <td>0.870567</td>\n",
              "      <td>0.000743</td>\n",
              "      <td>1</td>\n",
              "    </tr>\n",
              "    <tr>\n",
              "      <th>4</th>\n",
              "      <td>0.076343</td>\n",
              "      <td>0.008062</td>\n",
              "      <td>0.003980</td>\n",
              "      <td>0.000330</td>\n",
              "      <td>lsqr</td>\n",
              "      <td>0.01</td>\n",
              "      <td>{'solver': 'lsqr', 'alpha': 0.01}</td>\n",
              "      <td>0.870855</td>\n",
              "      <td>0.870661</td>\n",
              "      <td>0.870272</td>\n",
              "      <td>0.869810</td>\n",
              "      <td>0.869227</td>\n",
              "      <td>0.870165</td>\n",
              "      <td>0.000590</td>\n",
              "      <td>7</td>\n",
              "    </tr>\n",
              "    <tr>\n",
              "      <th>5</th>\n",
              "      <td>0.097381</td>\n",
              "      <td>0.007207</td>\n",
              "      <td>0.004529</td>\n",
              "      <td>0.000794</td>\n",
              "      <td>svd</td>\n",
              "      <td>0.05</td>\n",
              "      <td>{'solver': 'svd', 'alpha': 0.05}</td>\n",
              "      <td>0.871632</td>\n",
              "      <td>0.870661</td>\n",
              "      <td>0.871049</td>\n",
              "      <td>0.869875</td>\n",
              "      <td>0.869616</td>\n",
              "      <td>0.870567</td>\n",
              "      <td>0.000743</td>\n",
              "      <td>1</td>\n",
              "    </tr>\n",
              "    <tr>\n",
              "      <th>6</th>\n",
              "      <td>0.064923</td>\n",
              "      <td>0.006539</td>\n",
              "      <td>0.004620</td>\n",
              "      <td>0.000561</td>\n",
              "      <td>auto</td>\n",
              "      <td>0.05</td>\n",
              "      <td>{'solver': 'auto', 'alpha': 0.05}</td>\n",
              "      <td>0.871632</td>\n",
              "      <td>0.870661</td>\n",
              "      <td>0.871049</td>\n",
              "      <td>0.869875</td>\n",
              "      <td>0.869616</td>\n",
              "      <td>0.870567</td>\n",
              "      <td>0.000743</td>\n",
              "      <td>1</td>\n",
              "    </tr>\n",
              "    <tr>\n",
              "      <th>7</th>\n",
              "      <td>0.060091</td>\n",
              "      <td>0.002928</td>\n",
              "      <td>0.004276</td>\n",
              "      <td>0.000686</td>\n",
              "      <td>auto</td>\n",
              "      <td>0.01</td>\n",
              "      <td>{'solver': 'auto', 'alpha': 0.01}</td>\n",
              "      <td>0.871632</td>\n",
              "      <td>0.870661</td>\n",
              "      <td>0.871049</td>\n",
              "      <td>0.869875</td>\n",
              "      <td>0.869616</td>\n",
              "      <td>0.870567</td>\n",
              "      <td>0.000743</td>\n",
              "      <td>1</td>\n",
              "    </tr>\n",
              "    <tr>\n",
              "      <th>8</th>\n",
              "      <td>0.090143</td>\n",
              "      <td>0.002364</td>\n",
              "      <td>0.004760</td>\n",
              "      <td>0.000823</td>\n",
              "      <td>svd</td>\n",
              "      <td>0.5</td>\n",
              "      <td>{'solver': 'svd', 'alpha': 0.5}</td>\n",
              "      <td>0.871632</td>\n",
              "      <td>0.870661</td>\n",
              "      <td>0.871049</td>\n",
              "      <td>0.869875</td>\n",
              "      <td>0.869616</td>\n",
              "      <td>0.870567</td>\n",
              "      <td>0.000743</td>\n",
              "      <td>1</td>\n",
              "    </tr>\n",
              "    <tr>\n",
              "      <th>9</th>\n",
              "      <td>0.089568</td>\n",
              "      <td>0.016474</td>\n",
              "      <td>0.004370</td>\n",
              "      <td>0.001135</td>\n",
              "      <td>svd</td>\n",
              "      <td>0.1</td>\n",
              "      <td>{'solver': 'svd', 'alpha': 0.1}</td>\n",
              "      <td>0.871632</td>\n",
              "      <td>0.870661</td>\n",
              "      <td>0.871049</td>\n",
              "      <td>0.869875</td>\n",
              "      <td>0.869616</td>\n",
              "      <td>0.870567</td>\n",
              "      <td>0.000743</td>\n",
              "      <td>1</td>\n",
              "    </tr>\n",
              "  </tbody>\n",
              "</table>\n",
              "</div>"
            ],
            "text/plain": [
              "   mean_fit_time  std_fit_time  ...  std_test_score  rank_test_score\n",
              "0       0.081308      0.010308  ...        0.000590                7\n",
              "1       0.084889      0.010534  ...        0.000590                7\n",
              "2       0.084577      0.006073  ...        0.000590                7\n",
              "3       0.063321      0.004423  ...        0.000743                1\n",
              "4       0.076343      0.008062  ...        0.000590                7\n",
              "5       0.097381      0.007207  ...        0.000743                1\n",
              "6       0.064923      0.006539  ...        0.000743                1\n",
              "7       0.060091      0.002928  ...        0.000743                1\n",
              "8       0.090143      0.002364  ...        0.000743                1\n",
              "9       0.089568      0.016474  ...        0.000743                1\n",
              "\n",
              "[10 rows x 15 columns]"
            ]
          },
          "metadata": {
            "tags": []
          },
          "execution_count": 18
        }
      ]
    },
    {
      "cell_type": "code",
      "metadata": {
        "id": "V7N8rm_VFv5_",
        "colab_type": "code",
        "colab": {
          "base_uri": "https://localhost:8080/",
          "height": 359
        },
        "outputId": "78334cc1-92b7-4c51-b7c1-0ceb29b312a8"
      },
      "source": [
        "results[['rank_test_score','params','mean_score_time','mean_test_score']].sort_values('rank_test_score')"
      ],
      "execution_count": 19,
      "outputs": [
        {
          "output_type": "execute_result",
          "data": {
            "text/html": [
              "<div>\n",
              "<style scoped>\n",
              "    .dataframe tbody tr th:only-of-type {\n",
              "        vertical-align: middle;\n",
              "    }\n",
              "\n",
              "    .dataframe tbody tr th {\n",
              "        vertical-align: top;\n",
              "    }\n",
              "\n",
              "    .dataframe thead th {\n",
              "        text-align: right;\n",
              "    }\n",
              "</style>\n",
              "<table border=\"1\" class=\"dataframe\">\n",
              "  <thead>\n",
              "    <tr style=\"text-align: right;\">\n",
              "      <th></th>\n",
              "      <th>rank_test_score</th>\n",
              "      <th>params</th>\n",
              "      <th>mean_score_time</th>\n",
              "      <th>mean_test_score</th>\n",
              "    </tr>\n",
              "  </thead>\n",
              "  <tbody>\n",
              "    <tr>\n",
              "      <th>3</th>\n",
              "      <td>1</td>\n",
              "      <td>{'solver': 'auto', 'alpha': 0.1}</td>\n",
              "      <td>0.004256</td>\n",
              "      <td>0.870567</td>\n",
              "    </tr>\n",
              "    <tr>\n",
              "      <th>5</th>\n",
              "      <td>1</td>\n",
              "      <td>{'solver': 'svd', 'alpha': 0.05}</td>\n",
              "      <td>0.004529</td>\n",
              "      <td>0.870567</td>\n",
              "    </tr>\n",
              "    <tr>\n",
              "      <th>6</th>\n",
              "      <td>1</td>\n",
              "      <td>{'solver': 'auto', 'alpha': 0.05}</td>\n",
              "      <td>0.004620</td>\n",
              "      <td>0.870567</td>\n",
              "    </tr>\n",
              "    <tr>\n",
              "      <th>7</th>\n",
              "      <td>1</td>\n",
              "      <td>{'solver': 'auto', 'alpha': 0.01}</td>\n",
              "      <td>0.004276</td>\n",
              "      <td>0.870567</td>\n",
              "    </tr>\n",
              "    <tr>\n",
              "      <th>8</th>\n",
              "      <td>1</td>\n",
              "      <td>{'solver': 'svd', 'alpha': 0.5}</td>\n",
              "      <td>0.004760</td>\n",
              "      <td>0.870567</td>\n",
              "    </tr>\n",
              "    <tr>\n",
              "      <th>9</th>\n",
              "      <td>1</td>\n",
              "      <td>{'solver': 'svd', 'alpha': 0.1}</td>\n",
              "      <td>0.004370</td>\n",
              "      <td>0.870567</td>\n",
              "    </tr>\n",
              "    <tr>\n",
              "      <th>0</th>\n",
              "      <td>7</td>\n",
              "      <td>{'solver': 'lsqr', 'alpha': 0.05}</td>\n",
              "      <td>0.004108</td>\n",
              "      <td>0.870165</td>\n",
              "    </tr>\n",
              "    <tr>\n",
              "      <th>1</th>\n",
              "      <td>7</td>\n",
              "      <td>{'solver': 'lsqr', 'alpha': 0.5}</td>\n",
              "      <td>0.004350</td>\n",
              "      <td>0.870165</td>\n",
              "    </tr>\n",
              "    <tr>\n",
              "      <th>2</th>\n",
              "      <td>7</td>\n",
              "      <td>{'solver': 'lsqr', 'alpha': 0.0001}</td>\n",
              "      <td>0.003854</td>\n",
              "      <td>0.870165</td>\n",
              "    </tr>\n",
              "    <tr>\n",
              "      <th>4</th>\n",
              "      <td>7</td>\n",
              "      <td>{'solver': 'lsqr', 'alpha': 0.01}</td>\n",
              "      <td>0.003980</td>\n",
              "      <td>0.870165</td>\n",
              "    </tr>\n",
              "  </tbody>\n",
              "</table>\n",
              "</div>"
            ],
            "text/plain": [
              "   rank_test_score  ... mean_test_score\n",
              "3                1  ...        0.870567\n",
              "5                1  ...        0.870567\n",
              "6                1  ...        0.870567\n",
              "7                1  ...        0.870567\n",
              "8                1  ...        0.870567\n",
              "9                1  ...        0.870567\n",
              "0                7  ...        0.870165\n",
              "1                7  ...        0.870165\n",
              "2                7  ...        0.870165\n",
              "4                7  ...        0.870165\n",
              "\n",
              "[10 rows x 4 columns]"
            ]
          },
          "metadata": {
            "tags": []
          },
          "execution_count": 19
        }
      ]
    },
    {
      "cell_type": "code",
      "metadata": {
        "id": "mTS_Y0JxdPyt",
        "colab_type": "code",
        "colab": {
          "base_uri": "https://localhost:8080/",
          "height": 102
        },
        "outputId": "745cb7e2-a293-4ea2-a090-3836555d0c58"
      },
      "source": [
        "ridge_model = RidgeClassifier(alpha = 0.01, solver = 'svd')\n",
        "get_cv_score(ridge_model)"
      ],
      "execution_count": 20,
      "outputs": [
        {
          "output_type": "stream",
          "text": [
            "[0.87163212 0.87066062 0.87104922 0.86987499 0.86961591]\n",
            "CV Mean: 0.870566573716317\n",
            "STD: 0.0007428653284920603\n",
            "\n",
            "\n"
          ],
          "name": "stdout"
        }
      ]
    },
    {
      "cell_type": "code",
      "metadata": {
        "id": "fqGVa2HzdPxa",
        "colab_type": "code",
        "colab": {
          "base_uri": "https://localhost:8080/",
          "height": 51
        },
        "outputId": "de86287b-a6a2-47b1-a86b-5e26a3ab49ff"
      },
      "source": [
        "from sklearn.metrics import accuracy_score\n",
        "\n",
        "ridge_model.fit(X_train, y_train)\n",
        "y_train_pred = ridge_model.predict(X_train)\n",
        "accuracy_train = accuracy_score(y_train, y_train_pred)\n",
        "print(\"Accuracy on train: %.2f%%\" % (accuracy_train))\n",
        "\n",
        "\n",
        "y_test_pred = ridge_model.predict(X_test)\n",
        "accuracy_test = accuracy_score(y_test, y_test_pred)\n",
        "print(\"Accuracy on test: %.2f%%\" % (accuracy_test))\n",
        "\n"
      ],
      "execution_count": 21,
      "outputs": [
        {
          "output_type": "stream",
          "text": [
            "Accuracy on train: 0.87%\n",
            "Accuracy on test: 0.87%\n"
          ],
          "name": "stdout"
        }
      ]
    },
    {
      "cell_type": "code",
      "metadata": {
        "id": "tsIwlFufCjkn",
        "colab_type": "code",
        "colab": {}
      },
      "source": [
        ""
      ],
      "execution_count": 21,
      "outputs": []
    },
    {
      "cell_type": "markdown",
      "metadata": {
        "id": "Jfp09uZPCiQX",
        "colab_type": "text"
      },
      "source": [
        "**Neural Network on the Dataset**"
      ]
    },
    {
      "cell_type": "code",
      "metadata": {
        "id": "hG_F4aQvdPrH",
        "colab_type": "code",
        "colab": {}
      },
      "source": [
        "from keras import models\n",
        "from keras import layers\n",
        "from keras.utils import to_categorical"
      ],
      "execution_count": 22,
      "outputs": []
    },
    {
      "cell_type": "code",
      "metadata": {
        "id": "446AATRGdPp1",
        "colab_type": "code",
        "colab": {
          "base_uri": "https://localhost:8080/",
          "height": 119
        },
        "outputId": "e79ff3df-7fc0-4a71-de25-6a41e0c11f3c"
      },
      "source": [
        "seed = 7\n",
        "test_size = 0.4\n",
        "Y = to_categorical(Y)\n",
        "\n",
        "x_train, x_test, y_train, y_test = train_test_split(X, Y, test_size=test_size, random_state=seed)\n",
        "x_val, x_test, y_val, y_test = train_test_split(x_test, y_test, test_size= 0.5, random_state=seed)\n",
        "\n",
        "print(x_train.shape)\n",
        "print(x_val.shape)\n",
        "print(x_test.shape)\n",
        "print(y_train.shape)\n",
        "print(y_val.shape)\n",
        "print(y_test.shape)"
      ],
      "execution_count": 23,
      "outputs": [
        {
          "output_type": "stream",
          "text": [
            "(57898, 16)\n",
            "(19300, 16)\n",
            "(19300, 16)\n",
            "(57898, 6)\n",
            "(19300, 6)\n",
            "(19300, 6)\n"
          ],
          "name": "stdout"
        }
      ]
    },
    {
      "cell_type": "code",
      "metadata": {
        "id": "4u50ds6FdPoh",
        "colab_type": "code",
        "colab": {}
      },
      "source": [
        "nn = models.Sequential()"
      ],
      "execution_count": 24,
      "outputs": []
    },
    {
      "cell_type": "code",
      "metadata": {
        "id": "ncbNe1MWdPkf",
        "colab_type": "code",
        "colab": {}
      },
      "source": [
        "nn.add(layers.Dense(64, activation='tanh', input_shape = (16,)))\n",
        "nn.add(layers.Dense(128,activation='relu'))\n",
        "nn.add(layers.Dense(6,activation='softmax'))"
      ],
      "execution_count": 25,
      "outputs": []
    },
    {
      "cell_type": "code",
      "metadata": {
        "id": "9rGpZk-mdPjK",
        "colab_type": "code",
        "colab": {
          "base_uri": "https://localhost:8080/",
          "height": 255
        },
        "outputId": "c8feabb6-64f8-491f-c6f4-8d143264041a"
      },
      "source": [
        "nn.summary()"
      ],
      "execution_count": 26,
      "outputs": [
        {
          "output_type": "stream",
          "text": [
            "Model: \"sequential\"\n",
            "_________________________________________________________________\n",
            "Layer (type)                 Output Shape              Param #   \n",
            "=================================================================\n",
            "dense (Dense)                (None, 64)                1088      \n",
            "_________________________________________________________________\n",
            "dense_1 (Dense)              (None, 128)               8320      \n",
            "_________________________________________________________________\n",
            "dense_2 (Dense)              (None, 6)                 774       \n",
            "=================================================================\n",
            "Total params: 10,182\n",
            "Trainable params: 10,182\n",
            "Non-trainable params: 0\n",
            "_________________________________________________________________\n"
          ],
          "name": "stdout"
        }
      ]
    },
    {
      "cell_type": "code",
      "metadata": {
        "id": "zsHY9EAjdPh0",
        "colab_type": "code",
        "colab": {}
      },
      "source": [
        "nn.compile(optimizer='rmsprop', loss='categorical_crossentropy', metrics=['accuracy'])"
      ],
      "execution_count": 27,
      "outputs": []
    },
    {
      "cell_type": "code",
      "metadata": {
        "id": "skiRXaDBdPf7",
        "colab_type": "code",
        "colab": {
          "base_uri": "https://localhost:8080/",
          "height": 1000
        },
        "outputId": "195650db-06eb-4076-e11c-edab33ce4766"
      },
      "source": [
        "history = nn.fit(x= x_train, y= y_train, epochs=50, validation_data=(x_val,y_val), batch_size=500)"
      ],
      "execution_count": 28,
      "outputs": [
        {
          "output_type": "stream",
          "text": [
            "Epoch 1/50\n",
            "116/116 [==============================] - 1s 5ms/step - loss: 0.6496 - accuracy: 0.8301 - val_loss: 0.5888 - val_accuracy: 0.8562\n",
            "Epoch 2/50\n",
            "116/116 [==============================] - 0s 3ms/step - loss: 0.5843 - accuracy: 0.8550 - val_loss: 0.6104 - val_accuracy: 0.8577\n",
            "Epoch 3/50\n",
            "116/116 [==============================] - 0s 3ms/step - loss: 0.5816 - accuracy: 0.8553 - val_loss: 0.5815 - val_accuracy: 0.8563\n",
            "Epoch 4/50\n",
            "116/116 [==============================] - 0s 3ms/step - loss: 0.5806 - accuracy: 0.8557 - val_loss: 0.5928 - val_accuracy: 0.8575\n",
            "Epoch 5/50\n",
            "116/116 [==============================] - 0s 3ms/step - loss: 0.5811 - accuracy: 0.8556 - val_loss: 0.5810 - val_accuracy: 0.8578\n",
            "Epoch 6/50\n",
            "116/116 [==============================] - 0s 4ms/step - loss: 0.5809 - accuracy: 0.8559 - val_loss: 0.5763 - val_accuracy: 0.8577\n",
            "Epoch 7/50\n",
            "116/116 [==============================] - 0s 4ms/step - loss: 0.5788 - accuracy: 0.8563 - val_loss: 0.5802 - val_accuracy: 0.8564\n",
            "Epoch 8/50\n",
            "116/116 [==============================] - 0s 4ms/step - loss: 0.5788 - accuracy: 0.8561 - val_loss: 0.5763 - val_accuracy: 0.8577\n",
            "Epoch 9/50\n",
            "116/116 [==============================] - 0s 4ms/step - loss: 0.5769 - accuracy: 0.8565 - val_loss: 0.5761 - val_accuracy: 0.8583\n",
            "Epoch 10/50\n",
            "116/116 [==============================] - 0s 4ms/step - loss: 0.5775 - accuracy: 0.8562 - val_loss: 0.5747 - val_accuracy: 0.8578\n",
            "Epoch 11/50\n",
            "116/116 [==============================] - 0s 4ms/step - loss: 0.5768 - accuracy: 0.8566 - val_loss: 0.5767 - val_accuracy: 0.8577\n",
            "Epoch 12/50\n",
            "116/116 [==============================] - 0s 3ms/step - loss: 0.5764 - accuracy: 0.8566 - val_loss: 0.5754 - val_accuracy: 0.8577\n",
            "Epoch 13/50\n",
            "116/116 [==============================] - 0s 3ms/step - loss: 0.5765 - accuracy: 0.8566 - val_loss: 0.5854 - val_accuracy: 0.8577\n",
            "Epoch 14/50\n",
            "116/116 [==============================] - 0s 3ms/step - loss: 0.5747 - accuracy: 0.8567 - val_loss: 0.5788 - val_accuracy: 0.8583\n",
            "Epoch 15/50\n",
            "116/116 [==============================] - 0s 3ms/step - loss: 0.5765 - accuracy: 0.8567 - val_loss: 0.5727 - val_accuracy: 0.8577\n",
            "Epoch 16/50\n",
            "116/116 [==============================] - 0s 4ms/step - loss: 0.5751 - accuracy: 0.8570 - val_loss: 0.5782 - val_accuracy: 0.8584\n",
            "Epoch 17/50\n",
            "116/116 [==============================] - 0s 3ms/step - loss: 0.5742 - accuracy: 0.8568 - val_loss: 0.5795 - val_accuracy: 0.8585\n",
            "Epoch 18/50\n",
            "116/116 [==============================] - 0s 3ms/step - loss: 0.5742 - accuracy: 0.8571 - val_loss: 0.5733 - val_accuracy: 0.8569\n",
            "Epoch 19/50\n",
            "116/116 [==============================] - 0s 3ms/step - loss: 0.5750 - accuracy: 0.8570 - val_loss: 0.5717 - val_accuracy: 0.8581\n",
            "Epoch 20/50\n",
            "116/116 [==============================] - 0s 3ms/step - loss: 0.5741 - accuracy: 0.8570 - val_loss: 0.5734 - val_accuracy: 0.8589\n",
            "Epoch 21/50\n",
            "116/116 [==============================] - 0s 3ms/step - loss: 0.5735 - accuracy: 0.8569 - val_loss: 0.5725 - val_accuracy: 0.8577\n",
            "Epoch 22/50\n",
            "116/116 [==============================] - 0s 3ms/step - loss: 0.5734 - accuracy: 0.8569 - val_loss: 0.5717 - val_accuracy: 0.8589\n",
            "Epoch 23/50\n",
            "116/116 [==============================] - 0s 4ms/step - loss: 0.5740 - accuracy: 0.8569 - val_loss: 0.5785 - val_accuracy: 0.8585\n",
            "Epoch 24/50\n",
            "116/116 [==============================] - 0s 3ms/step - loss: 0.5734 - accuracy: 0.8571 - val_loss: 0.5735 - val_accuracy: 0.8589\n",
            "Epoch 25/50\n",
            "116/116 [==============================] - 0s 3ms/step - loss: 0.5739 - accuracy: 0.8571 - val_loss: 0.5730 - val_accuracy: 0.8585\n",
            "Epoch 26/50\n",
            "116/116 [==============================] - 0s 3ms/step - loss: 0.5732 - accuracy: 0.8571 - val_loss: 0.5794 - val_accuracy: 0.8589\n",
            "Epoch 27/50\n",
            "116/116 [==============================] - 0s 3ms/step - loss: 0.5728 - accuracy: 0.8573 - val_loss: 0.5743 - val_accuracy: 0.8589\n",
            "Epoch 28/50\n",
            "116/116 [==============================] - 0s 3ms/step - loss: 0.5727 - accuracy: 0.8572 - val_loss: 0.5751 - val_accuracy: 0.8589\n",
            "Epoch 29/50\n",
            "116/116 [==============================] - 0s 3ms/step - loss: 0.5731 - accuracy: 0.8572 - val_loss: 0.5790 - val_accuracy: 0.8589\n",
            "Epoch 30/50\n",
            "116/116 [==============================] - 0s 3ms/step - loss: 0.5728 - accuracy: 0.8571 - val_loss: 0.5723 - val_accuracy: 0.8589\n",
            "Epoch 31/50\n",
            "116/116 [==============================] - 0s 3ms/step - loss: 0.5723 - accuracy: 0.8570 - val_loss: 0.5713 - val_accuracy: 0.8589\n",
            "Epoch 32/50\n",
            "116/116 [==============================] - 0s 3ms/step - loss: 0.5720 - accuracy: 0.8572 - val_loss: 0.5711 - val_accuracy: 0.8589\n",
            "Epoch 33/50\n",
            "116/116 [==============================] - 0s 3ms/step - loss: 0.5720 - accuracy: 0.8572 - val_loss: 0.5790 - val_accuracy: 0.8585\n",
            "Epoch 34/50\n",
            "116/116 [==============================] - 0s 3ms/step - loss: 0.5722 - accuracy: 0.8571 - val_loss: 0.5730 - val_accuracy: 0.8589\n",
            "Epoch 35/50\n",
            "116/116 [==============================] - 0s 3ms/step - loss: 0.5724 - accuracy: 0.8572 - val_loss: 0.5756 - val_accuracy: 0.8589\n",
            "Epoch 36/50\n",
            "116/116 [==============================] - 0s 3ms/step - loss: 0.5720 - accuracy: 0.8572 - val_loss: 0.5794 - val_accuracy: 0.8589\n",
            "Epoch 37/50\n",
            "116/116 [==============================] - 0s 4ms/step - loss: 0.5723 - accuracy: 0.8572 - val_loss: 0.5725 - val_accuracy: 0.8589\n",
            "Epoch 38/50\n",
            "116/116 [==============================] - 0s 4ms/step - loss: 0.5714 - accuracy: 0.8573 - val_loss: 0.5711 - val_accuracy: 0.8589\n",
            "Epoch 39/50\n",
            "116/116 [==============================] - 0s 4ms/step - loss: 0.5714 - accuracy: 0.8570 - val_loss: 0.5725 - val_accuracy: 0.8589\n",
            "Epoch 40/50\n",
            "116/116 [==============================] - 0s 4ms/step - loss: 0.5717 - accuracy: 0.8572 - val_loss: 0.5709 - val_accuracy: 0.8589\n",
            "Epoch 41/50\n",
            "116/116 [==============================] - 0s 3ms/step - loss: 0.5712 - accuracy: 0.8572 - val_loss: 0.5761 - val_accuracy: 0.8589\n",
            "Epoch 42/50\n",
            "116/116 [==============================] - 0s 3ms/step - loss: 0.5716 - accuracy: 0.8574 - val_loss: 0.5703 - val_accuracy: 0.8589\n",
            "Epoch 43/50\n",
            "116/116 [==============================] - 0s 3ms/step - loss: 0.5719 - accuracy: 0.8573 - val_loss: 0.5709 - val_accuracy: 0.8589\n",
            "Epoch 44/50\n",
            "116/116 [==============================] - 0s 3ms/step - loss: 0.5712 - accuracy: 0.8572 - val_loss: 0.5738 - val_accuracy: 0.8589\n",
            "Epoch 45/50\n",
            "116/116 [==============================] - 0s 3ms/step - loss: 0.5711 - accuracy: 0.8572 - val_loss: 0.5704 - val_accuracy: 0.8589\n",
            "Epoch 46/50\n",
            "116/116 [==============================] - 0s 3ms/step - loss: 0.5711 - accuracy: 0.8572 - val_loss: 0.5763 - val_accuracy: 0.8589\n",
            "Epoch 47/50\n",
            "116/116 [==============================] - 0s 3ms/step - loss: 0.5710 - accuracy: 0.8574 - val_loss: 0.5720 - val_accuracy: 0.8589\n",
            "Epoch 48/50\n",
            "116/116 [==============================] - 0s 3ms/step - loss: 0.5711 - accuracy: 0.8573 - val_loss: 0.5715 - val_accuracy: 0.8589\n",
            "Epoch 49/50\n",
            "116/116 [==============================] - 0s 3ms/step - loss: 0.5711 - accuracy: 0.8573 - val_loss: 0.5724 - val_accuracy: 0.8589\n",
            "Epoch 50/50\n",
            "116/116 [==============================] - 0s 3ms/step - loss: 0.5709 - accuracy: 0.8572 - val_loss: 0.5715 - val_accuracy: 0.8589\n"
          ],
          "name": "stdout"
        }
      ]
    },
    {
      "cell_type": "code",
      "metadata": {
        "id": "-qp9J9yFdPd9",
        "colab_type": "code",
        "colab": {
          "base_uri": "https://localhost:8080/",
          "height": 51
        },
        "outputId": "02eb28d3-4e26-4a21-bbbc-80f0aea27822"
      },
      "source": [
        "nn.evaluate(x_test, y_test)"
      ],
      "execution_count": 29,
      "outputs": [
        {
          "output_type": "stream",
          "text": [
            "604/604 [==============================] - 1s 2ms/step - loss: 0.5730 - accuracy: 0.8572\n"
          ],
          "name": "stdout"
        },
        {
          "output_type": "execute_result",
          "data": {
            "text/plain": [
              "[0.5729737877845764, 0.8572020530700684]"
            ]
          },
          "metadata": {
            "tags": []
          },
          "execution_count": 29
        }
      ]
    },
    {
      "cell_type": "code",
      "metadata": {
        "id": "W_qSSywYdPYz",
        "colab_type": "code",
        "colab": {
          "base_uri": "https://localhost:8080/",
          "height": 927
        },
        "outputId": "40ad206c-df5e-4302-e803-23b599a8babe"
      },
      "source": [
        "import matplotlib.pyplot as plt\n",
        "# Plot training & validation accuracy values\n",
        "plt.plot(history.history['accuracy'], color = 'red')\n",
        "plt.plot(history.history['val_accuracy'], color = 'blue')\n",
        "plt.title('Model accuracy')\n",
        "plt.ylabel('Accuracy')\n",
        "plt.xlabel('Epoch')\n",
        "plt.legend(['Train', 'Validation'], loc='upper left')\n",
        "plt.show()\n",
        "\n",
        "# Plot training & validation loss values\n",
        "plt.plot(history.history['loss'], color = 'red')\n",
        "plt.plot(history.history['val_loss'], color = 'blue')\n",
        "plt.title('Model loss')\n",
        "plt.ylabel('Loss')\n",
        "plt.xlabel('Epoch')\n",
        "plt.legend(['Train', 'Validation'], loc='upper left')\n",
        "plt.show()"
      ],
      "execution_count": 30,
      "outputs": [
        {
          "output_type": "display_data",
          "data": {
            "image/png": "[encoded data removed]",
            "text/plain": [
              "<Figure size 1440x504 with 1 Axes>"
            ]
          },
          "metadata": {
            "tags": []
          }
        },
        {
          "output_type": "display_data",
          "data": {
            "image/png": "[encoded data removed]",
            "text/plain": [
              "<Figure size 1440x504 with 1 Axes>"
            ]
          },
          "metadata": {
            "tags": []
          }
        }
      ]
    },
    {
      "cell_type": "code",
      "metadata": {
        "id": "zm-bWy5iOrNI",
        "colab_type": "code",
        "colab": {}
      },
      "source": [
        ""
      ],
      "execution_count": 30,
      "outputs": []
    },
    {
      "cell_type": "code",
      "metadata": {
        "id": "Pftrg4gOOrJ6",
        "colab_type": "code",
        "colab": {}
      },
      "source": [
        ""
      ],
      "execution_count": 30,
      "outputs": []
    }
  ]
}