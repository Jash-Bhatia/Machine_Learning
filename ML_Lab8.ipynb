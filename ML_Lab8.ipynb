{
  "nbformat": 4,
  "nbformat_minor": 0,
  "metadata": {
    "colab": {
      "name": "ML_Lab8.ipynb",
      "provenance": [],
      "collapsed_sections": [],
      "authorship_tag": "ABX9TyMiQiLHjBFema18nvjl2Xix",
      "include_colab_link": true
    },
    "kernelspec": {
      "name": "python3",
      "display_name": "Python 3"
    },
    "accelerator": "GPU"
  },
  "cells": [
    {
      "cell_type": "markdown",
      "metadata": {
        "id": "view-in-github",
        "colab_type": "text"
      },
      "source": [
        "<a href=\"https://colab.research.google.com/github/Jash-Bhatia/Machine_Learning/blob/master/ML_Lab8.ipynb\" target=\"_parent\"><img src=\"https://colab.research.google.com/assets/colab-badge.svg\" alt=\"Open In Colab\"/></a>"
      ]
    },
    {
      "cell_type": "code",
      "metadata": {
        "id": "1Slx557j4_W3"
      },
      "source": [
        "from bs4 import BeautifulSoup\n",
        "import numpy as np\n",
        "import requests\n",
        "import cv2\n",
        "import PIL.Image\n",
        "import urllib\n",
        "\n",
        "\n",
        "import numpy as np\n",
        "import pandas as pd\n",
        "import matplotlib.pyplot as plt\n",
        "import os\n",
        "\n",
        "\n",
        "import keras\n",
        "from keras.models import Sequential, load_model\n",
        "from keras.layers import Dense, Flatten, Conv2D, Dropout, Activation\n",
        "from keras.optimizers import SGD\n",
        "from keras.preprocessing.image import ImageDataGenerator\n",
        "from keras.callbacks import ModelCheckpoint, EarlyStopping"
      ],
      "execution_count": 1,
      "outputs": []
    },
    {
      "cell_type": "markdown",
      "metadata": {
        "id": "Z_SFZRWTDybG"
      },
      "source": [
        "# Collecting Images from ImageNet"
      ]
    },
    {
      "cell_type": "code",
      "metadata": {
        "id": "UDXwNDe0-sMt"
      },
      "source": [
        "def url_to_image(url):\n",
        "  #Open the URL\n",
        "\twebpage = urllib.request.urlopen(url)\n",
        " \n",
        "  #Read the image from the URL\n",
        "\timage = np.asarray(bytearray(webpage.read()), dtype=\"uint8\")\n",
        "\timage = cv2.imdecode(image, cv2.IMREAD_COLOR)\n",
        " \n",
        "\treturn image"
      ],
      "execution_count": 2,
      "outputs": []
    },
    {
      "cell_type": "code",
      "metadata": {
        "id": "PnxzD9PN-6i5"
      },
      "source": [
        "def get_images(url, n_train, n_valid, n_test, path1, path2, path3):\n",
        "\n",
        "  #Getting the image links and splitting them after converting to sting\n",
        "  page = requests.get(url)\n",
        "  print(page.content)\n",
        "  soup = BeautifulSoup(page.content, 'html.parser')\n",
        "  str_soup = str(soup)\n",
        "\n",
        "  urls = str_soup.split('\\r\\n')\n",
        "  print('No. of URLs is:', len(urls))\n",
        "\n",
        "  #Saving The Train Data\n",
        "  i, count = 0, 0\n",
        "  while 1:\n",
        "    if count % 10 == 0: print('Train: ', count)\n",
        "\n",
        "    if not urls[i] == None:\n",
        "      try:\n",
        "        img = url_to_image(urls[i])\n",
        "        if (len(img.shape))==3:\n",
        "          save_path = path1+str(count)+'.jpg'\n",
        "          cv2.imwrite(save_path, img)\n",
        "          count += 1\n",
        "      except:\n",
        "        None\n",
        "    \n",
        "    i += 1\n",
        "    if count >= n_train: break\n",
        "  \n",
        "  #Saving The Valid Data\n",
        "  j, count = i, 0 \n",
        "  while 1:\n",
        "    if count % 10 == 0: print('Valid: ', count)\n",
        "\n",
        "    if not urls[j] == None:\n",
        "      try:\n",
        "        img = url_to_image(urls[j])\n",
        "        if (len(img.shape))==3:\n",
        "          save_path = path2+str(count)+'.jpg'\n",
        "          cv2.imwrite(save_path, img)\n",
        "          count += 1\n",
        "      except:\n",
        "        None\n",
        "    \n",
        "    j += 1\n",
        "    if count >= n_valid: break\n",
        "\n",
        "  #Saving The Test Data\n",
        "  k, count = j, 0 \n",
        "  while 1:\n",
        "    if count % 10 == 0: print('Test: ', count)\n",
        "\n",
        "    if not urls[k] == None:\n",
        "      try:\n",
        "        img = url_to_image(urls[k])\n",
        "        if (len(img.shape))==3:\n",
        "          save_path = path3+str(count)+'.jpg'\n",
        "          cv2.imwrite(save_path, img)\n",
        "          count += 1\n",
        "      except:\n",
        "        None\n",
        "    \n",
        "    k += 1\n",
        "    if count >= n_test: break"
      ],
      "execution_count": 3,
      "outputs": []
    },
    {
      "cell_type": "markdown",
      "metadata": {
        "id": "hjfNqsVLEP6b"
      },
      "source": [
        "Making Directories for each Classification Object"
      ]
    },
    {
      "cell_type": "code",
      "metadata": {
        "id": "a7BVq2nN-_Kl",
        "outputId": "c00ac679-46e2-46c7-af62-95d2bc518c5c",
        "colab": {
          "base_uri": "https://localhost:8080/"
        }
      },
      "source": [
        "!mkdir /content/train\n",
        "!mkdir /content/train/ind\n",
        "!mkdir /content/train/afr\n",
        "!mkdir /content/train/tusk\n",
        "\n",
        "!mkdir /content/valid\n",
        "!mkdir /content/valid/ind\n",
        "!mkdir /content/valid/afr\n",
        "!mkdir /content/valid/tusk\n",
        "\n",
        "!mkdir /content/test\n",
        "!mkdir /content/test/ind\n",
        "!mkdir /content/test/afr\n",
        "!mkdir /content/test/tusk"
      ],
      "execution_count": 2,
      "outputs": [
        {
          "output_type": "stream",
          "text": [
            "mkdir: cannot create directory ‘/content/train’: File exists\n",
            "mkdir: cannot create directory ‘/content/train/ind’: File exists\n",
            "mkdir: cannot create directory ‘/content/train/afr’: File exists\n",
            "mkdir: cannot create directory ‘/content/train/tusk’: File exists\n",
            "mkdir: cannot create directory ‘/content/valid’: File exists\n",
            "mkdir: cannot create directory ‘/content/valid/ind’: File exists\n",
            "mkdir: cannot create directory ‘/content/valid/afr’: File exists\n",
            "mkdir: cannot create directory ‘/content/valid/tusk’: File exists\n",
            "mkdir: cannot create directory ‘/content/test’: File exists\n",
            "mkdir: cannot create directory ‘/content/test/ind’: File exists\n",
            "mkdir: cannot create directory ‘/content/test/afr’: File exists\n",
            "mkdir: cannot create directory ‘/content/test/tusk’: File exists\n"
          ],
          "name": "stdout"
        }
      ]
    },
    {
      "cell_type": "markdown",
      "metadata": {
        "id": "xxXYB4fEEbgE"
      },
      "source": [
        "Saving The Indian Elephant Images"
      ]
    },
    {
      "cell_type": "code",
      "metadata": {
        "id": "iPxnod6p-_OH"
      },
      "source": [
        "ind = \"http://www.image-net.org/api/text/imagenet.synset.geturls?wnid=n02504013\"\n",
        "ind_train = '/content/train/ind/ind_train'\n",
        "ind_val = '/content/valid/ind/ind_val'\n",
        "ind_test = '/content/test/ind/ind_test'\n",
        "get_images(ind, 90, 30, 30, ind_train, ind_val, ind_test)"
      ],
      "execution_count": null,
      "outputs": []
    },
    {
      "cell_type": "markdown",
      "metadata": {
        "id": "5kWeRyZwEgV4"
      },
      "source": [
        "Saving The African Elephant Images"
      ]
    },
    {
      "cell_type": "code",
      "metadata": {
        "id": "B_x-FJxr-_Q-"
      },
      "source": [
        "afr = \"http://www.image-net.org/api/text/imagenet.synset.geturls?wnid=n02504458\"\n",
        "afr_train = '/content/train/afr/afr_train'\n",
        "afr_val = '/content/valid/afr/afr_val'\n",
        "afr_test = '/content/test/afr/afr_test'\n",
        "get_images(afr, 90, 30, 30, afr_train, afr_val, afr_test)"
      ],
      "execution_count": null,
      "outputs": []
    },
    {
      "cell_type": "markdown",
      "metadata": {
        "id": "Ccazk-HLEk_l"
      },
      "source": [
        "Saving Elephant Images with Tuskers"
      ]
    },
    {
      "cell_type": "code",
      "metadata": {
        "id": "ZirEPgF--_UN"
      },
      "source": [
        "tusk = \"http://www.image-net.org/api/text/imagenet.synset.geturls?wnid=n01871265\"\n",
        "tusk_train = '/content/train/tusk/tusk_train'\n",
        "tusk_val = '/content/valid/tusk/tusk_val'\n",
        "tusk_test = '/content/test/tusk/tusk_test'\n",
        "get_images(tusk, 90, 30, 30, tusk_train, tusk_val, tusk_test)"
      ],
      "execution_count": null,
      "outputs": []
    },
    {
      "cell_type": "markdown",
      "metadata": {
        "id": "CYoT43zPEs0A"
      },
      "source": [
        "Applying Data Augmentation using ImageDataGenerator"
      ]
    },
    {
      "cell_type": "code",
      "metadata": {
        "id": "7cXb3n7e-_XN",
        "outputId": "433df528-99b5-4796-c834-91ddaf01f63b",
        "colab": {
          "base_uri": "https://localhost:8080/"
        }
      },
      "source": [
        "train_datagen = ImageDataGenerator(rescale = 1.0/255, rotation_range = 60, vertical_flip = True, \n",
        "                                   horizontal_flip = True, width_shift_range = 0.2, height_shift_range = 0.2, \n",
        "                                   fill_mode = 'nearest', zoom_range = 0.1)\n",
        "\n",
        "val_datagen = ImageDataGenerator(rescale = 1.0/255, rotation_range = 60, vertical_flip = True, \n",
        "                                   horizontal_flip = True, width_shift_range = 0.2, height_shift_range = 0.2, \n",
        "                                   fill_mode = 'nearest', zoom_range = 0.1)\n",
        "\n",
        "test_datagen = ImageDataGenerator(rescale = 1.0/255)\n",
        "\n",
        "train = train_datagen.flow_from_directory(directory = '/content/train/', target_size = (150, 150), \n",
        "                                          class_mode = 'categorical', shuffle = True, color_mode = 'rgb', batch_size = 5)\n",
        "\n",
        "valid = val_datagen.flow_from_directory(directory = '/content/valid/', target_size = (150, 150), \n",
        "                                          class_mode = 'categorical', shuffle = True, color_mode = 'rgb', batch_size = 5)\n",
        "\n",
        "test = test_datagen.flow_from_directory(directory = '/content/test/', target_size = (150, 150), \n",
        "                                        class_mode = 'categorical', shuffle = True, color_mode = 'rgb', batch_size = 5)"
      ],
      "execution_count": 3,
      "outputs": [
        {
          "output_type": "stream",
          "text": [
            "Found 270 images belonging to 3 classes.\n",
            "Found 90 images belonging to 3 classes.\n",
            "Found 90 images belonging to 3 classes.\n"
          ],
          "name": "stdout"
        }
      ]
    },
    {
      "cell_type": "markdown",
      "metadata": {
        "id": "0etqQtfTE8pV"
      },
      "source": [
        "# Model Building and Implementation"
      ]
    },
    {
      "cell_type": "markdown",
      "metadata": {
        "id": "HjlAxVZ_FCX-"
      },
      "source": [
        "Building a CNN model"
      ]
    },
    {
      "cell_type": "code",
      "metadata": {
        "id": "1zJTbXut-_aw",
        "outputId": "a7f1ca40-3ef2-4683-b53d-c9e6d078487e",
        "colab": {
          "base_uri": "https://localhost:8080/"
        }
      },
      "source": [
        "model = Sequential()\n",
        "\n",
        "'''First Layer - 1024 Units'''\n",
        "model.add(Conv2D(270, (150,150), input_shape= (150, 150, 3), kernel_initializer=\"glorot_normal\", bias_initializer=\"glorot_normal\", \n",
        "                 activation = 'relu'))\n",
        "# model.add(Conv2D(8, kernel_size = (150, 150), activation = 'relu'))\n",
        "# padding=\"valid\", \n",
        "model.add(Flatten())\n",
        "#model.add(BatchNormalization())\n",
        "# model.add(Dropout(0.3))\n",
        "\n",
        "'''Second Layer - 512 Units'''\n",
        "model.add(Dense(units = 256, kernel_initializer=\"glorot_normal\", bias_initializer=\"glorot_normal\"))\n",
        "model.add(keras.layers.LeakyReLU(alpha = 0.01))\n",
        "#model.add(BatchNormalization())\n",
        "# model.add(Dropout(0.2))\n",
        "\n",
        "'''Third Layer - 256 Units'''\n",
        "model.add(Dense(units = 256, activation = 'relu', kernel_initializer=\"glorot_normal\", bias_initializer=\"glorot_normal\"))\n",
        "model.add(keras.layers.LeakyReLU(alpha = 0.01))\n",
        "\n",
        "'''Fourth Layer - 128 Units'''\n",
        "model.add(Dense(units = 256, activation = 'relu', kernel_initializer=\"glorot_normal\", bias_initializer=\"glorot_normal\"))\n",
        "\n",
        "'''Output Layer - 3 Units'''\n",
        "model.add(Dense(units = 3, activation = 'softmax', kernel_initializer = \"glorot_normal\", bias_initializer = \"glorot_normal\"))\n",
        "\n",
        "'''Compiling Final Model'''\n",
        "sgd = keras.optimizers.SGD(lr=0.01, momentum=0.0)\n",
        "model.compile(loss = 'categorical_crossentropy', optimizer = sgd, metrics = ['accuracy'])\n",
        "model.summary()"
      ],
      "execution_count": 4,
      "outputs": [
        {
          "output_type": "stream",
          "text": [
            "Model: \"sequential\"\n",
            "_________________________________________________________________\n",
            "Layer (type)                 Output Shape              Param #   \n",
            "=================================================================\n",
            "conv2d (Conv2D)              (None, 1, 1, 270)         18225270  \n",
            "_________________________________________________________________\n",
            "flatten (Flatten)            (None, 270)               0         \n",
            "_________________________________________________________________\n",
            "dense (Dense)                (None, 256)               69376     \n",
            "_________________________________________________________________\n",
            "leaky_re_lu (LeakyReLU)      (None, 256)               0         \n",
            "_________________________________________________________________\n",
            "dense_1 (Dense)              (None, 256)               65792     \n",
            "_________________________________________________________________\n",
            "leaky_re_lu_1 (LeakyReLU)    (None, 256)               0         \n",
            "_________________________________________________________________\n",
            "dense_2 (Dense)              (None, 256)               65792     \n",
            "_________________________________________________________________\n",
            "dense_3 (Dense)              (None, 3)                 771       \n",
            "=================================================================\n",
            "Total params: 18,427,001\n",
            "Trainable params: 18,427,001\n",
            "Non-trainable params: 0\n",
            "_________________________________________________________________\n"
          ],
          "name": "stdout"
        }
      ]
    },
    {
      "cell_type": "code",
      "metadata": {
        "id": "IB32gh1t-_fd",
        "outputId": "0a3b614c-5e77-4f26-8d14-2bb15d214f31",
        "colab": {
          "base_uri": "https://localhost:8080/"
        }
      },
      "source": [
        "filepath = \"weights-best.hdf5\"\n",
        "\n",
        "checkpoint = ModelCheckpoint(filepath, monitor = 'val_accuracy', verbose = 1, save_best_only = True, mode = 'max')\n",
        "es = EarlyStopping(monitor = 'val_loss', mode = 'min', verbose = 1, patience = 20, min_delta = 0.25, baseline=0.9)\n",
        "# reduce_lr = ReduceLROnPlateau(monitor='val_loss', mode='min', patience=2, factor=0.1, min_lr=0.00001)\n",
        "\n",
        "history = model.fit(train, epochs=100, callbacks=[checkpoint, es], steps_per_epoch = 54, validation_data = valid)"
      ],
      "execution_count": 5,
      "outputs": [
        {
          "output_type": "stream",
          "text": [
            "Epoch 1/100\n",
            "54/54 [==============================] - ETA: 0s - loss: 1.2237 - accuracy: 0.3407\n",
            "Epoch 00001: val_accuracy improved from -inf to 0.35556, saving model to weights-best.hdf5\n",
            "54/54 [==============================] - 4s 74ms/step - loss: 1.2237 - accuracy: 0.3407 - val_loss: 1.1027 - val_accuracy: 0.3556\n",
            "Epoch 2/100\n",
            "54/54 [==============================] - ETA: 0s - loss: 1.1342 - accuracy: 0.3296\n",
            "Epoch 00002: val_accuracy did not improve from 0.35556\n",
            "54/54 [==============================] - 4s 73ms/step - loss: 1.1342 - accuracy: 0.3296 - val_loss: 1.0894 - val_accuracy: 0.3556\n",
            "Epoch 3/100\n",
            "54/54 [==============================] - ETA: 0s - loss: 1.1079 - accuracy: 0.3667\n",
            "Epoch 00003: val_accuracy did not improve from 0.35556\n",
            "54/54 [==============================] - 4s 70ms/step - loss: 1.1079 - accuracy: 0.3667 - val_loss: 1.1144 - val_accuracy: 0.3333\n",
            "Epoch 4/100\n",
            "54/54 [==============================] - ETA: 0s - loss: 1.1137 - accuracy: 0.3259\n",
            "Epoch 00004: val_accuracy did not improve from 0.35556\n",
            "54/54 [==============================] - 4s 70ms/step - loss: 1.1137 - accuracy: 0.3259 - val_loss: 1.4679 - val_accuracy: 0.3333\n",
            "Epoch 5/100\n",
            "54/54 [==============================] - ETA: 0s - loss: 1.1348 - accuracy: 0.3222\n",
            "Epoch 00005: val_accuracy did not improve from 0.35556\n",
            "54/54 [==============================] - 4s 72ms/step - loss: 1.1348 - accuracy: 0.3222 - val_loss: 1.1047 - val_accuracy: 0.3333\n",
            "Epoch 6/100\n",
            "54/54 [==============================] - ETA: 0s - loss: 1.0933 - accuracy: 0.3481\n",
            "Epoch 00006: val_accuracy improved from 0.35556 to 0.41111, saving model to weights-best.hdf5\n",
            "54/54 [==============================] - 4s 72ms/step - loss: 1.0933 - accuracy: 0.3481 - val_loss: 1.0813 - val_accuracy: 0.4111\n",
            "Epoch 7/100\n",
            "54/54 [==============================] - ETA: 0s - loss: 1.1199 - accuracy: 0.3111\n",
            "Epoch 00007: val_accuracy did not improve from 0.41111\n",
            "54/54 [==============================] - 4s 72ms/step - loss: 1.1199 - accuracy: 0.3111 - val_loss: 1.0923 - val_accuracy: 0.3444\n",
            "Epoch 8/100\n",
            "54/54 [==============================] - ETA: 0s - loss: 1.1124 - accuracy: 0.3370\n",
            "Epoch 00008: val_accuracy did not improve from 0.41111\n",
            "54/54 [==============================] - 4s 71ms/step - loss: 1.1124 - accuracy: 0.3370 - val_loss: 1.1096 - val_accuracy: 0.3667\n",
            "Epoch 9/100\n",
            "54/54 [==============================] - ETA: 0s - loss: 1.1049 - accuracy: 0.3889\n",
            "Epoch 00009: val_accuracy did not improve from 0.41111\n",
            "54/54 [==============================] - 4s 71ms/step - loss: 1.1049 - accuracy: 0.3889 - val_loss: 1.1056 - val_accuracy: 0.3333\n",
            "Epoch 10/100\n",
            "54/54 [==============================] - ETA: 0s - loss: 1.0987 - accuracy: 0.3296\n",
            "Epoch 00010: val_accuracy did not improve from 0.41111\n",
            "54/54 [==============================] - 4s 70ms/step - loss: 1.0987 - accuracy: 0.3296 - val_loss: 1.0859 - val_accuracy: 0.3667\n",
            "Epoch 11/100\n",
            "54/54 [==============================] - ETA: 0s - loss: 1.0980 - accuracy: 0.3185\n",
            "Epoch 00011: val_accuracy did not improve from 0.41111\n",
            "54/54 [==============================] - 4s 69ms/step - loss: 1.0980 - accuracy: 0.3185 - val_loss: 1.0938 - val_accuracy: 0.3556\n",
            "Epoch 12/100\n",
            "54/54 [==============================] - ETA: 0s - loss: 1.1019 - accuracy: 0.3037\n",
            "Epoch 00012: val_accuracy did not improve from 0.41111\n",
            "54/54 [==============================] - 4s 69ms/step - loss: 1.1019 - accuracy: 0.3037 - val_loss: 1.0931 - val_accuracy: 0.3556\n",
            "Epoch 13/100\n",
            "54/54 [==============================] - ETA: 0s - loss: 1.0888 - accuracy: 0.3630\n",
            "Epoch 00013: val_accuracy did not improve from 0.41111\n",
            "54/54 [==============================] - 4s 70ms/step - loss: 1.0888 - accuracy: 0.3630 - val_loss: 1.0879 - val_accuracy: 0.3222\n",
            "Epoch 14/100\n",
            "54/54 [==============================] - ETA: 0s - loss: 1.0978 - accuracy: 0.3519\n",
            "Epoch 00014: val_accuracy did not improve from 0.41111\n",
            "54/54 [==============================] - 4s 70ms/step - loss: 1.0978 - accuracy: 0.3519 - val_loss: 1.0780 - val_accuracy: 0.4000\n",
            "Epoch 15/100\n",
            "54/54 [==============================] - ETA: 0s - loss: 1.0904 - accuracy: 0.3444\n",
            "Epoch 00015: val_accuracy did not improve from 0.41111\n",
            "54/54 [==============================] - 4s 71ms/step - loss: 1.0904 - accuracy: 0.3444 - val_loss: 1.0714 - val_accuracy: 0.3889\n",
            "Epoch 16/100\n",
            "54/54 [==============================] - ETA: 0s - loss: 1.0797 - accuracy: 0.3667\n",
            "Epoch 00016: val_accuracy did not improve from 0.41111\n",
            "54/54 [==============================] - 4s 68ms/step - loss: 1.0797 - accuracy: 0.3667 - val_loss: 1.1296 - val_accuracy: 0.3556\n",
            "Epoch 17/100\n",
            "54/54 [==============================] - ETA: 0s - loss: 1.0994 - accuracy: 0.3889\n",
            "Epoch 00017: val_accuracy did not improve from 0.41111\n",
            "54/54 [==============================] - 4s 70ms/step - loss: 1.0994 - accuracy: 0.3889 - val_loss: 1.0936 - val_accuracy: 0.3667\n",
            "Epoch 18/100\n",
            "54/54 [==============================] - ETA: 0s - loss: 1.0943 - accuracy: 0.3222\n",
            "Epoch 00018: val_accuracy did not improve from 0.41111\n",
            "54/54 [==============================] - 4s 71ms/step - loss: 1.0943 - accuracy: 0.3222 - val_loss: 1.0684 - val_accuracy: 0.3889\n",
            "Epoch 19/100\n",
            "54/54 [==============================] - ETA: 0s - loss: 1.0925 - accuracy: 0.3852\n",
            "Epoch 00019: val_accuracy did not improve from 0.41111\n",
            "54/54 [==============================] - 4s 70ms/step - loss: 1.0925 - accuracy: 0.3852 - val_loss: 1.0842 - val_accuracy: 0.3889\n",
            "Epoch 20/100\n",
            "54/54 [==============================] - ETA: 0s - loss: 1.0993 - accuracy: 0.3407\n",
            "Epoch 00020: val_accuracy did not improve from 0.41111\n",
            "54/54 [==============================] - 4s 71ms/step - loss: 1.0993 - accuracy: 0.3407 - val_loss: 1.0872 - val_accuracy: 0.3222\n",
            "Epoch 00020: early stopping\n"
          ],
          "name": "stdout"
        }
      ]
    },
    {
      "cell_type": "markdown",
      "metadata": {
        "id": "eZv3uECWFGyU"
      },
      "source": [
        "Plotting the results"
      ]
    },
    {
      "cell_type": "code",
      "metadata": {
        "id": "FjlT0EXa-_in",
        "outputId": "c3f48c6d-61e8-4ea4-9d0f-8dd9a42b621e",
        "colab": {
          "base_uri": "https://localhost:8080/",
          "height": 917
        }
      },
      "source": [
        "plt.figure(figsize = (10,7))\n",
        "plt.plot(history.history['accuracy'], color = 'blue')\n",
        "plt.plot(history.history['val_accuracy'], color = 'red')\n",
        "plt.title('Model accuracy')\n",
        "plt.ylabel('Accuracy')\n",
        "plt.xlabel('Epoch')\n",
        "plt.legend(['Train', 'Validation'], loc='upper left')\n",
        "plt.show()\n",
        "  \n",
        "plt.figure(figsize = (10,7))\n",
        "plt.plot(history.history['loss'], color = 'blue')\n",
        "plt.plot(history.history['val_loss'], color = 'red')\n",
        "#plt.ylim((0,1))\n",
        "plt.title('Model loss')\n",
        "plt.ylabel('Loss')\n",
        "plt.xlabel('Epoch')\n",
        "plt.legend(['Train', 'Validation'], loc='upper left')"
      ],
      "execution_count": 6,
      "outputs": [
        {
          "output_type": "display_data",
          "data": {
            "image/png": "[encoded data removed]",
            "text/plain": [
              "<Figure size 720x504 with 1 Axes>"
            ]
          },
          "metadata": {
            "tags": [],
            "needs_background": "light"
          }
        },
        {
          "output_type": "execute_result",
          "data": {
            "text/plain": [
              "<matplotlib.legend.Legend at 0x7f4b70159b38>"
            ]
          },
          "metadata": {
            "tags": []
          },
          "execution_count": 6
        },
        {
          "output_type": "display_data",
          "data": {
            "image/png": "[encoded data removed]",
            "text/plain": [
              "<Figure size 720x504 with 1 Axes>"
            ]
          },
          "metadata": {
            "tags": [],
            "needs_background": "light"
          }
        }
      ]
    },
    {
      "cell_type": "markdown",
      "metadata": {
        "id": "6Fae28V8FKNi"
      },
      "source": [
        "Implementing best model"
      ]
    },
    {
      "cell_type": "code",
      "metadata": {
        "id": "BhkRBHsU-_ls",
        "outputId": "f7a06c11-24d6-4689-9d2f-e78fc7ddedfc",
        "colab": {
          "base_uri": "https://localhost:8080/"
        }
      },
      "source": [
        "best = load_model('weights-best.hdf5')\n",
        "best.evaluate(test)[1]"
      ],
      "execution_count": 7,
      "outputs": [
        {
          "output_type": "stream",
          "text": [
            "18/18 [==============================] - 0s 27ms/step - loss: 1.1034 - accuracy: 0.3778\n"
          ],
          "name": "stdout"
        },
        {
          "output_type": "execute_result",
          "data": {
            "text/plain": [
              "0.3777777850627899"
            ]
          },
          "metadata": {
            "tags": []
          },
          "execution_count": 7
        }
      ]
    },
    {
      "cell_type": "code",
      "metadata": {
        "id": "pP6DwwmF-_dj"
      },
      "source": [
        ""
      ],
      "execution_count": null,
      "outputs": []
    }
  ]
}