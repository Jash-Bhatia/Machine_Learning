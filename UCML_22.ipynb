{
  "nbformat": 4,
  "nbformat_minor": 0,
  "metadata": {
    "colab": {
      "name": "UCML_22.ipynb",
      "provenance": [],
      "collapsed_sections": [
        "0mVfSaZcdkx6"
      ],
      "authorship_tag": "ABX9TyOrgwWIPHwdgx/3tnv3Rwos",
      "include_colab_link": true
    },
    "kernelspec": {
      "name": "python3",
      "display_name": "Python 3"
    }
  },
  "cells": [
    {
      "cell_type": "markdown",
      "metadata": {
        "id": "view-in-github",
        "colab_type": "text"
      },
      "source": [
        "<a href=\"https://colab.research.google.com/github/Jash-Bhatia/Machine_Learning/blob/master/UCML_22.ipynb\" target=\"_parent\"><img src=\"https://colab.research.google.com/assets/colab-badge.svg\" alt=\"Open In Colab\"/></a>"
      ]
    },
    {
      "cell_type": "code",
      "metadata": {
        "id": "JobayEFZ-z_7"
      },
      "source": [
        "import pandas as pd\n",
        "import numpy as np\n",
        "import matplotlib.pyplot as plt\n",
        "\n",
        "from sklearn.decomposition import PCA"
      ],
      "execution_count": 1,
      "outputs": []
    },
    {
      "cell_type": "code",
      "metadata": {
        "id": "LRzJVarpUnWG",
        "outputId": "705a8031-1b38-4bbe-c65e-4db5b6b57690",
        "colab": {
          "base_uri": "https://localhost:8080/"
        }
      },
      "source": [
        "x_train = pd.read_csv('/content/arcene_train_data.csv', header = None)\n",
        "y_train = pd.read_csv('/content/arcene_train_labels.csv', header=None)\n",
        "x_val = pd.read_csv('/content/arcene_valid.csv', header = None)\n",
        "y_val = pd.read_csv('/content/arcene_valid_labels.csv', header = None)\n",
        "x_test = pd.read_csv('/content/arcene_test_data.csv', header = None)\n",
        "\n",
        "print(x_train.shape)\n",
        "print(y_train.shape)\n",
        "print(x_val.shape)\n",
        "print(y_val.shape)\n",
        "print(x_test.shape)"
      ],
      "execution_count": 2,
      "outputs": [
        {
          "output_type": "stream",
          "text": [
            "(100, 10000)\n",
            "(100, 1)\n",
            "(100, 10000)\n",
            "(100, 1)\n",
            "(700, 10000)\n"
          ],
          "name": "stdout"
        }
      ]
    },
    {
      "cell_type": "code",
      "metadata": {
        "id": "vmtciNLCP25u"
      },
      "source": [
        "y_train.replace(-1,0, inplace=True)\n",
        "y_val.replace(-1,0,inplace=True)"
      ],
      "execution_count": 3,
      "outputs": []
    },
    {
      "cell_type": "code",
      "metadata": {
        "id": "BsJV76H-Vum3",
        "outputId": "da1a4073-0ebb-424e-c5a0-2e9e68b428b0",
        "colab": {
          "base_uri": "https://localhost:8080/",
          "height": 247
        }
      },
      "source": [
        "x_train.head()"
      ],
      "execution_count": 4,
      "outputs": [
        {
          "output_type": "execute_result",
          "data": {
            "text/html": [
              "<div>\n",
              "<style scoped>\n",
              "    .dataframe tbody tr th:only-of-type {\n",
              "        vertical-align: middle;\n",
              "    }\n",
              "\n",
              "    .dataframe tbody tr th {\n",
              "        vertical-align: top;\n",
              "    }\n",
              "\n",
              "    .dataframe thead th {\n",
              "        text-align: right;\n",
              "    }\n",
              "</style>\n",
              "<table border=\"1\" class=\"dataframe\">\n",
              "  <thead>\n",
              "    <tr style=\"text-align: right;\">\n",
              "      <th></th>\n",
              "      <th>0</th>\n",
              "      <th>1</th>\n",
              "      <th>2</th>\n",
              "      <th>3</th>\n",
              "      <th>4</th>\n",
              "      <th>5</th>\n",
              "      <th>6</th>\n",
              "      <th>7</th>\n",
              "      <th>8</th>\n",
              "      <th>9</th>\n",
              "      <th>10</th>\n",
              "      <th>11</th>\n",
              "      <th>12</th>\n",
              "      <th>13</th>\n",
              "      <th>14</th>\n",
              "      <th>15</th>\n",
              "      <th>16</th>\n",
              "      <th>17</th>\n",
              "      <th>18</th>\n",
              "      <th>19</th>\n",
              "      <th>20</th>\n",
              "      <th>21</th>\n",
              "      <th>22</th>\n",
              "      <th>23</th>\n",
              "      <th>24</th>\n",
              "      <th>25</th>\n",
              "      <th>26</th>\n",
              "      <th>27</th>\n",
              "      <th>28</th>\n",
              "      <th>29</th>\n",
              "      <th>30</th>\n",
              "      <th>31</th>\n",
              "      <th>32</th>\n",
              "      <th>33</th>\n",
              "      <th>34</th>\n",
              "      <th>35</th>\n",
              "      <th>36</th>\n",
              "      <th>37</th>\n",
              "      <th>38</th>\n",
              "      <th>39</th>\n",
              "      <th>...</th>\n",
              "      <th>9960</th>\n",
              "      <th>9961</th>\n",
              "      <th>9962</th>\n",
              "      <th>9963</th>\n",
              "      <th>9964</th>\n",
              "      <th>9965</th>\n",
              "      <th>9966</th>\n",
              "      <th>9967</th>\n",
              "      <th>9968</th>\n",
              "      <th>9969</th>\n",
              "      <th>9970</th>\n",
              "      <th>9971</th>\n",
              "      <th>9972</th>\n",
              "      <th>9973</th>\n",
              "      <th>9974</th>\n",
              "      <th>9975</th>\n",
              "      <th>9976</th>\n",
              "      <th>9977</th>\n",
              "      <th>9978</th>\n",
              "      <th>9979</th>\n",
              "      <th>9980</th>\n",
              "      <th>9981</th>\n",
              "      <th>9982</th>\n",
              "      <th>9983</th>\n",
              "      <th>9984</th>\n",
              "      <th>9985</th>\n",
              "      <th>9986</th>\n",
              "      <th>9987</th>\n",
              "      <th>9988</th>\n",
              "      <th>9989</th>\n",
              "      <th>9990</th>\n",
              "      <th>9991</th>\n",
              "      <th>9992</th>\n",
              "      <th>9993</th>\n",
              "      <th>9994</th>\n",
              "      <th>9995</th>\n",
              "      <th>9996</th>\n",
              "      <th>9997</th>\n",
              "      <th>9998</th>\n",
              "      <th>9999</th>\n",
              "    </tr>\n",
              "  </thead>\n",
              "  <tbody>\n",
              "    <tr>\n",
              "      <th>0</th>\n",
              "      <td>0</td>\n",
              "      <td>71</td>\n",
              "      <td>0</td>\n",
              "      <td>95</td>\n",
              "      <td>0</td>\n",
              "      <td>538</td>\n",
              "      <td>404</td>\n",
              "      <td>20</td>\n",
              "      <td>0</td>\n",
              "      <td>0</td>\n",
              "      <td>0</td>\n",
              "      <td>0</td>\n",
              "      <td>17</td>\n",
              "      <td>0</td>\n",
              "      <td>239</td>\n",
              "      <td>0</td>\n",
              "      <td>0</td>\n",
              "      <td>0</td>\n",
              "      <td>0</td>\n",
              "      <td>0</td>\n",
              "      <td>0</td>\n",
              "      <td>0</td>\n",
              "      <td>30</td>\n",
              "      <td>0</td>\n",
              "      <td>89</td>\n",
              "      <td>262</td>\n",
              "      <td>0</td>\n",
              "      <td>147</td>\n",
              "      <td>389</td>\n",
              "      <td>0</td>\n",
              "      <td>0</td>\n",
              "      <td>103</td>\n",
              "      <td>19</td>\n",
              "      <td>9</td>\n",
              "      <td>2</td>\n",
              "      <td>0</td>\n",
              "      <td>0</td>\n",
              "      <td>0</td>\n",
              "      <td>0</td>\n",
              "      <td>0</td>\n",
              "      <td>...</td>\n",
              "      <td>0</td>\n",
              "      <td>291</td>\n",
              "      <td>0</td>\n",
              "      <td>0</td>\n",
              "      <td>19</td>\n",
              "      <td>0</td>\n",
              "      <td>162</td>\n",
              "      <td>54</td>\n",
              "      <td>23</td>\n",
              "      <td>0</td>\n",
              "      <td>0</td>\n",
              "      <td>0</td>\n",
              "      <td>378</td>\n",
              "      <td>0</td>\n",
              "      <td>0</td>\n",
              "      <td>0</td>\n",
              "      <td>0</td>\n",
              "      <td>0</td>\n",
              "      <td>52</td>\n",
              "      <td>0</td>\n",
              "      <td>294</td>\n",
              "      <td>168</td>\n",
              "      <td>0</td>\n",
              "      <td>0</td>\n",
              "      <td>0</td>\n",
              "      <td>222</td>\n",
              "      <td>0</td>\n",
              "      <td>0</td>\n",
              "      <td>0</td>\n",
              "      <td>0</td>\n",
              "      <td>255</td>\n",
              "      <td>570</td>\n",
              "      <td>86</td>\n",
              "      <td>0</td>\n",
              "      <td>36</td>\n",
              "      <td>0</td>\n",
              "      <td>80</td>\n",
              "      <td>0</td>\n",
              "      <td>0</td>\n",
              "      <td>524</td>\n",
              "    </tr>\n",
              "    <tr>\n",
              "      <th>1</th>\n",
              "      <td>0</td>\n",
              "      <td>41</td>\n",
              "      <td>82</td>\n",
              "      <td>165</td>\n",
              "      <td>60</td>\n",
              "      <td>554</td>\n",
              "      <td>379</td>\n",
              "      <td>0</td>\n",
              "      <td>71</td>\n",
              "      <td>0</td>\n",
              "      <td>0</td>\n",
              "      <td>0</td>\n",
              "      <td>0</td>\n",
              "      <td>34</td>\n",
              "      <td>364</td>\n",
              "      <td>0</td>\n",
              "      <td>0</td>\n",
              "      <td>0</td>\n",
              "      <td>1</td>\n",
              "      <td>7</td>\n",
              "      <td>0</td>\n",
              "      <td>0</td>\n",
              "      <td>0</td>\n",
              "      <td>0</td>\n",
              "      <td>110</td>\n",
              "      <td>263</td>\n",
              "      <td>0</td>\n",
              "      <td>180</td>\n",
              "      <td>564</td>\n",
              "      <td>0</td>\n",
              "      <td>0</td>\n",
              "      <td>139</td>\n",
              "      <td>0</td>\n",
              "      <td>45</td>\n",
              "      <td>0</td>\n",
              "      <td>0</td>\n",
              "      <td>0</td>\n",
              "      <td>0</td>\n",
              "      <td>11</td>\n",
              "      <td>0</td>\n",
              "      <td>...</td>\n",
              "      <td>0</td>\n",
              "      <td>267</td>\n",
              "      <td>0</td>\n",
              "      <td>69</td>\n",
              "      <td>0</td>\n",
              "      <td>32</td>\n",
              "      <td>19</td>\n",
              "      <td>96</td>\n",
              "      <td>4</td>\n",
              "      <td>35</td>\n",
              "      <td>0</td>\n",
              "      <td>0</td>\n",
              "      <td>411</td>\n",
              "      <td>0</td>\n",
              "      <td>0</td>\n",
              "      <td>0</td>\n",
              "      <td>0</td>\n",
              "      <td>0</td>\n",
              "      <td>105</td>\n",
              "      <td>19</td>\n",
              "      <td>320</td>\n",
              "      <td>213</td>\n",
              "      <td>0</td>\n",
              "      <td>0</td>\n",
              "      <td>66</td>\n",
              "      <td>243</td>\n",
              "      <td>0</td>\n",
              "      <td>63</td>\n",
              "      <td>63</td>\n",
              "      <td>30</td>\n",
              "      <td>213</td>\n",
              "      <td>605</td>\n",
              "      <td>69</td>\n",
              "      <td>7</td>\n",
              "      <td>473</td>\n",
              "      <td>0</td>\n",
              "      <td>57</td>\n",
              "      <td>0</td>\n",
              "      <td>284</td>\n",
              "      <td>423</td>\n",
              "    </tr>\n",
              "    <tr>\n",
              "      <th>2</th>\n",
              "      <td>0</td>\n",
              "      <td>0</td>\n",
              "      <td>1</td>\n",
              "      <td>40</td>\n",
              "      <td>0</td>\n",
              "      <td>451</td>\n",
              "      <td>402</td>\n",
              "      <td>0</td>\n",
              "      <td>0</td>\n",
              "      <td>0</td>\n",
              "      <td>0</td>\n",
              "      <td>0</td>\n",
              "      <td>15</td>\n",
              "      <td>0</td>\n",
              "      <td>269</td>\n",
              "      <td>0</td>\n",
              "      <td>0</td>\n",
              "      <td>0</td>\n",
              "      <td>0</td>\n",
              "      <td>0</td>\n",
              "      <td>0</td>\n",
              "      <td>0</td>\n",
              "      <td>14</td>\n",
              "      <td>0</td>\n",
              "      <td>121</td>\n",
              "      <td>278</td>\n",
              "      <td>0</td>\n",
              "      <td>198</td>\n",
              "      <td>494</td>\n",
              "      <td>0</td>\n",
              "      <td>0</td>\n",
              "      <td>103</td>\n",
              "      <td>3</td>\n",
              "      <td>8</td>\n",
              "      <td>0</td>\n",
              "      <td>0</td>\n",
              "      <td>0</td>\n",
              "      <td>0</td>\n",
              "      <td>0</td>\n",
              "      <td>0</td>\n",
              "      <td>...</td>\n",
              "      <td>0</td>\n",
              "      <td>313</td>\n",
              "      <td>0</td>\n",
              "      <td>0</td>\n",
              "      <td>1</td>\n",
              "      <td>5</td>\n",
              "      <td>0</td>\n",
              "      <td>23</td>\n",
              "      <td>0</td>\n",
              "      <td>0</td>\n",
              "      <td>0</td>\n",
              "      <td>0</td>\n",
              "      <td>409</td>\n",
              "      <td>0</td>\n",
              "      <td>0</td>\n",
              "      <td>0</td>\n",
              "      <td>0</td>\n",
              "      <td>0</td>\n",
              "      <td>68</td>\n",
              "      <td>0</td>\n",
              "      <td>342</td>\n",
              "      <td>157</td>\n",
              "      <td>0</td>\n",
              "      <td>0</td>\n",
              "      <td>13</td>\n",
              "      <td>245</td>\n",
              "      <td>0</td>\n",
              "      <td>14</td>\n",
              "      <td>1</td>\n",
              "      <td>0</td>\n",
              "      <td>235</td>\n",
              "      <td>593</td>\n",
              "      <td>28</td>\n",
              "      <td>0</td>\n",
              "      <td>24</td>\n",
              "      <td>0</td>\n",
              "      <td>90</td>\n",
              "      <td>0</td>\n",
              "      <td>34</td>\n",
              "      <td>508</td>\n",
              "    </tr>\n",
              "    <tr>\n",
              "      <th>3</th>\n",
              "      <td>0</td>\n",
              "      <td>56</td>\n",
              "      <td>44</td>\n",
              "      <td>275</td>\n",
              "      <td>14</td>\n",
              "      <td>511</td>\n",
              "      <td>470</td>\n",
              "      <td>0</td>\n",
              "      <td>0</td>\n",
              "      <td>0</td>\n",
              "      <td>0</td>\n",
              "      <td>0</td>\n",
              "      <td>0</td>\n",
              "      <td>69</td>\n",
              "      <td>270</td>\n",
              "      <td>0</td>\n",
              "      <td>0</td>\n",
              "      <td>0</td>\n",
              "      <td>55</td>\n",
              "      <td>0</td>\n",
              "      <td>0</td>\n",
              "      <td>0</td>\n",
              "      <td>34</td>\n",
              "      <td>0</td>\n",
              "      <td>221</td>\n",
              "      <td>259</td>\n",
              "      <td>0</td>\n",
              "      <td>134</td>\n",
              "      <td>435</td>\n",
              "      <td>0</td>\n",
              "      <td>0</td>\n",
              "      <td>66</td>\n",
              "      <td>28</td>\n",
              "      <td>0</td>\n",
              "      <td>30</td>\n",
              "      <td>0</td>\n",
              "      <td>0</td>\n",
              "      <td>0</td>\n",
              "      <td>13</td>\n",
              "      <td>0</td>\n",
              "      <td>...</td>\n",
              "      <td>0</td>\n",
              "      <td>230</td>\n",
              "      <td>0</td>\n",
              "      <td>0</td>\n",
              "      <td>0</td>\n",
              "      <td>24</td>\n",
              "      <td>54</td>\n",
              "      <td>12</td>\n",
              "      <td>0</td>\n",
              "      <td>0</td>\n",
              "      <td>0</td>\n",
              "      <td>0</td>\n",
              "      <td>357</td>\n",
              "      <td>0</td>\n",
              "      <td>0</td>\n",
              "      <td>0</td>\n",
              "      <td>0</td>\n",
              "      <td>0</td>\n",
              "      <td>58</td>\n",
              "      <td>0</td>\n",
              "      <td>346</td>\n",
              "      <td>146</td>\n",
              "      <td>0</td>\n",
              "      <td>0</td>\n",
              "      <td>0</td>\n",
              "      <td>237</td>\n",
              "      <td>0</td>\n",
              "      <td>26</td>\n",
              "      <td>26</td>\n",
              "      <td>18</td>\n",
              "      <td>91</td>\n",
              "      <td>600</td>\n",
              "      <td>0</td>\n",
              "      <td>26</td>\n",
              "      <td>86</td>\n",
              "      <td>0</td>\n",
              "      <td>102</td>\n",
              "      <td>0</td>\n",
              "      <td>0</td>\n",
              "      <td>469</td>\n",
              "    </tr>\n",
              "    <tr>\n",
              "      <th>4</th>\n",
              "      <td>105</td>\n",
              "      <td>0</td>\n",
              "      <td>141</td>\n",
              "      <td>348</td>\n",
              "      <td>0</td>\n",
              "      <td>268</td>\n",
              "      <td>329</td>\n",
              "      <td>0</td>\n",
              "      <td>0</td>\n",
              "      <td>1</td>\n",
              "      <td>0</td>\n",
              "      <td>0</td>\n",
              "      <td>23</td>\n",
              "      <td>0</td>\n",
              "      <td>312</td>\n",
              "      <td>17</td>\n",
              "      <td>0</td>\n",
              "      <td>0</td>\n",
              "      <td>322</td>\n",
              "      <td>0</td>\n",
              "      <td>0</td>\n",
              "      <td>0</td>\n",
              "      <td>0</td>\n",
              "      <td>2</td>\n",
              "      <td>265</td>\n",
              "      <td>128</td>\n",
              "      <td>0</td>\n",
              "      <td>86</td>\n",
              "      <td>428</td>\n",
              "      <td>60</td>\n",
              "      <td>0</td>\n",
              "      <td>200</td>\n",
              "      <td>0</td>\n",
              "      <td>34</td>\n",
              "      <td>0</td>\n",
              "      <td>0</td>\n",
              "      <td>0</td>\n",
              "      <td>4</td>\n",
              "      <td>0</td>\n",
              "      <td>0</td>\n",
              "      <td>...</td>\n",
              "      <td>0</td>\n",
              "      <td>117</td>\n",
              "      <td>0</td>\n",
              "      <td>96</td>\n",
              "      <td>67</td>\n",
              "      <td>0</td>\n",
              "      <td>0</td>\n",
              "      <td>83</td>\n",
              "      <td>0</td>\n",
              "      <td>0</td>\n",
              "      <td>14</td>\n",
              "      <td>0</td>\n",
              "      <td>256</td>\n",
              "      <td>0</td>\n",
              "      <td>79</td>\n",
              "      <td>93</td>\n",
              "      <td>0</td>\n",
              "      <td>0</td>\n",
              "      <td>29</td>\n",
              "      <td>0</td>\n",
              "      <td>71</td>\n",
              "      <td>126</td>\n",
              "      <td>0</td>\n",
              "      <td>0</td>\n",
              "      <td>240</td>\n",
              "      <td>134</td>\n",
              "      <td>140</td>\n",
              "      <td>1</td>\n",
              "      <td>0</td>\n",
              "      <td>0</td>\n",
              "      <td>813</td>\n",
              "      <td>0</td>\n",
              "      <td>0</td>\n",
              "      <td>0</td>\n",
              "      <td>0</td>\n",
              "      <td>190</td>\n",
              "      <td>301</td>\n",
              "      <td>0</td>\n",
              "      <td>0</td>\n",
              "      <td>354</td>\n",
              "    </tr>\n",
              "  </tbody>\n",
              "</table>\n",
              "<p>5 rows × 10000 columns</p>\n",
              "</div>"
            ],
            "text/plain": [
              "   0     1     2     3     4     5     ...  9994  9995  9996  9997  9998  9999\n",
              "0     0    71     0    95     0   538  ...    36     0    80     0     0   524\n",
              "1     0    41    82   165    60   554  ...   473     0    57     0   284   423\n",
              "2     0     0     1    40     0   451  ...    24     0    90     0    34   508\n",
              "3     0    56    44   275    14   511  ...    86     0   102     0     0   469\n",
              "4   105     0   141   348     0   268  ...     0   190   301     0     0   354\n",
              "\n",
              "[5 rows x 10000 columns]"
            ]
          },
          "metadata": {
            "tags": []
          },
          "execution_count": 4
        }
      ]
    },
    {
      "cell_type": "code",
      "metadata": {
        "id": "bisdiJvjeIa6",
        "outputId": "1879e696-ea90-4609-eed8-009a58683fdb",
        "colab": {
          "base_uri": "https://localhost:8080/"
        }
      },
      "source": [
        "y_train= np.array(y_train).reshape(len(y_train),)\n",
        "y_val= np.array(y_val).reshape(len(y_val),)\n",
        "y_train"
      ],
      "execution_count": 5,
      "outputs": [
        {
          "output_type": "execute_result",
          "data": {
            "text/plain": [
              "array([1, 0, 1, 1, 0, 0, 1, 0, 0, 0, 0, 1, 0, 1, 0, 1, 0, 0, 0, 0, 0, 0,\n",
              "       0, 1, 0, 0, 1, 0, 1, 0, 1, 1, 1, 0, 0, 1, 0, 0, 1, 0, 1, 0, 0, 1,\n",
              "       0, 0, 0, 0, 1, 1, 0, 1, 0, 0, 1, 0, 1, 1, 1, 0, 1, 1, 0, 1, 0, 0,\n",
              "       0, 0, 1, 1, 0, 1, 0, 0, 1, 0, 0, 1, 0, 1, 1, 1, 0, 1, 1, 0, 1, 1,\n",
              "       0, 0, 1, 0, 1, 1, 0, 0, 0, 1, 0, 1])"
            ]
          },
          "metadata": {
            "tags": []
          },
          "execution_count": 5
        }
      ]
    },
    {
      "cell_type": "markdown",
      "metadata": {
        "id": "nVvByG5CW6LK"
      },
      "source": [
        "# PCA "
      ]
    },
    {
      "cell_type": "code",
      "metadata": {
        "id": "Gl0HtDw4WWds",
        "outputId": "680e5f8f-ef1c-4d81-e716-fc45b7edb389",
        "colab": {
          "base_uri": "https://localhost:8080/"
        }
      },
      "source": [
        "pca1 = PCA(30)\n",
        "pca1.fit(x_train)"
      ],
      "execution_count": 6,
      "outputs": [
        {
          "output_type": "execute_result",
          "data": {
            "text/plain": [
              "PCA(copy=True, iterated_power='auto', n_components=30, random_state=None,\n",
              "    svd_solver='auto', tol=0.0, whiten=False)"
            ]
          },
          "metadata": {
            "tags": []
          },
          "execution_count": 6
        }
      ]
    },
    {
      "cell_type": "code",
      "metadata": {
        "id": "uSRcakXzXLWG",
        "outputId": "4f2f366b-075d-43a7-d601-9a27ed2e1b39",
        "colab": {
          "base_uri": "https://localhost:8080/"
        }
      },
      "source": [
        "print(pca1.components_.shape)"
      ],
      "execution_count": 7,
      "outputs": [
        {
          "output_type": "stream",
          "text": [
            "(30, 10000)\n"
          ],
          "name": "stdout"
        }
      ]
    },
    {
      "cell_type": "code",
      "metadata": {
        "id": "1Ak-qzizYe3u",
        "outputId": "944fd1f8-9466-4e04-9065-d969214f285b",
        "colab": {
          "base_uri": "https://localhost:8080/"
        }
      },
      "source": [
        "print(pca1.explained_variance_)"
      ],
      "execution_count": 8,
      "outputs": [
        {
          "output_type": "stream",
          "text": [
            "[28402558.42409751 14181093.22316859  3456836.91269706  2011267.42172635\n",
            "  1492453.31639681  1263688.67525423  1176785.39651747   794520.47664412\n",
            "   716308.59560058   582903.09633981   481520.42346532   424374.16325015\n",
            "   410297.11129308   346416.00167769   330447.75169523   306599.66272049\n",
            "   277109.91740987   257646.49212091   228518.62292843   209235.76906641\n",
            "   205127.99516622   182181.28160335   172215.52191898   165984.00673801\n",
            "   156558.33740843   152668.89462099   139199.49210784   133441.81291144\n",
            "   131705.56792561   124481.34503916]\n"
          ],
          "name": "stdout"
        }
      ]
    },
    {
      "cell_type": "code",
      "metadata": {
        "id": "lhESv7AacBJK",
        "outputId": "8822c87c-5cf3-476a-a380-ed657e9a5f2f",
        "colab": {
          "base_uri": "https://localhost:8080/",
          "height": 283
        }
      },
      "source": [
        "plt.plot(np.cumsum(pca1.explained_variance_ratio_))  ##graph shows that 90% variablity is roughly captured in 20 variables "
      ],
      "execution_count": 9,
      "outputs": [
        {
          "output_type": "execute_result",
          "data": {
            "text/plain": [
              "[<matplotlib.lines.Line2D at 0x7f0f2d3c3cc0>]"
            ]
          },
          "metadata": {
            "tags": []
          },
          "execution_count": 9
        },
        {
          "output_type": "display_data",
          "data": {
            "image/png": "[encoded data removed]",
            "text/plain": [
              "<Figure size 432x288 with 1 Axes>"
            ]
          },
          "metadata": {
            "tags": [],
            "needs_background": "light"
          }
        }
      ]
    },
    {
      "cell_type": "code",
      "metadata": {
        "id": "tgbRDoq4cH2C",
        "outputId": "41a6a583-891c-4e2e-e4bb-fa18409c077a",
        "colab": {
          "base_uri": "https://localhost:8080/"
        }
      },
      "source": [
        "np.cumsum(pca1.explained_variance_ratio_)"
      ],
      "execution_count": 10,
      "outputs": [
        {
          "output_type": "execute_result",
          "data": {
            "text/plain": [
              "array([0.44859537, 0.67257423, 0.72717217, 0.7589385 , 0.78251059,\n",
              "       0.80246953, 0.8210559 , 0.83360471, 0.84491822, 0.8541247 ,\n",
              "       0.86172993, 0.86843257, 0.87491288, 0.88038424, 0.8856034 ,\n",
              "       0.89044589, 0.89482261, 0.89889193, 0.9025012 , 0.90580591,\n",
              "       0.90904574, 0.91192314, 0.91464315, 0.91726473, 0.91973744,\n",
              "       0.92214872, 0.92434727, 0.92645487, 0.92853505, 0.93050114])"
            ]
          },
          "metadata": {
            "tags": []
          },
          "execution_count": 10
        }
      ]
    },
    {
      "cell_type": "code",
      "metadata": {
        "id": "IozwEMlFcPbu",
        "outputId": "c792ddda-92a2-4ef4-9be5-9a8f6630fef1",
        "colab": {
          "base_uri": "https://localhost:8080/"
        }
      },
      "source": [
        "x_train_pca1 = pca1.fit_transform(x_train)\n",
        "x_val_pca1 = pca1.transform(x_val)\n",
        "x_test_pca1 = pca1.transform(x_test)\n",
        "\n",
        "print(x_train_pca1.shape)"
      ],
      "execution_count": 11,
      "outputs": [
        {
          "output_type": "stream",
          "text": [
            "(100, 30)\n"
          ],
          "name": "stdout"
        }
      ]
    },
    {
      "cell_type": "markdown",
      "metadata": {
        "id": "0mVfSaZcdkx6"
      },
      "source": [
        "## logistic regression\n"
      ]
    },
    {
      "cell_type": "code",
      "metadata": {
        "id": "gb9D-9PSdX8c"
      },
      "source": [
        "from sklearn.linear_model import LogisticRegression"
      ],
      "execution_count": 12,
      "outputs": []
    },
    {
      "cell_type": "code",
      "metadata": {
        "id": "i6tqD88Xd17D",
        "outputId": "6d0ff7f4-bd14-4405-af93-710e30eedec8",
        "colab": {
          "base_uri": "https://localhost:8080/"
        }
      },
      "source": [
        "logi = LogisticRegression(random_state=0)\n",
        "logi.fit(x_train_pca1,y_train)"
      ],
      "execution_count": 13,
      "outputs": [
        {
          "output_type": "stream",
          "text": [
            "/usr/local/lib/python3.6/dist-packages/sklearn/linear_model/_logistic.py:940: ConvergenceWarning: lbfgs failed to converge (status=1):\n",
            "STOP: TOTAL NO. of ITERATIONS REACHED LIMIT.\n",
            "\n",
            "Increase the number of iterations (max_iter) or scale the data as shown in:\n",
            "    https://scikit-learn.org/stable/modules/preprocessing.html\n",
            "Please also refer to the documentation for alternative solver options:\n",
            "    https://scikit-learn.org/stable/modules/linear_model.html#logistic-regression\n",
            "  extra_warning_msg=_LOGISTIC_SOLVER_CONVERGENCE_MSG)\n"
          ],
          "name": "stderr"
        },
        {
          "output_type": "execute_result",
          "data": {
            "text/plain": [
              "LogisticRegression(C=1.0, class_weight=None, dual=False, fit_intercept=True,\n",
              "                   intercept_scaling=1, l1_ratio=None, max_iter=100,\n",
              "                   multi_class='auto', n_jobs=None, penalty='l2',\n",
              "                   random_state=0, solver='lbfgs', tol=0.0001, verbose=0,\n",
              "                   warm_start=False)"
            ]
          },
          "metadata": {
            "tags": []
          },
          "execution_count": 13
        }
      ]
    },
    {
      "cell_type": "code",
      "metadata": {
        "id": "SUaXgFfdd_Fh"
      },
      "source": [
        "y_val_pred = logi.predict(x_val_pca1)"
      ],
      "execution_count": 14,
      "outputs": []
    },
    {
      "cell_type": "code",
      "metadata": {
        "id": "cubN9wgje83_"
      },
      "source": [
        "y_test_pred = logi.predict(x_test_pca1)"
      ],
      "execution_count": 15,
      "outputs": []
    },
    {
      "cell_type": "code",
      "metadata": {
        "id": "ansTS_GnfCw_",
        "outputId": "18ee0d5b-dd88-4752-d71d-f0f5a4da5125",
        "colab": {
          "base_uri": "https://localhost:8080/"
        }
      },
      "source": [
        "from sklearn.metrics import confusion_matrix, accuracy_score\n",
        "cm = confusion_matrix(y_val, y_val_pred)\n",
        "print(cm)\n",
        "accuracy_score(y_val, y_val_pred)"
      ],
      "execution_count": 16,
      "outputs": [
        {
          "output_type": "stream",
          "text": [
            "[[49  7]\n",
            " [13 31]]\n"
          ],
          "name": "stdout"
        },
        {
          "output_type": "execute_result",
          "data": {
            "text/plain": [
              "0.8"
            ]
          },
          "metadata": {
            "tags": []
          },
          "execution_count": 16
        }
      ]
    },
    {
      "cell_type": "code",
      "metadata": {
        "id": "s7pXiwb1fLdi"
      },
      "source": [
        ""
      ],
      "execution_count": 16,
      "outputs": []
    },
    {
      "cell_type": "markdown",
      "metadata": {
        "id": "46s_6F00fjpL"
      },
      "source": [
        "## Neural Network"
      ]
    },
    {
      "cell_type": "code",
      "metadata": {
        "id": "D1KzoRP9fmrp"
      },
      "source": [
        "from keras import layers\n",
        "from keras import models\n",
        "from keras.utils import to_categorical"
      ],
      "execution_count": 17,
      "outputs": []
    },
    {
      "cell_type": "code",
      "metadata": {
        "id": "OKimXXTYMM7T",
        "outputId": "52d3fd84-ce1d-49b8-b15e-9b39137d8e72",
        "colab": {
          "base_uri": "https://localhost:8080/"
        }
      },
      "source": [
        "y_train_nn = to_categorical(y_train)\n",
        "y_val_nn = to_categorical(y_val)\n",
        "\n",
        "y_train"
      ],
      "execution_count": 18,
      "outputs": [
        {
          "output_type": "execute_result",
          "data": {
            "text/plain": [
              "array([1, 0, 1, 1, 0, 0, 1, 0, 0, 0, 0, 1, 0, 1, 0, 1, 0, 0, 0, 0, 0, 0,\n",
              "       0, 1, 0, 0, 1, 0, 1, 0, 1, 1, 1, 0, 0, 1, 0, 0, 1, 0, 1, 0, 0, 1,\n",
              "       0, 0, 0, 0, 1, 1, 0, 1, 0, 0, 1, 0, 1, 1, 1, 0, 1, 1, 0, 1, 0, 0,\n",
              "       0, 0, 1, 1, 0, 1, 0, 0, 1, 0, 0, 1, 0, 1, 1, 1, 0, 1, 1, 0, 1, 1,\n",
              "       0, 0, 1, 0, 1, 1, 0, 0, 0, 1, 0, 1])"
            ]
          },
          "metadata": {
            "tags": []
          },
          "execution_count": 18
        }
      ]
    },
    {
      "cell_type": "code",
      "metadata": {
        "id": "YTjVJoEVLCpG",
        "outputId": "c55407e0-b2f4-44b2-c96b-4c74368f6594",
        "colab": {
          "base_uri": "https://localhost:8080/"
        }
      },
      "source": [
        "nn1 = models.Sequential()\n",
        "\n",
        "nn1.add(layers.Dense(units = 32, activation='relu', input_shape = (30,)))\n",
        "nn1.add(layers.Dense(units = 64, activation='relu'))\n",
        "nn1.add(layers.Dropout(0.5))\n",
        "nn1.add(layers.Dense(units=1, activation='sigmoid'))\n",
        "\n",
        "nn1.compile(optimizer='rmsprop', loss = 'binary_crossentropy', metrics=['accuracy'])\n",
        "nn1.summary()"
      ],
      "execution_count": 23,
      "outputs": [
        {
          "output_type": "stream",
          "text": [
            "Model: \"sequential_2\"\n",
            "_________________________________________________________________\n",
            "Layer (type)                 Output Shape              Param #   \n",
            "=================================================================\n",
            "dense_6 (Dense)              (None, 32)                992       \n",
            "_________________________________________________________________\n",
            "dense_7 (Dense)              (None, 64)                2112      \n",
            "_________________________________________________________________\n",
            "dropout_2 (Dropout)          (None, 64)                0         \n",
            "_________________________________________________________________\n",
            "dense_8 (Dense)              (None, 1)                 65        \n",
            "=================================================================\n",
            "Total params: 3,169\n",
            "Trainable params: 3,169\n",
            "Non-trainable params: 0\n",
            "_________________________________________________________________\n"
          ],
          "name": "stdout"
        }
      ]
    },
    {
      "cell_type": "code",
      "metadata": {
        "id": "R5QYYtkONaVh",
        "outputId": "c193b70c-53bf-49e5-f670-3ee027064d56",
        "colab": {
          "base_uri": "https://localhost:8080/"
        }
      },
      "source": [
        "nn1.fit(x = x_train_pca1, y = y_train, batch_size=5, epochs=30, validation_data=(x_val_pca1, y_val))"
      ],
      "execution_count": 24,
      "outputs": [
        {
          "output_type": "stream",
          "text": [
            "Epoch 1/30\n",
            "20/20 [==============================] - 0s 8ms/step - loss: 328.6294 - accuracy: 0.4800 - val_loss: 78.5483 - val_accuracy: 0.7200\n",
            "Epoch 2/30\n",
            "20/20 [==============================] - 0s 3ms/step - loss: 293.2547 - accuracy: 0.4800 - val_loss: 71.4051 - val_accuracy: 0.7100\n",
            "Epoch 3/30\n",
            "20/20 [==============================] - 0s 2ms/step - loss: 214.2460 - accuracy: 0.5400 - val_loss: 53.0053 - val_accuracy: 0.7100\n",
            "Epoch 4/30\n",
            "20/20 [==============================] - 0s 2ms/step - loss: 290.2962 - accuracy: 0.5300 - val_loss: 45.5781 - val_accuracy: 0.7800\n",
            "Epoch 5/30\n",
            "20/20 [==============================] - 0s 2ms/step - loss: 162.7554 - accuracy: 0.6700 - val_loss: 42.7816 - val_accuracy: 0.7900\n",
            "Epoch 6/30\n",
            "20/20 [==============================] - 0s 2ms/step - loss: 168.6856 - accuracy: 0.6400 - val_loss: 47.0974 - val_accuracy: 0.7600\n",
            "Epoch 7/30\n",
            "20/20 [==============================] - 0s 3ms/step - loss: 156.0528 - accuracy: 0.6500 - val_loss: 38.5743 - val_accuracy: 0.7900\n",
            "Epoch 8/30\n",
            "20/20 [==============================] - 0s 3ms/step - loss: 66.6678 - accuracy: 0.7500 - val_loss: 35.6941 - val_accuracy: 0.8100\n",
            "Epoch 9/30\n",
            "20/20 [==============================] - 0s 2ms/step - loss: 56.2209 - accuracy: 0.7900 - val_loss: 34.6502 - val_accuracy: 0.8400\n",
            "Epoch 10/30\n",
            "20/20 [==============================] - 0s 3ms/step - loss: 99.6385 - accuracy: 0.7400 - val_loss: 38.7839 - val_accuracy: 0.7900\n",
            "Epoch 11/30\n",
            "20/20 [==============================] - 0s 2ms/step - loss: 82.6435 - accuracy: 0.8000 - val_loss: 35.6863 - val_accuracy: 0.8200\n",
            "Epoch 12/30\n",
            "20/20 [==============================] - 0s 2ms/step - loss: 83.8225 - accuracy: 0.7800 - val_loss: 35.2127 - val_accuracy: 0.8300\n",
            "Epoch 13/30\n",
            "20/20 [==============================] - 0s 3ms/step - loss: 88.4668 - accuracy: 0.7400 - val_loss: 38.0265 - val_accuracy: 0.7800\n",
            "Epoch 14/30\n",
            "20/20 [==============================] - 0s 2ms/step - loss: 46.3987 - accuracy: 0.8400 - val_loss: 32.3889 - val_accuracy: 0.8300\n",
            "Epoch 15/30\n",
            "20/20 [==============================] - 0s 2ms/step - loss: 51.9073 - accuracy: 0.8300 - val_loss: 29.1370 - val_accuracy: 0.8700\n",
            "Epoch 16/30\n",
            "20/20 [==============================] - 0s 2ms/step - loss: 35.5617 - accuracy: 0.8800 - val_loss: 29.6158 - val_accuracy: 0.8400\n",
            "Epoch 17/30\n",
            "20/20 [==============================] - 0s 3ms/step - loss: 30.1368 - accuracy: 0.8500 - val_loss: 31.9316 - val_accuracy: 0.8300\n",
            "Epoch 18/30\n",
            "20/20 [==============================] - 0s 3ms/step - loss: 25.5233 - accuracy: 0.8100 - val_loss: 31.2634 - val_accuracy: 0.8200\n",
            "Epoch 19/30\n",
            "20/20 [==============================] - 0s 3ms/step - loss: 23.7291 - accuracy: 0.8600 - val_loss: 27.7686 - val_accuracy: 0.8300\n",
            "Epoch 20/30\n",
            "20/20 [==============================] - 0s 2ms/step - loss: 10.7089 - accuracy: 0.9200 - val_loss: 34.0848 - val_accuracy: 0.8000\n",
            "Epoch 21/30\n",
            "20/20 [==============================] - 0s 2ms/step - loss: 21.7969 - accuracy: 0.8200 - val_loss: 27.9220 - val_accuracy: 0.8200\n",
            "Epoch 22/30\n",
            "20/20 [==============================] - 0s 2ms/step - loss: 17.0777 - accuracy: 0.8500 - val_loss: 29.3393 - val_accuracy: 0.8400\n",
            "Epoch 23/30\n",
            "20/20 [==============================] - 0s 3ms/step - loss: 41.6610 - accuracy: 0.8000 - val_loss: 32.0577 - val_accuracy: 0.8200\n",
            "Epoch 24/30\n",
            "20/20 [==============================] - 0s 3ms/step - loss: 13.6840 - accuracy: 0.8700 - val_loss: 29.2195 - val_accuracy: 0.8600\n",
            "Epoch 25/30\n",
            "20/20 [==============================] - 0s 2ms/step - loss: 26.5117 - accuracy: 0.9000 - val_loss: 27.7018 - val_accuracy: 0.8500\n",
            "Epoch 26/30\n",
            "20/20 [==============================] - 0s 3ms/step - loss: 8.9080 - accuracy: 0.9300 - val_loss: 29.5277 - val_accuracy: 0.8200\n",
            "Epoch 27/30\n",
            "20/20 [==============================] - 0s 3ms/step - loss: 7.3698 - accuracy: 0.9200 - val_loss: 30.8840 - val_accuracy: 0.8300\n",
            "Epoch 28/30\n",
            "20/20 [==============================] - 0s 3ms/step - loss: 15.3126 - accuracy: 0.8800 - val_loss: 35.8502 - val_accuracy: 0.8100\n",
            "Epoch 29/30\n",
            "20/20 [==============================] - 0s 2ms/step - loss: 10.9097 - accuracy: 0.9000 - val_loss: 32.0263 - val_accuracy: 0.8200\n",
            "Epoch 30/30\n",
            "20/20 [==============================] - 0s 3ms/step - loss: 14.0758 - accuracy: 0.9200 - val_loss: 27.5569 - val_accuracy: 0.8000\n"
          ],
          "name": "stdout"
        },
        {
          "output_type": "execute_result",
          "data": {
            "text/plain": [
              "<tensorflow.python.keras.callbacks.History at 0x7f0ef07f3c88>"
            ]
          },
          "metadata": {
            "tags": []
          },
          "execution_count": 24
        }
      ]
    },
    {
      "cell_type": "code",
      "metadata": {
        "id": "gJ0u95IBOADY"
      },
      "source": [
        " "
      ],
      "execution_count": 20,
      "outputs": []
    }
  ]
}