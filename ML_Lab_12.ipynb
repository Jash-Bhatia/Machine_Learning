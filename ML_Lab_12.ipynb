{
  "nbformat": 4,
  "nbformat_minor": 0,
  "metadata": {
    "colab": {
      "name": "ML_Lab_12.ipynb",
      "provenance": [],
      "collapsed_sections": [],
      "authorship_tag": "ABX9TyPPbc0BAghyjlP2pmOvSDGX",
      "include_colab_link": true
    },
    "kernelspec": {
      "name": "python3",
      "display_name": "Python 3"
    }
  },
  "cells": [
    {
      "cell_type": "markdown",
      "metadata": {
        "id": "view-in-github",
        "colab_type": "text"
      },
      "source": [
        "<a href=\"https://colab.research.google.com/github/Jash-Bhatia/Machine_Learning/blob/master/ML_Lab_12.ipynb\" target=\"_parent\"><img src=\"https://colab.research.google.com/assets/colab-badge.svg\" alt=\"Open In Colab\"/></a>"
      ]
    },
    {
      "cell_type": "code",
      "metadata": {
        "id": "OQxamzktWgFc"
      },
      "source": [
        "import numpy as np\n",
        "import pandas as pd\n",
        "import matplotlib.pyplot as plt\n",
        "%matplotlib inline\n",
        "import seaborn as sns\n"
      ],
      "execution_count": 3,
      "outputs": []
    },
    {
      "cell_type": "code",
      "metadata": {
        "id": "Q700f1rRuh_R",
        "outputId": "f2cc3083-10e9-4a1b-e194-3b61b4910077",
        "colab": {
          "base_uri": "https://localhost:8080/"
        }
      },
      "source": [
        "!unzip AirQualityUCI.zip\n",
        "df = pd.read_excel('/content/AirQualityUCI.xlsx', parse_dates=[['Date', 'Time']])\n",
        "df.replace(to_replace=-200.0, value=0.0, inplace=True)\n",
        "wv = df['NMHC(GT)']\n",
        "bad_wv = wv == -200.0\n",
        "wv[bad_wv] = 0.0"
      ],
      "execution_count": 2,
      "outputs": [
        {
          "output_type": "stream",
          "text": [
            "Archive:  AirQualityUCI.zip\n",
            "replace AirQualityUCI.csv? [y]es, [n]o, [A]ll, [N]one, [r]ename: y\n",
            "  inflating: AirQualityUCI.csv       \n",
            "replace AirQualityUCI.xlsx? [y]es, [n]o, [A]ll, [N]one, [r]ename: y\n",
            "  inflating: AirQualityUCI.xlsx      \n"
          ],
          "name": "stdout"
        },
        {
          "output_type": "stream",
          "text": [
            "/usr/local/lib/python3.6/dist-packages/ipykernel_launcher.py:6: SettingWithCopyWarning: \n",
            "A value is trying to be set on a copy of a slice from a DataFrame\n",
            "\n",
            "See the caveats in the documentation: https://pandas.pydata.org/pandas-docs/stable/user_guide/indexing.html#returning-a-view-versus-a-copy\n",
            "  \n"
          ],
          "name": "stderr"
        }
      ]
    },
    {
      "cell_type": "code",
      "metadata": {
        "id": "UYxcpqaHy4oR",
        "outputId": "835487fe-703e-495e-e8d2-7ead3a434cd8",
        "colab": {
          "base_uri": "https://localhost:8080/"
        }
      },
      "source": [
        "df.info()"
      ],
      "execution_count": 4,
      "outputs": [
        {
          "output_type": "stream",
          "text": [
            "<class 'pandas.core.frame.DataFrame'>\n",
            "RangeIndex: 9357 entries, 0 to 9356\n",
            "Data columns (total 14 columns):\n",
            " #   Column         Non-Null Count  Dtype         \n",
            "---  ------         --------------  -----         \n",
            " 0   Date_Time      9357 non-null   datetime64[ns]\n",
            " 1   CO(GT)         9357 non-null   float64       \n",
            " 2   PT08.S1(CO)    9357 non-null   float64       \n",
            " 3   NMHC(GT)       9357 non-null   int64         \n",
            " 4   C6H6(GT)       9357 non-null   float64       \n",
            " 5   PT08.S2(NMHC)  9357 non-null   float64       \n",
            " 6   NOx(GT)        9357 non-null   float64       \n",
            " 7   PT08.S3(NOx)   9357 non-null   float64       \n",
            " 8   NO2(GT)        9357 non-null   float64       \n",
            " 9   PT08.S4(NO2)   9357 non-null   float64       \n",
            " 10  PT08.S5(O3)    9357 non-null   float64       \n",
            " 11  T              9357 non-null   float64       \n",
            " 12  RH             9357 non-null   float64       \n",
            " 13  AH             9357 non-null   float64       \n",
            "dtypes: datetime64[ns](1), float64(12), int64(1)\n",
            "memory usage: 1023.5 KB\n"
          ],
          "name": "stdout"
        }
      ]
    },
    {
      "cell_type": "code",
      "metadata": {
        "id": "XxogE8Qky4wT",
        "outputId": "ea69a937-0960-4d32-f348-6748bb299179",
        "colab": {
          "base_uri": "https://localhost:8080/",
          "height": 308
        }
      },
      "source": [
        "df.describe()"
      ],
      "execution_count": 5,
      "outputs": [
        {
          "output_type": "execute_result",
          "data": {
            "text/html": [
              "<div>\n",
              "<style scoped>\n",
              "    .dataframe tbody tr th:only-of-type {\n",
              "        vertical-align: middle;\n",
              "    }\n",
              "\n",
              "    .dataframe tbody tr th {\n",
              "        vertical-align: top;\n",
              "    }\n",
              "\n",
              "    .dataframe thead th {\n",
              "        text-align: right;\n",
              "    }\n",
              "</style>\n",
              "<table border=\"1\" class=\"dataframe\">\n",
              "  <thead>\n",
              "    <tr style=\"text-align: right;\">\n",
              "      <th></th>\n",
              "      <th>CO(GT)</th>\n",
              "      <th>PT08.S1(CO)</th>\n",
              "      <th>NMHC(GT)</th>\n",
              "      <th>C6H6(GT)</th>\n",
              "      <th>PT08.S2(NMHC)</th>\n",
              "      <th>NOx(GT)</th>\n",
              "      <th>PT08.S3(NOx)</th>\n",
              "      <th>NO2(GT)</th>\n",
              "      <th>PT08.S4(NO2)</th>\n",
              "      <th>PT08.S5(O3)</th>\n",
              "      <th>T</th>\n",
              "      <th>RH</th>\n",
              "      <th>AH</th>\n",
              "    </tr>\n",
              "  </thead>\n",
              "  <tbody>\n",
              "    <tr>\n",
              "      <th>count</th>\n",
              "      <td>9357.000000</td>\n",
              "      <td>9357.000000</td>\n",
              "      <td>9357.000000</td>\n",
              "      <td>9357.000000</td>\n",
              "      <td>9357.000000</td>\n",
              "      <td>9357.000000</td>\n",
              "      <td>9357.000000</td>\n",
              "      <td>9357.000000</td>\n",
              "      <td>9357.000000</td>\n",
              "      <td>9357.000000</td>\n",
              "      <td>9357.00000</td>\n",
              "      <td>9357.000000</td>\n",
              "      <td>9357.000000</td>\n",
              "    </tr>\n",
              "    <tr>\n",
              "      <th>mean</th>\n",
              "      <td>1.765545</td>\n",
              "      <td>1056.692672</td>\n",
              "      <td>21.373731</td>\n",
              "      <td>9.688596</td>\n",
              "      <td>902.298983</td>\n",
              "      <td>203.636796</td>\n",
              "      <td>802.695353</td>\n",
              "      <td>93.232617</td>\n",
              "      <td>1399.186287</td>\n",
              "      <td>982.774554</td>\n",
              "      <td>17.59962</td>\n",
              "      <td>47.306631</td>\n",
              "      <td>0.985416</td>\n",
              "    </tr>\n",
              "    <tr>\n",
              "      <th>std</th>\n",
              "      <td>1.554264</td>\n",
              "      <td>301.232260</td>\n",
              "      <td>91.103489</td>\n",
              "      <td>7.559609</td>\n",
              "      <td>318.681183</td>\n",
              "      <td>214.984126</td>\n",
              "      <td>299.341439</td>\n",
              "      <td>61.468588</td>\n",
              "      <td>441.442059</td>\n",
              "      <td>438.060087</td>\n",
              "      <td>9.35832</td>\n",
              "      <td>19.473998</td>\n",
              "      <td>0.442966</td>\n",
              "    </tr>\n",
              "    <tr>\n",
              "      <th>min</th>\n",
              "      <td>0.000000</td>\n",
              "      <td>0.000000</td>\n",
              "      <td>0.000000</td>\n",
              "      <td>0.000000</td>\n",
              "      <td>0.000000</td>\n",
              "      <td>0.000000</td>\n",
              "      <td>0.000000</td>\n",
              "      <td>0.000000</td>\n",
              "      <td>0.000000</td>\n",
              "      <td>0.000000</td>\n",
              "      <td>-1.90000</td>\n",
              "      <td>0.000000</td>\n",
              "      <td>0.000000</td>\n",
              "    </tr>\n",
              "    <tr>\n",
              "      <th>25%</th>\n",
              "      <td>0.600000</td>\n",
              "      <td>921.000000</td>\n",
              "      <td>0.000000</td>\n",
              "      <td>4.004958</td>\n",
              "      <td>711.000000</td>\n",
              "      <td>50.000000</td>\n",
              "      <td>637.000000</td>\n",
              "      <td>53.000000</td>\n",
              "      <td>1184.750000</td>\n",
              "      <td>699.750000</td>\n",
              "      <td>10.95000</td>\n",
              "      <td>34.050000</td>\n",
              "      <td>0.692275</td>\n",
              "    </tr>\n",
              "    <tr>\n",
              "      <th>50%</th>\n",
              "      <td>1.500000</td>\n",
              "      <td>1052.500000</td>\n",
              "      <td>0.000000</td>\n",
              "      <td>7.886653</td>\n",
              "      <td>894.500000</td>\n",
              "      <td>141.000000</td>\n",
              "      <td>794.250000</td>\n",
              "      <td>96.000000</td>\n",
              "      <td>1445.500000</td>\n",
              "      <td>942.000000</td>\n",
              "      <td>17.20000</td>\n",
              "      <td>48.550000</td>\n",
              "      <td>0.976823</td>\n",
              "    </tr>\n",
              "    <tr>\n",
              "      <th>75%</th>\n",
              "      <td>2.600000</td>\n",
              "      <td>1221.250000</td>\n",
              "      <td>0.000000</td>\n",
              "      <td>13.636091</td>\n",
              "      <td>1104.750000</td>\n",
              "      <td>284.200000</td>\n",
              "      <td>960.250000</td>\n",
              "      <td>133.000000</td>\n",
              "      <td>1662.000000</td>\n",
              "      <td>1255.250000</td>\n",
              "      <td>24.07500</td>\n",
              "      <td>61.875000</td>\n",
              "      <td>1.296223</td>\n",
              "    </tr>\n",
              "    <tr>\n",
              "      <th>max</th>\n",
              "      <td>11.900000</td>\n",
              "      <td>2039.750000</td>\n",
              "      <td>1189.000000</td>\n",
              "      <td>63.741476</td>\n",
              "      <td>2214.000000</td>\n",
              "      <td>1479.000000</td>\n",
              "      <td>2682.750000</td>\n",
              "      <td>339.700000</td>\n",
              "      <td>2775.000000</td>\n",
              "      <td>2522.750000</td>\n",
              "      <td>44.60000</td>\n",
              "      <td>88.725000</td>\n",
              "      <td>2.231036</td>\n",
              "    </tr>\n",
              "  </tbody>\n",
              "</table>\n",
              "</div>"
            ],
            "text/plain": [
              "            CO(GT)  PT08.S1(CO)  ...           RH           AH\n",
              "count  9357.000000  9357.000000  ...  9357.000000  9357.000000\n",
              "mean      1.765545  1056.692672  ...    47.306631     0.985416\n",
              "std       1.554264   301.232260  ...    19.473998     0.442966\n",
              "min       0.000000     0.000000  ...     0.000000     0.000000\n",
              "25%       0.600000   921.000000  ...    34.050000     0.692275\n",
              "50%       1.500000  1052.500000  ...    48.550000     0.976823\n",
              "75%       2.600000  1221.250000  ...    61.875000     1.296223\n",
              "max      11.900000  2039.750000  ...    88.725000     2.231036\n",
              "\n",
              "[8 rows x 13 columns]"
            ]
          },
          "metadata": {
            "tags": []
          },
          "execution_count": 5
        }
      ]
    },
    {
      "cell_type": "code",
      "metadata": {
        "id": "koP5TTdIy46_",
        "outputId": "6c47c5ba-24a2-4f74-ec4b-f18394692ff4",
        "colab": {
          "base_uri": "https://localhost:8080/"
        }
      },
      "source": [
        "df.shape"
      ],
      "execution_count": 6,
      "outputs": [
        {
          "output_type": "execute_result",
          "data": {
            "text/plain": [
              "(9357, 14)"
            ]
          },
          "metadata": {
            "tags": []
          },
          "execution_count": 6
        }
      ]
    },
    {
      "cell_type": "code",
      "metadata": {
        "id": "nt9N36vqy493"
      },
      "source": [
        "df.replace(to_replace = -200,value = np.NaN , inplace = True )"
      ],
      "execution_count": 7,
      "outputs": []
    },
    {
      "cell_type": "code",
      "metadata": {
        "id": "jKc0fL26y46A",
        "outputId": "b4004494-c160-4489-c097-29a9a171b6a8",
        "colab": {
          "base_uri": "https://localhost:8080/"
        }
      },
      "source": [
        "num = df.isnull().sum()\n",
        "percent = num/df.shape[0]*100\n",
        "percent"
      ],
      "execution_count": 8,
      "outputs": [
        {
          "output_type": "execute_result",
          "data": {
            "text/plain": [
              "Date_Time        0.0\n",
              "CO(GT)           0.0\n",
              "PT08.S1(CO)      0.0\n",
              "NMHC(GT)         0.0\n",
              "C6H6(GT)         0.0\n",
              "PT08.S2(NMHC)    0.0\n",
              "NOx(GT)          0.0\n",
              "PT08.S3(NOx)     0.0\n",
              "NO2(GT)          0.0\n",
              "PT08.S4(NO2)     0.0\n",
              "PT08.S5(O3)      0.0\n",
              "T                0.0\n",
              "RH               0.0\n",
              "AH               0.0\n",
              "dtype: float64"
            ]
          },
          "metadata": {
            "tags": []
          },
          "execution_count": 8
        }
      ]
    },
    {
      "cell_type": "code",
      "metadata": {
        "id": "vX3wFku-73hi",
        "outputId": "12eee01d-4605-489f-e940-9ac89da279a7",
        "colab": {
          "base_uri": "https://localhost:8080/",
          "height": 35
        }
      },
      "source": [
        "target = 'NO2(GT)'\n",
        "target"
      ],
      "execution_count": 9,
      "outputs": [
        {
          "output_type": "execute_result",
          "data": {
            "application/vnd.google.colaboratory.intrinsic+json": {
              "type": "string"
            },
            "text/plain": [
              "'NO2(GT)'"
            ]
          },
          "metadata": {
            "tags": []
          },
          "execution_count": 9
        }
      ]
    },
    {
      "cell_type": "code",
      "metadata": {
        "id": "MlWU0p3By4u0",
        "outputId": "06f4bbcc-8445-4c88-9306-35a15f565366",
        "colab": {
          "base_uri": "https://localhost:8080/",
          "height": 438
        }
      },
      "source": [
        "df.corr()[['NO2(GT)']]"
      ],
      "execution_count": 10,
      "outputs": [
        {
          "output_type": "execute_result",
          "data": {
            "text/html": [
              "<div>\n",
              "<style scoped>\n",
              "    .dataframe tbody tr th:only-of-type {\n",
              "        vertical-align: middle;\n",
              "    }\n",
              "\n",
              "    .dataframe tbody tr th {\n",
              "        vertical-align: top;\n",
              "    }\n",
              "\n",
              "    .dataframe thead th {\n",
              "        text-align: right;\n",
              "    }\n",
              "</style>\n",
              "<table border=\"1\" class=\"dataframe\">\n",
              "  <thead>\n",
              "    <tr style=\"text-align: right;\">\n",
              "      <th></th>\n",
              "      <th>NO2(GT)</th>\n",
              "    </tr>\n",
              "  </thead>\n",
              "  <tbody>\n",
              "    <tr>\n",
              "      <th>CO(GT)</th>\n",
              "      <td>0.723154</td>\n",
              "    </tr>\n",
              "    <tr>\n",
              "      <th>PT08.S1(CO)</th>\n",
              "      <td>0.284508</td>\n",
              "    </tr>\n",
              "    <tr>\n",
              "      <th>NMHC(GT)</th>\n",
              "      <td>0.099541</td>\n",
              "    </tr>\n",
              "    <tr>\n",
              "      <th>C6H6(GT)</th>\n",
              "      <td>0.402581</td>\n",
              "    </tr>\n",
              "    <tr>\n",
              "      <th>PT08.S2(NMHC)</th>\n",
              "      <td>0.334108</td>\n",
              "    </tr>\n",
              "    <tr>\n",
              "      <th>NOx(GT)</th>\n",
              "      <td>0.795888</td>\n",
              "    </tr>\n",
              "    <tr>\n",
              "      <th>PT08.S3(NOx)</th>\n",
              "      <td>-0.440202</td>\n",
              "    </tr>\n",
              "    <tr>\n",
              "      <th>NO2(GT)</th>\n",
              "      <td>1.000000</td>\n",
              "    </tr>\n",
              "    <tr>\n",
              "      <th>PT08.S4(NO2)</th>\n",
              "      <td>0.010185</td>\n",
              "    </tr>\n",
              "    <tr>\n",
              "      <th>PT08.S5(O3)</th>\n",
              "      <td>0.439057</td>\n",
              "    </tr>\n",
              "    <tr>\n",
              "      <th>T</th>\n",
              "      <td>-0.195697</td>\n",
              "    </tr>\n",
              "    <tr>\n",
              "      <th>RH</th>\n",
              "      <td>-0.125245</td>\n",
              "    </tr>\n",
              "    <tr>\n",
              "      <th>AH</th>\n",
              "      <td>-0.324221</td>\n",
              "    </tr>\n",
              "  </tbody>\n",
              "</table>\n",
              "</div>"
            ],
            "text/plain": [
              "                NO2(GT)\n",
              "CO(GT)         0.723154\n",
              "PT08.S1(CO)    0.284508\n",
              "NMHC(GT)       0.099541\n",
              "C6H6(GT)       0.402581\n",
              "PT08.S2(NMHC)  0.334108\n",
              "NOx(GT)        0.795888\n",
              "PT08.S3(NOx)  -0.440202\n",
              "NO2(GT)        1.000000\n",
              "PT08.S4(NO2)   0.010185\n",
              "PT08.S5(O3)    0.439057\n",
              "T             -0.195697\n",
              "RH            -0.125245\n",
              "AH            -0.324221"
            ]
          },
          "metadata": {
            "tags": []
          },
          "execution_count": 10
        }
      ]
    },
    {
      "cell_type": "code",
      "metadata": {
        "id": "v5ma4Bu1y4tY",
        "outputId": "def80eb3-66da-4b14-cae8-7592ad344fc7",
        "colab": {
          "base_uri": "https://localhost:8080/",
          "height": 198
        }
      },
      "source": [
        "df = df[['CO(GT)', 'PT08.S1(CO)', 'NMHC(GT)','PT08.S2(NMHC)', 'NOx(GT)','NO2(GT)','PT08.S5(O3)']]\n",
        "df.head()"
      ],
      "execution_count": 11,
      "outputs": [
        {
          "output_type": "execute_result",
          "data": {
            "text/html": [
              "<div>\n",
              "<style scoped>\n",
              "    .dataframe tbody tr th:only-of-type {\n",
              "        vertical-align: middle;\n",
              "    }\n",
              "\n",
              "    .dataframe tbody tr th {\n",
              "        vertical-align: top;\n",
              "    }\n",
              "\n",
              "    .dataframe thead th {\n",
              "        text-align: right;\n",
              "    }\n",
              "</style>\n",
              "<table border=\"1\" class=\"dataframe\">\n",
              "  <thead>\n",
              "    <tr style=\"text-align: right;\">\n",
              "      <th></th>\n",
              "      <th>CO(GT)</th>\n",
              "      <th>PT08.S1(CO)</th>\n",
              "      <th>NMHC(GT)</th>\n",
              "      <th>PT08.S2(NMHC)</th>\n",
              "      <th>NOx(GT)</th>\n",
              "      <th>NO2(GT)</th>\n",
              "      <th>PT08.S5(O3)</th>\n",
              "    </tr>\n",
              "  </thead>\n",
              "  <tbody>\n",
              "    <tr>\n",
              "      <th>0</th>\n",
              "      <td>2.6</td>\n",
              "      <td>1360.00</td>\n",
              "      <td>150</td>\n",
              "      <td>1045.50</td>\n",
              "      <td>166.0</td>\n",
              "      <td>113.0</td>\n",
              "      <td>1267.50</td>\n",
              "    </tr>\n",
              "    <tr>\n",
              "      <th>1</th>\n",
              "      <td>2.0</td>\n",
              "      <td>1292.25</td>\n",
              "      <td>112</td>\n",
              "      <td>954.75</td>\n",
              "      <td>103.0</td>\n",
              "      <td>92.0</td>\n",
              "      <td>972.25</td>\n",
              "    </tr>\n",
              "    <tr>\n",
              "      <th>2</th>\n",
              "      <td>2.2</td>\n",
              "      <td>1402.00</td>\n",
              "      <td>88</td>\n",
              "      <td>939.25</td>\n",
              "      <td>131.0</td>\n",
              "      <td>114.0</td>\n",
              "      <td>1074.00</td>\n",
              "    </tr>\n",
              "    <tr>\n",
              "      <th>3</th>\n",
              "      <td>2.2</td>\n",
              "      <td>1375.50</td>\n",
              "      <td>80</td>\n",
              "      <td>948.25</td>\n",
              "      <td>172.0</td>\n",
              "      <td>122.0</td>\n",
              "      <td>1203.25</td>\n",
              "    </tr>\n",
              "    <tr>\n",
              "      <th>4</th>\n",
              "      <td>1.6</td>\n",
              "      <td>1272.25</td>\n",
              "      <td>51</td>\n",
              "      <td>835.50</td>\n",
              "      <td>131.0</td>\n",
              "      <td>116.0</td>\n",
              "      <td>1110.00</td>\n",
              "    </tr>\n",
              "  </tbody>\n",
              "</table>\n",
              "</div>"
            ],
            "text/plain": [
              "   CO(GT)  PT08.S1(CO)  NMHC(GT)  PT08.S2(NMHC)  NOx(GT)  NO2(GT)  PT08.S5(O3)\n",
              "0     2.6      1360.00       150        1045.50    166.0    113.0      1267.50\n",
              "1     2.0      1292.25       112         954.75    103.0     92.0       972.25\n",
              "2     2.2      1402.00        88         939.25    131.0    114.0      1074.00\n",
              "3     2.2      1375.50        80         948.25    172.0    122.0      1203.25\n",
              "4     1.6      1272.25        51         835.50    131.0    116.0      1110.00"
            ]
          },
          "metadata": {
            "tags": []
          },
          "execution_count": 11
        }
      ]
    },
    {
      "cell_type": "code",
      "metadata": {
        "id": "XJ88Y-3qy4sR"
      },
      "source": [
        "X = df.drop(target,axis=1)\n",
        "y = df[[target]]"
      ],
      "execution_count": 12,
      "outputs": []
    },
    {
      "cell_type": "code",
      "metadata": {
        "id": "iikFZRDZy4q7"
      },
      "source": [
        "from sklearn.model_selection import train_test_split\n",
        "x_train,x_test,y_train,y_test = train_test_split(X,y)\n",
        "value = y_test"
      ],
      "execution_count": 13,
      "outputs": []
    },
    {
      "cell_type": "code",
      "metadata": {
        "id": "uDhvRKfy8Cws",
        "outputId": "05f59d8e-7d55-4c73-bc02-4c0cd957f4fc",
        "colab": {
          "base_uri": "https://localhost:8080/"
        }
      },
      "source": [
        "print (x_train.shape)\n",
        "print (x_test.shape)\n",
        "print (y_train.shape)\n",
        "print (y_test.shape)"
      ],
      "execution_count": 14,
      "outputs": [
        {
          "output_type": "stream",
          "text": [
            "(7017, 6)\n",
            "(2340, 6)\n",
            "(7017, 1)\n",
            "(2340, 1)\n"
          ],
          "name": "stdout"
        }
      ]
    },
    {
      "cell_type": "code",
      "metadata": {
        "id": "mNImwz1W8LH4"
      },
      "source": [
        "from sklearn.preprocessing import MinMaxScaler"
      ],
      "execution_count": 15,
      "outputs": []
    },
    {
      "cell_type": "code",
      "metadata": {
        "id": "yJtsEhv88PuW"
      },
      "source": [
        "scaler = MinMaxScaler()\n",
        "scaler.fit(x_train)\n",
        "x_train = scaler.fit_transform(x_train)\n",
        "scaler.fit(x_test)\n",
        "x_test = scaler.fit_transform(x_test)\n",
        "scaler.fit(y_train)\n",
        "y_train = scaler.fit_transform(y_train)\n",
        "scaler.fit(y_test)\n",
        "y_test = scaler.fit_transform(y_test)"
      ],
      "execution_count": 16,
      "outputs": []
    },
    {
      "cell_type": "code",
      "metadata": {
        "id": "KaPgQxRy8P4h",
        "outputId": "1b5b8cae-0dcf-46cc-81c0-d2b095f8a88b",
        "colab": {
          "base_uri": "https://localhost:8080/"
        }
      },
      "source": [
        "x_train = np.reshape(x_train, (x_train.shape[0],x_train.shape[1],1))\n",
        "x_test = np.reshape(x_test, (x_test.shape[0],x_test.shape[1],1))\n",
        "print (x_train.shape)\n",
        "print (x_test.shape)\n",
        "print (y_train.shape)\n",
        "print (y_test.shape)"
      ],
      "execution_count": 17,
      "outputs": [
        {
          "output_type": "stream",
          "text": [
            "(7017, 6, 1)\n",
            "(2340, 6, 1)\n",
            "(7017, 1)\n",
            "(2340, 1)\n"
          ],
          "name": "stdout"
        }
      ]
    },
    {
      "cell_type": "code",
      "metadata": {
        "id": "BYiEDcXt8QE4"
      },
      "source": [
        "from keras.models import Sequential\n",
        "from keras.layers import Dense\n",
        "from keras.layers import LSTM\n",
        "from keras.layers import Dropout\n",
        "from keras.layers import Flatten\n",
        "def RNN_MODEL():\n",
        "    # have to convert to 3D for feeding the data\n",
        "    regressor = Sequential()\n",
        "    regressor.add(LSTM(units = 50,return_sequences = True))\n",
        "    regressor.add(Dropout(0.2))\n",
        "    regressor.add(LSTM(units = 50,return_sequences = True))\n",
        "    regressor.add(Dropout(0.3))\n",
        "    regressor.add(LSTM(units = 50))\n",
        "    regressor.add(Dropout(0.25))\n",
        "    regressor.add(Dense(units = 1))\n",
        "    regressor.compile(optimizer = 'adam',loss = 'mean_squared_error',metrics=['RootMeanSquaredError'])\n",
        "    return regressor"
      ],
      "execution_count": 18,
      "outputs": []
    },
    {
      "cell_type": "code",
      "metadata": {
        "id": "wOu2j6qc8QIY"
      },
      "source": [
        "regressor = RNN_MODEL()"
      ],
      "execution_count": 19,
      "outputs": []
    },
    {
      "cell_type": "code",
      "metadata": {
        "id": "S12bvhrU8QL6",
        "outputId": "19e8cfc1-3b29-45ce-de87-5f933cdc01c7",
        "colab": {
          "base_uri": "https://localhost:8080/"
        }
      },
      "source": [
        "regressor.fit(x_train,y_train,epochs = 50)"
      ],
      "execution_count": 20,
      "outputs": [
        {
          "output_type": "stream",
          "text": [
            "Epoch 1/50\n",
            "220/220 [==============================] - 2s 11ms/step - loss: 0.0267 - root_mean_squared_error: 0.1635\n",
            "Epoch 2/50\n",
            "220/220 [==============================] - 2s 11ms/step - loss: 0.0226 - root_mean_squared_error: 0.1502\n",
            "Epoch 3/50\n",
            "220/220 [==============================] - 2s 11ms/step - loss: 0.0209 - root_mean_squared_error: 0.1447\n",
            "Epoch 4/50\n",
            "220/220 [==============================] - 2s 11ms/step - loss: 0.0184 - root_mean_squared_error: 0.1357\n",
            "Epoch 5/50\n",
            "220/220 [==============================] - 2s 11ms/step - loss: 0.0175 - root_mean_squared_error: 0.1324\n",
            "Epoch 6/50\n",
            "220/220 [==============================] - 2s 11ms/step - loss: 0.0169 - root_mean_squared_error: 0.1301\n",
            "Epoch 7/50\n",
            "220/220 [==============================] - 3s 11ms/step - loss: 0.0166 - root_mean_squared_error: 0.1288\n",
            "Epoch 8/50\n",
            "220/220 [==============================] - 3s 11ms/step - loss: 0.0162 - root_mean_squared_error: 0.1273\n",
            "Epoch 9/50\n",
            "220/220 [==============================] - 2s 10ms/step - loss: 0.0156 - root_mean_squared_error: 0.1248\n",
            "Epoch 10/50\n",
            "220/220 [==============================] - 2s 11ms/step - loss: 0.0156 - root_mean_squared_error: 0.1250\n",
            "Epoch 11/50\n",
            "220/220 [==============================] - 2s 11ms/step - loss: 0.0148 - root_mean_squared_error: 0.1215\n",
            "Epoch 12/50\n",
            "220/220 [==============================] - 3s 11ms/step - loss: 0.0143 - root_mean_squared_error: 0.1196\n",
            "Epoch 13/50\n",
            "220/220 [==============================] - 2s 11ms/step - loss: 0.0139 - root_mean_squared_error: 0.1178\n",
            "Epoch 14/50\n",
            "220/220 [==============================] - 2s 11ms/step - loss: 0.0136 - root_mean_squared_error: 0.1166\n",
            "Epoch 15/50\n",
            "220/220 [==============================] - 2s 11ms/step - loss: 0.0129 - root_mean_squared_error: 0.1135\n",
            "Epoch 16/50\n",
            "220/220 [==============================] - 2s 11ms/step - loss: 0.0122 - root_mean_squared_error: 0.1105\n",
            "Epoch 17/50\n",
            "220/220 [==============================] - 2s 11ms/step - loss: 0.0119 - root_mean_squared_error: 0.1089\n",
            "Epoch 18/50\n",
            "220/220 [==============================] - 2s 11ms/step - loss: 0.0110 - root_mean_squared_error: 0.1048\n",
            "Epoch 19/50\n",
            "220/220 [==============================] - 2s 11ms/step - loss: 0.0104 - root_mean_squared_error: 0.1018\n",
            "Epoch 20/50\n",
            "220/220 [==============================] - 2s 11ms/step - loss: 0.0095 - root_mean_squared_error: 0.0975\n",
            "Epoch 21/50\n",
            "220/220 [==============================] - 2s 11ms/step - loss: 0.0089 - root_mean_squared_error: 0.0941\n",
            "Epoch 22/50\n",
            "220/220 [==============================] - 2s 11ms/step - loss: 0.0083 - root_mean_squared_error: 0.0908\n",
            "Epoch 23/50\n",
            "220/220 [==============================] - 2s 11ms/step - loss: 0.0081 - root_mean_squared_error: 0.0900\n",
            "Epoch 24/50\n",
            "220/220 [==============================] - 2s 11ms/step - loss: 0.0078 - root_mean_squared_error: 0.0883\n",
            "Epoch 25/50\n",
            "220/220 [==============================] - 2s 11ms/step - loss: 0.0075 - root_mean_squared_error: 0.0868\n",
            "Epoch 26/50\n",
            "220/220 [==============================] - 2s 11ms/step - loss: 0.0074 - root_mean_squared_error: 0.0863\n",
            "Epoch 27/50\n",
            "220/220 [==============================] - 2s 11ms/step - loss: 0.0071 - root_mean_squared_error: 0.0845\n",
            "Epoch 28/50\n",
            "220/220 [==============================] - 2s 11ms/step - loss: 0.0070 - root_mean_squared_error: 0.0836\n",
            "Epoch 29/50\n",
            "220/220 [==============================] - 2s 11ms/step - loss: 0.0069 - root_mean_squared_error: 0.0830\n",
            "Epoch 30/50\n",
            "220/220 [==============================] - 2s 11ms/step - loss: 0.0067 - root_mean_squared_error: 0.0818\n",
            "Epoch 31/50\n",
            "220/220 [==============================] - 2s 11ms/step - loss: 0.0066 - root_mean_squared_error: 0.0812\n",
            "Epoch 32/50\n",
            "220/220 [==============================] - 2s 11ms/step - loss: 0.0065 - root_mean_squared_error: 0.0809\n",
            "Epoch 33/50\n",
            "220/220 [==============================] - 2s 11ms/step - loss: 0.0065 - root_mean_squared_error: 0.0809\n",
            "Epoch 34/50\n",
            "220/220 [==============================] - 2s 11ms/step - loss: 0.0064 - root_mean_squared_error: 0.0803\n",
            "Epoch 35/50\n",
            "220/220 [==============================] - 2s 11ms/step - loss: 0.0065 - root_mean_squared_error: 0.0807\n",
            "Epoch 36/50\n",
            "220/220 [==============================] - 2s 11ms/step - loss: 0.0064 - root_mean_squared_error: 0.0799\n",
            "Epoch 37/50\n",
            "220/220 [==============================] - 2s 10ms/step - loss: 0.0063 - root_mean_squared_error: 0.0797\n",
            "Epoch 38/50\n",
            "220/220 [==============================] - 2s 11ms/step - loss: 0.0065 - root_mean_squared_error: 0.0804\n",
            "Epoch 39/50\n",
            "220/220 [==============================] - 2s 11ms/step - loss: 0.0064 - root_mean_squared_error: 0.0799\n",
            "Epoch 40/50\n",
            "220/220 [==============================] - 2s 11ms/step - loss: 0.0063 - root_mean_squared_error: 0.0791\n",
            "Epoch 41/50\n",
            "220/220 [==============================] - 2s 11ms/step - loss: 0.0062 - root_mean_squared_error: 0.0788\n",
            "Epoch 42/50\n",
            "220/220 [==============================] - 2s 11ms/step - loss: 0.0063 - root_mean_squared_error: 0.0792\n",
            "Epoch 43/50\n",
            "220/220 [==============================] - 2s 11ms/step - loss: 0.0063 - root_mean_squared_error: 0.0796\n",
            "Epoch 44/50\n",
            "220/220 [==============================] - 2s 11ms/step - loss: 0.0062 - root_mean_squared_error: 0.0786\n",
            "Epoch 45/50\n",
            "220/220 [==============================] - 2s 11ms/step - loss: 0.0061 - root_mean_squared_error: 0.0781\n",
            "Epoch 46/50\n",
            "220/220 [==============================] - 2s 11ms/step - loss: 0.0062 - root_mean_squared_error: 0.0787\n",
            "Epoch 47/50\n",
            "220/220 [==============================] - 2s 11ms/step - loss: 0.0062 - root_mean_squared_error: 0.0787\n",
            "Epoch 48/50\n",
            "220/220 [==============================] - 2s 11ms/step - loss: 0.0061 - root_mean_squared_error: 0.0781\n",
            "Epoch 49/50\n",
            "220/220 [==============================] - 2s 11ms/step - loss: 0.0060 - root_mean_squared_error: 0.0777\n",
            "Epoch 50/50\n",
            "220/220 [==============================] - 2s 11ms/step - loss: 0.0060 - root_mean_squared_error: 0.0777\n"
          ],
          "name": "stdout"
        },
        {
          "output_type": "execute_result",
          "data": {
            "text/plain": [
              "<tensorflow.python.keras.callbacks.History at 0x7fba0d471fd0>"
            ]
          },
          "metadata": {
            "tags": []
          },
          "execution_count": 20
        }
      ]
    },
    {
      "cell_type": "code",
      "metadata": {
        "id": "Ved_8E4j8QC6",
        "outputId": "bdf59259-3ce8-4428-f73b-372e3991c9c1",
        "colab": {
          "base_uri": "https://localhost:8080/"
        }
      },
      "source": [
        "regressor.evaluate(x_test,y_test)"
      ],
      "execution_count": 21,
      "outputs": [
        {
          "output_type": "stream",
          "text": [
            "74/74 [==============================] - 0s 3ms/step - loss: 0.0054 - root_mean_squared_error: 0.0732\n"
          ],
          "name": "stdout"
        },
        {
          "output_type": "execute_result",
          "data": {
            "text/plain": [
              "[0.005354292690753937, 0.07317303121089935]"
            ]
          },
          "metadata": {
            "tags": []
          },
          "execution_count": 21
        }
      ]
    },
    {
      "cell_type": "code",
      "metadata": {
        "id": "_aKRPB-z8QBk",
        "outputId": "0d5eb20d-04a0-4670-e456-32bee6c05993",
        "colab": {
          "base_uri": "https://localhost:8080/"
        }
      },
      "source": [
        "y_pred = regressor.predict(x_test)\n",
        "y_pred"
      ],
      "execution_count": 22,
      "outputs": [
        {
          "output_type": "execute_result",
          "data": {
            "text/plain": [
              "array([[0.37405384],\n",
              "       [0.48004737],\n",
              "       [0.25551838],\n",
              "       ...,\n",
              "       [0.21016744],\n",
              "       [0.3854599 ],\n",
              "       [0.10814981]], dtype=float32)"
            ]
          },
          "metadata": {
            "tags": []
          },
          "execution_count": 22
        }
      ]
    },
    {
      "cell_type": "code",
      "metadata": {
        "id": "vp15jdyU8P_c",
        "outputId": "96fc503e-2d80-4e06-bd2e-8371e40b1de0",
        "colab": {
          "base_uri": "https://localhost:8080/"
        }
      },
      "source": [
        "y_pred"
      ],
      "execution_count": 23,
      "outputs": [
        {
          "output_type": "execute_result",
          "data": {
            "text/plain": [
              "array([[0.37405384],\n",
              "       [0.48004737],\n",
              "       [0.25551838],\n",
              "       ...,\n",
              "       [0.21016744],\n",
              "       [0.3854599 ],\n",
              "       [0.10814981]], dtype=float32)"
            ]
          },
          "metadata": {
            "tags": []
          },
          "execution_count": 23
        }
      ]
    },
    {
      "cell_type": "code",
      "metadata": {
        "id": "cLp4pF1l8P-F"
      },
      "source": [
        "output = scaler.inverse_transform(y_pred)\n",
        "real_output = []\n",
        "for item in output:\n",
        "    real_output.append((item[0]))"
      ],
      "execution_count": 24,
      "outputs": []
    },
    {
      "cell_type": "code",
      "metadata": {
        "id": "3w0a1Asp8P8w",
        "outputId": "f1bed521-a2dd-4865-814d-cce0ff4a8e68",
        "colab": {
          "base_uri": "https://localhost:8080/",
          "height": 407
        }
      },
      "source": [
        "pd.DataFrame(real_output)"
      ],
      "execution_count": 25,
      "outputs": [
        {
          "output_type": "execute_result",
          "data": {
            "text/html": [
              "<div>\n",
              "<style scoped>\n",
              "    .dataframe tbody tr th:only-of-type {\n",
              "        vertical-align: middle;\n",
              "    }\n",
              "\n",
              "    .dataframe tbody tr th {\n",
              "        vertical-align: top;\n",
              "    }\n",
              "\n",
              "    .dataframe thead th {\n",
              "        text-align: right;\n",
              "    }\n",
              "</style>\n",
              "<table border=\"1\" class=\"dataframe\">\n",
              "  <thead>\n",
              "    <tr style=\"text-align: right;\">\n",
              "      <th></th>\n",
              "      <th>0</th>\n",
              "    </tr>\n",
              "  </thead>\n",
              "  <tbody>\n",
              "    <tr>\n",
              "      <th>0</th>\n",
              "      <td>127.066086</td>\n",
              "    </tr>\n",
              "    <tr>\n",
              "      <th>1</th>\n",
              "      <td>163.072098</td>\n",
              "    </tr>\n",
              "    <tr>\n",
              "      <th>2</th>\n",
              "      <td>86.799591</td>\n",
              "    </tr>\n",
              "    <tr>\n",
              "      <th>3</th>\n",
              "      <td>-4.138386</td>\n",
              "    </tr>\n",
              "    <tr>\n",
              "      <th>4</th>\n",
              "      <td>90.875748</td>\n",
              "    </tr>\n",
              "    <tr>\n",
              "      <th>...</th>\n",
              "      <td>...</td>\n",
              "    </tr>\n",
              "    <tr>\n",
              "      <th>2335</th>\n",
              "      <td>109.133400</td>\n",
              "    </tr>\n",
              "    <tr>\n",
              "      <th>2336</th>\n",
              "      <td>39.456913</td>\n",
              "    </tr>\n",
              "    <tr>\n",
              "      <th>2337</th>\n",
              "      <td>71.393875</td>\n",
              "    </tr>\n",
              "    <tr>\n",
              "      <th>2338</th>\n",
              "      <td>130.940735</td>\n",
              "    </tr>\n",
              "    <tr>\n",
              "      <th>2339</th>\n",
              "      <td>36.738491</td>\n",
              "    </tr>\n",
              "  </tbody>\n",
              "</table>\n",
              "<p>2340 rows × 1 columns</p>\n",
              "</div>"
            ],
            "text/plain": [
              "               0\n",
              "0     127.066086\n",
              "1     163.072098\n",
              "2      86.799591\n",
              "3      -4.138386\n",
              "4      90.875748\n",
              "...          ...\n",
              "2335  109.133400\n",
              "2336   39.456913\n",
              "2337   71.393875\n",
              "2338  130.940735\n",
              "2339   36.738491\n",
              "\n",
              "[2340 rows x 1 columns]"
            ]
          },
          "metadata": {
            "tags": []
          },
          "execution_count": 25
        }
      ]
    },
    {
      "cell_type": "code",
      "metadata": {
        "id": "kar_iE0B8P7T"
      },
      "source": [
        "value['predicted'] = pd.DataFrame(real_output)"
      ],
      "execution_count": null,
      "outputs": []
    },
    {
      "cell_type": "code",
      "metadata": {
        "id": "p-qTqMim8P3Q"
      },
      "source": [
        "plt.rcParams[\"figure.figsize\"] = (100,100)"
      ],
      "execution_count": 32,
      "outputs": []
    },
    {
      "cell_type": "code",
      "metadata": {
        "id": "sQFFo8lZ8P1d"
      },
      "source": [
        "plt.plot(value)"
      ],
      "execution_count": null,
      "outputs": []
    },
    {
      "cell_type": "code",
      "metadata": {
        "id": "0bjXodTl_6Cs",
        "outputId": "f30fd66e-72cf-42b0-9434-fceec9237181",
        "colab": {
          "base_uri": "https://localhost:8080/"
        }
      },
      "source": [
        "type(value)"
      ],
      "execution_count": 29,
      "outputs": [
        {
          "output_type": "execute_result",
          "data": {
            "text/plain": [
              "pandas.core.frame.DataFrame"
            ]
          },
          "metadata": {
            "tags": []
          },
          "execution_count": 29
        }
      ]
    },
    {
      "cell_type": "code",
      "metadata": {
        "id": "HwlE1WyLC2QN"
      },
      "source": [
        ""
      ],
      "execution_count": null,
      "outputs": []
    }
  ]
}